{
 "cells": [
  {
   "cell_type": "code",
   "execution_count": 2,
   "id": "bd0203a0",
   "metadata": {},
   "outputs": [],
   "source": [
    "import numpy as np\n",
    "import pandas as pd"
   ]
  },
  {
   "cell_type": "code",
   "execution_count": 3,
   "id": "a32b328c",
   "metadata": {},
   "outputs": [],
   "source": [
    "from data_cleaning import clean_data"
   ]
  },
  {
   "cell_type": "code",
   "execution_count": 4,
   "id": "daf6b783",
   "metadata": {},
   "outputs": [],
   "source": [
    "data = pd.read_csv(\"housing_data_full.csv\")"
   ]
  },
  {
   "cell_type": "code",
   "execution_count": 6,
   "id": "bba701d5",
   "metadata": {},
   "outputs": [],
   "source": [
    "data = clean_data(data)"
   ]
  },
  {
   "cell_type": "code",
   "execution_count": 7,
   "id": "0f7265e3",
   "metadata": {},
   "outputs": [
    {
     "data": {
      "text/plain": [
       "(26059, 39)"
      ]
     },
     "execution_count": 7,
     "metadata": {},
     "output_type": "execute_result"
    }
   ],
   "source": [
    "data.shape"
   ]
  },
  {
   "cell_type": "code",
   "execution_count": 8,
   "id": "c6c97cd4",
   "metadata": {},
   "outputs": [
    {
     "data": {
      "text/plain": [
       "Index(['Listing_Id', 'Price', 'Size', 'N_Bedrooms', 'N_Bathrooms', 'Type',\n",
       "       'Available From', 'Agency Commission', 'Floor', 'Furnished',\n",
       "       'Main Window Facing', 'District', 'Area', 'Compound', 'Metro',\n",
       "       'Latitude', 'Longtitude', 'Agent', 'Description', 'First_post',\n",
       "       'Refresh', 'Balcony', 'Landlord lives in Shanghai', 'Oven',\n",
       "       'Recently renovated', 'Air Filter', 'English Speaking Landlord',\n",
       "       'Fitness Centers', 'Floor Heating', 'Garden', 'Historic Building',\n",
       "       'Large Storage Room', 'Parking', 'Playground', 'Pool', 'Tennis Courts',\n",
       "       'Wall heating', 'Water Filter', 'Pets_allowed'],\n",
       "      dtype='object')"
      ]
     },
     "execution_count": 8,
     "metadata": {},
     "output_type": "execute_result"
    }
   ],
   "source": [
    "data.columns"
   ]
  },
  {
   "cell_type": "code",
   "execution_count": 9,
   "id": "255048bf",
   "metadata": {},
   "outputs": [],
   "source": [
    "apts = data.drop(columns=['Agency Commission','Agent', 'Description'])"
   ]
  },
  {
   "cell_type": "code",
   "execution_count": 11,
   "id": "e5f2e55d",
   "metadata": {},
   "outputs": [],
   "source": [
    "agents = data[['Listing_Id','Price','Agency Commission','Agent']]"
   ]
  },
  {
   "cell_type": "code",
   "execution_count": 24,
   "id": "8296667d",
   "metadata": {},
   "outputs": [],
   "source": [
    "agents.to_csv('agents.csv')"
   ]
  },
  {
   "cell_type": "code",
   "execution_count": 21,
   "id": "64a65ea6",
   "metadata": {},
   "outputs": [],
   "source": [
    "apts.to_csv('apts.csv')"
   ]
  },
  {
   "cell_type": "code",
   "execution_count": 22,
   "id": "44f69324",
   "metadata": {},
   "outputs": [
    {
     "data": {
      "text/plain": [
       "array(['Flora', 'Jeffrey Liu', 'Miumiu.Lin', 'James',\n",
       "       ' WannaHome Real Estate 02', 'WannaHome Real Estate 04',\n",
       "       'Catherine', 'chao', 'Steven Chen ', 'Eric Zhang',\n",
       "       'CH Real Estate ', 'Jason', 'Suki', 'Somnus', 'April Ji', 'qin',\n",
       "       'Anna', 'Vivian', 'Lillian', 'Harris Lv', 'raylene', 'steve Zhao',\n",
       "       'vicki shen', 'Sean', 'WannaHome Real Estate 01', 'shbeibei',\n",
       "       'Frank', 'Jamie', 'Times Property Agency', 'Agent Daniel', 'Jaden',\n",
       "       'Jane Lu', 'Kenny Ren ', 'Phoebe14134', 'Hevian ', 'ivy feng',\n",
       "       'Christine', 'Eason Yang', 'Ashlee ', 'Brad                  ',\n",
       "       'June', 'leo', 'Judy Xu ', 'Angie', 'wendyxiao', 'Lisa ', 'MP1965',\n",
       "       'Bee', 'andy', 'Yvonne', 'Bob', 'Jaden ', 'Michael Wang', 'Sienna',\n",
       "       'KathyRealty', 'Fiona.liu', 'William Zhang', 'tanghouse316',\n",
       "       'Pudong property Agency', 'Angel Zhang', 'Joris Kou', 'Alex',\n",
       "       'Kevin Zhong', 'Jie', 'wyl8', 'Emma Chang', 'Lynn', 'becoolbenice',\n",
       "       'respuela', 'MikeZhang', 'Mandy', 'Elisa  ', 'Alisadean',\n",
       "       'WannaHome Real Estate 03', 'Jacky Lu', 'Tommy chen', 'estevez56',\n",
       "       'User 9056', 'JackJi', 'luo_wenge', 'Reina', 'User 2065', '邹君',\n",
       "       'Amy', 'xiaobin2941', 'Casa', 'peterswy', 'Joanna Tan', 'Vera',\n",
       "       'Jessie Real Estate', 'sandandpat', 'CherryShanghai', 'Jerry',\n",
       "       'htczjason', 'wendywutt', 'SUMMER ONE', 'Broadway Real Estate',\n",
       "       'Botton22', 'Michael ', 'Hyde Jiang ', 'Vietnga.le@icloud.com',\n",
       "       'Jenkins Li', 'raholmes', 'scaulier69', 'alvatsung', 'Anna Lee',\n",
       "       'NikhilNair', 'Uncle Tom', 'kirstie.chilvers', 'leonidkrykhtin',\n",
       "       'Mike ', 'WH', 'Cal', 'User 7824', 'eugenioettore', 'Kenny Ren',\n",
       "       'diborsh', 'User 1174', 'Karen.ge', 'Green', 'junhdoe',\n",
       "       'User 6965', 'Yashin', 'wei xiao xing', 'Blair', 'Lareesa',\n",
       "       'Aimee', 'Chingmy Chow ', 'CLEMENTINETHERY', 'Mauricio1',\n",
       "       'duhsinyu', 'Lexi', '51890562', 'VBDC', 'bluesocks', '119167662',\n",
       "       'SilveRyan', 'September', 'LePoi', 'User 1655', 'User 6981', 'Bao',\n",
       "       'Natalie', 'Nelson Zhang', 'Michael Caddy', 'User 2470', 'Carol',\n",
       "       'User 2401', 'Angie Wu', 'ShamCN', 'martacognetta1', 'Mei',\n",
       "       'kmadono', '13847466', 'valleyrs', 'jenneec', 'David', '157158480',\n",
       "       'Pierre DU', 'PavelL', 'Ivo', 'r.godvree', 'Ever84', 'User 9424',\n",
       "       'rosawu', 'Morgen property', 'User 0609', 'c84', 'taniagretton',\n",
       "       'hazechann', 'ahahime', 'User 2313', 'ShanghaiMartini', 'helen',\n",
       "       'WannaHome Real Estate 05', 'LeonieK', 'Sammy', 'joeitaly',\n",
       "       'User 7272', 'Shenelle', 'Manuela33', 'User 7404', 'bafeide',\n",
       "       'Miyaaa', 'ibizapu', 'peizx81', 'morgane.marie.lecoz',\n",
       "       'termmywang', 'venelabagriel', 'ieuanagriffiths', 'Rongzzz',\n",
       "       'fymfn', 'Shanawuss', 'SashaN', 'josh00152003', 'lodovicob',\n",
       "       'Laurine', 'DATecher', 'Wendy', 'Londoner7', 'Ling', 'Allen',\n",
       "       'Nick2016', 'User 0623', 'xbajs00', 'dml39', 'lv pengpeng',\n",
       "       'User 3326', 'williamwuhao', 'vladmyself', 'DonovanHall',\n",
       "       'User 8729', '李黎明', 'helene974', 'User 8461', 'Homelink',\n",
       "       'zio_ina', 'Irene Zhu', 'Ijaaa', 'bernardo80', 'fionaxu33',\n",
       "       'sarahna7', '3630618942', 'Grace', 'nivekha29', 'Herbst', 'Tate B',\n",
       "       'Lucas_Yan', 'ð\\x9f\\x8d\\x95Angelicað\\x9f\\x8cª', 'BenWu',\n",
       "       'User 0660', 'Annie', 'ouyang', '瓮秋琢', 'kellyjayglover18',\n",
       "       'Romain DG', 'Katherine ', 'Babaliu', 'Bahamut2', 'anex george',\n",
       "       'User 7161', 'qiu.zhong', 'Chenz', 'User 2867', 'chloechu18184',\n",
       "       'dream home', 'User 6651', 'Charlenex', 'victoria26', 'User 964 ',\n",
       "       'Simon', 'Silvia Capraro', 'Zefx', 'Ja9jo9', 'zushiki24',\n",
       "       'jemarques2021', 'xuhuiapartment', 'Pippin', 'User 2800', 'Jolin',\n",
       "       'thibc', 'geilia', 'yanrosey', 'User 6834', 'WeiweiV', 'Alice_guh',\n",
       "       'User 7463', 'olisch', 'gesuwen', 'User 9097', 'Tu6 Housing',\n",
       "       'MilesSHG', 'Zoe', 'Tony', 'Home ofSh', 'User 6027', 'Hakala.K',\n",
       "       'Joe', 'xmaphl', 'ggsghanghai', 'johnzeng', 'brana.lalin',\n",
       "       'BrunoShanghai', 'victor.moncho', 'Fiona Xu', 'SahilA',\n",
       "       'User 6028', 'francesco.caruso98mo', 'Aubrey-Wang', 'd.ripley',\n",
       "       'Gillbert1900', 'Jundojundo', 'User 8732',\n",
       "       'Jessica                      ', 'richard.egan88', 'Lydiawang1234',\n",
       "       'Cole', 'mario.bermeojr', 'Lostin15', '韩明文', 'Luann', 'igr89',\n",
       "       'User 5218', '2183352896', 'stepanzel', '沈 勇', 'Andy Chou',\n",
       "       'kaan2828', 'jay', 'adrienj', 'sobyanina', 'yonglishg', 'amh',\n",
       "       'User 4490', 'User 6337', 'User 3871'], dtype=object)"
      ]
     },
     "execution_count": 22,
     "metadata": {},
     "output_type": "execute_result"
    }
   ],
   "source": [
    "agents['Agent']."
   ]
  },
  {
   "cell_type": "code",
   "execution_count": null,
   "id": "10794fb1",
   "metadata": {},
   "outputs": [],
   "source": []
  }
 ],
 "metadata": {
  "kernelspec": {
   "display_name": "Python 3 (ipykernel)",
   "language": "python",
   "name": "python3"
  },
  "language_info": {
   "codemirror_mode": {
    "name": "ipython",
    "version": 3
   },
   "file_extension": ".py",
   "mimetype": "text/x-python",
   "name": "python",
   "nbconvert_exporter": "python",
   "pygments_lexer": "ipython3",
   "version": "3.10.6"
  },
  "toc": {
   "base_numbering": 1,
   "nav_menu": {},
   "number_sections": true,
   "sideBar": true,
   "skip_h1_title": false,
   "title_cell": "Table of Contents",
   "title_sidebar": "Contents",
   "toc_cell": false,
   "toc_position": {},
   "toc_section_display": true,
   "toc_window_display": false
  }
 },
 "nbformat": 4,
 "nbformat_minor": 5
}
