{
 "cells": [
  {
   "cell_type": "code",
   "execution_count": 110,
   "id": "e9580ba7",
   "metadata": {},
   "outputs": [],
   "source": [
    "import schedule\n",
    "import time\n",
    "import pandas as pd\n",
    "import requests\n",
    "from bs4 import BeautifulSoup\n",
    "import re\n",
    "import numpy as np"
   ]
  },
  {
   "cell_type": "code",
   "execution_count": 2,
   "id": "8214185c",
   "metadata": {},
   "outputs": [],
   "source": [
    "baseurl = 'https://www.smartshanghai.com/housing/apartments-rent'"
   ]
  },
  {
   "cell_type": "code",
   "execution_count": 157,
   "id": "67db8dd3",
   "metadata": {},
   "outputs": [],
   "source": [
    "def get_listing_id(n):\n",
    "    Listing_id = []\n",
    "    Price = []\n",
    "    for page in range(n):        \n",
    "        params = {'page': page}\n",
    "        response = requests.get(baseurl,params)\n",
    "        if response.status_code == 200:\n",
    "            soup = BeautifulSoup(response.content, \"html.parser\")\n",
    "            content = soup.find_all(\"div\", class_ = 'cont')  \n",
    "        else:\n",
    "            print(response.status_code)\n",
    "        \n",
    "        for i in range(len(content)):\n",
    "            Listing_id.append(content[i].find('div').attrs['data-listingid'])\n",
    "            Price.append(''.join(contents[i].find('div',class_=\"price\").text.strip().split()[1].split(',')))\n",
    "    return pd.DataFrame({'listing_id': Listing_id, 'price': Price})"
   ]
  },
  {
   "cell_type": "code",
   "execution_count": 165,
   "id": "b5446c47",
   "metadata": {},
   "outputs": [],
   "source": [
    "new = get_listing_id(1)"
   ]
  },
  {
   "cell_type": "code",
   "execution_count": 160,
   "id": "6c96dc42",
   "metadata": {},
   "outputs": [
    {
     "data": {
      "text/plain": [
       "15"
      ]
     },
     "execution_count": 160,
     "metadata": {},
     "output_type": "execute_result"
    }
   ],
   "source": [
    "len(new)"
   ]
  },
  {
   "cell_type": "code",
   "execution_count": 172,
   "id": "5b49c2a2",
   "metadata": {},
   "outputs": [],
   "source": [
    "ex = new[:1]"
   ]
  },
  {
   "cell_type": "code",
   "execution_count": null,
   "id": "4cfb39e3",
   "metadata": {},
   "outputs": [],
   "source": []
  },
  {
   "cell_type": "code",
   "execution_count": null,
   "id": "fa023dd8",
   "metadata": {},
   "outputs": [],
   "source": []
  },
  {
   "cell_type": "code",
   "execution_count": 204,
   "id": "fd2dbc90",
   "metadata": {},
   "outputs": [
    {
     "name": "stdout",
     "output_type": "stream",
     "text": [
      "Apartments\n"
     ]
    }
   ],
   "source": [
    "for list_id in ex.listing_id:\n",
    "    response = requests.get(f'{baseurl}/{list_id}')\n",
    "    if response.status_code == 200:\n",
    "        soup_info = BeautifulSoup(response.content, \"html.parser\")\n",
    "\n",
    "    #each list's information\n",
    "    try:\n",
    "        detail = soup_info.find('label', text='Type:').find_next_sibling('div').get_text(strip=True)\n",
    "    except IndexError:\n",
    "        print(list_id)\n",
    "    \n",
    "\n",
    "    print(detail)"
   ]
  },
  {
   "cell_type": "code",
   "execution_count": 203,
   "id": "e40bc500",
   "metadata": {},
   "outputs": [
    {
     "data": {
      "text/plain": [
       "<label>Type:</label>"
      ]
     },
     "execution_count": 203,
     "metadata": {},
     "output_type": "execute_result"
    }
   ],
   "source": [
    "detail[0].find('label', text='Type:')"
   ]
  },
  {
   "cell_type": "code",
   "execution_count": 184,
   "id": "0a6445f3",
   "metadata": {},
   "outputs": [
    {
     "name": "stdout",
     "output_type": "stream",
     "text": [
      "0\n",
      "Apartments\n",
      "1\n",
      "Available Now\n",
      "2\n",
      "12 months\n",
      "3\n",
      "1 months' rent\n",
      "4\n",
      "1 months' rent\n",
      "5\n",
      "50%\n",
      "6\n",
      "2 Bedrooms, 1 Bathrooms\n",
      "7\n",
      "75 sqm\n",
      "8\n",
      "13\n",
      "9\n",
      "Furnished\n",
      "10\n",
      "South\n",
      "11\n",
      "Xuhui\n",
      "12\n",
      "Xujiahui\n",
      "13\n",
      "Zhaofeng Dijngyuan  /  兆丰帝景苑\n",
      "14\n",
      "5 minutes walk to Xujiahui on line(s)     \n",
      "1\n",
      "\n",
      "\n",
      "9\n",
      "\n",
      "\n",
      "11\n",
      "15\n",
      "75 square meter of modern design and quality furniture , artistic paintings and green decorations \n",
      "\r\n",
      "whole house underfloor heating and central air conditioning\n",
      "\r\n",
      "Close to Xujiahui park, good for a night run or morning walk , metro city mall nearby, easy for shopping or dining \n",
      "\r\n",
      "password lock for viewing at any time\n"
     ]
    }
   ],
   "source": [
    "for indx, j in enumerate(detail):\n",
    "    print(indx)\n",
    "    print(j.text.strip())"
   ]
  },
  {
   "cell_type": "code",
   "execution_count": 185,
   "id": "98662224",
   "metadata": {},
   "outputs": [
    {
     "name": "stdout",
     "output_type": "stream",
     "text": [
      "0\n",
      "Apartments\n",
      "1\n",
      "Available Now\n",
      "2\n",
      "12 months\n",
      "3\n",
      "1 months' rent\n",
      "4\n",
      "1 months' rent\n",
      "5\n",
      "50%\n",
      "6\n",
      "2 Bedrooms, 1 Bathrooms\n",
      "7\n",
      "75 sqm\n",
      "8\n",
      "13\n",
      "9\n",
      "Furnished\n",
      "10\n",
      "South\n",
      "11\n",
      "Xuhui\n",
      "12\n",
      "Xujiahui\n",
      "13\n",
      "Zhaofeng Dijngyuan  /  兆丰帝景苑\n",
      "14\n",
      "5 minutes walk to Xujiahui on line(s)     \n",
      "1\n",
      "\n",
      "\n",
      "9\n",
      "\n",
      "\n",
      "11\n",
      "15\n",
      "75 square meter of modern design and quality furniture , artistic paintings and green decorations \n",
      "\r\n",
      "whole house underfloor heating and central air conditioning\n",
      "\r\n",
      "Close to Xujiahui park, good for a night run or morning walk , metro city mall nearby, easy for shopping or dining \n",
      "\r\n",
      "password lock for viewing at any time\n"
     ]
    }
   ],
   "source": [
    "for indx, j in enumerate(detail):\n",
    "    print(indx)\n",
    "    print(j.text.strip())"
   ]
  },
  {
   "cell_type": "code",
   "execution_count": null,
   "id": "b9205ed2",
   "metadata": {},
   "outputs": [],
   "source": []
  },
  {
   "cell_type": "code",
   "execution_count": null,
   "id": "32e37066",
   "metadata": {},
   "outputs": [],
   "source": []
  },
  {
   "cell_type": "code",
   "execution_count": 16,
   "id": "5e01c34e",
   "metadata": {},
   "outputs": [],
   "source": [
    "def page_data(data):\n",
    "\n",
    "    features = ['Type', 'Available From', 'Agency Commission', 'Rooms', 'Size',\n",
    "               'Floor', 'Furnished', 'Main Window Facing', 'District', 'Area',\n",
    "                'Compound', 'Metro Station', 'Longtitue', 'Latitude', 'posting agent', 'description', 'first_post', 'Refresh']\n",
    "    \n",
    "\n",
    "    for list_id in data.Listing_Id:\n",
    "        response = requests.get(f'{baseurl}/{list_id}')\n",
    "        if response.status_code == 200:\n",
    "            soup_info = BeautifulSoup(response.content, \"html.parser\")\n",
    "\n",
    "        \n",
    "        #each list's information\n",
    "        try:\n",
    "            detail = soup_info.find_all('div', class_='details')[0].find_all(name='div')\n",
    "        except IndexError:\n",
    "            print(list_id)\n",
    "            \n",
    "        #from 'Type' to 'Area'\n",
    "        for indx, j in enumerate(detail[0:-3]):\n",
    "            house_data.loc[list_id,features[indx]] = j.text.strip()\n",
    "        \n",
    "        \n",
    "        #'Compound'\n",
    "        house_data.loc[list_id,\"Compound\"] = detail[-3].text.split('/')[0].strip()\n",
    "        \n",
    "        \n",
    "        # metro station\n",
    "        text = detail[-2].text \n",
    "        try:\n",
    "            found = re.search('walk to(.+?)on line', text).group(1)\n",
    "        except AttributeError:\n",
    "            found = ''\n",
    "        house_data.loc[list_id,\"Metro\"] = found.strip()\n",
    "        \n",
    "        #long & lat\n",
    "        long = soup_info.find('span', itemprop=\"longitude\").text\n",
    "        lat = soup_info.find('span', itemprop=\"latitude\").text\n",
    "        house_data.loc[list_id,\"Longtitude\"] = long\n",
    "        house_data.loc[list_id,\"Latitude\"] = lat\n",
    "        \n",
    "        #posting agent\n",
    "        house_data.loc[list_id,\"Agent\"] = soup_info.find('p', class_='username').text\n",
    "        \n",
    "        #description\n",
    "        house_data.loc[list_id,\"Description\"] = soup_info.find('div', class_='description').text.strip()\n",
    "        \n",
    "        #post and views\n",
    "        post = soup_info.find('div', class_='posted-and-views').text.strip().split(',')\n",
    "        \n",
    "        house_data.loc[list_id,\"First_post\"] = ' '.join(post[0].split(' ')[1:])\n",
    "        house_data.loc[list_id,\"Refresh\"] = ' '.join(post[2].split(' ')[2:])\n",
    "        \n",
    "        #values.append(value)  # all listings\n",
    "        \n",
    "        \n",
    "        #amenities \n",
    "        amenity_pos = soup_info.find('div', class_='amenities').find_all('li', class_='positive')\n",
    "        amenity_neg = soup_info.find('div', class_='amenities').find_all('li', class_='negative')\n",
    "        \n",
    "        amenity_pos = [i.text.strip() for i in amenity_pos]\n",
    "        amenity_neg = [i.text.strip() for i in amenity_neg]\n",
    "        \n",
    "        for indx, amenity in enumerate(amenity_pos):\n",
    "            house_data.loc[list_id,amenity_pos[indx]] = 1\n",
    "        \n",
    "        for indx, amenity in enumerate(amenity_neg):\n",
    "            house_data.loc[list_id, amenity_neg[indx]] = 0\n",
    "\n",
    "        \n",
    "    return house_data"
   ]
  },
  {
   "cell_type": "code",
   "execution_count": 58,
   "id": "3be8f8eb",
   "metadata": {},
   "outputs": [],
   "source": [
    "def details(raw):\n",
    "    for list_id in raw['Listing_Id']:\n",
    "        response = requests.get(f'{baseurl}/{list_id}')\n",
    "        if response.status_code == 200:\n",
    "            soup_info = BeautifulSoup(response.content, \"html.parser\")\n",
    "            amenities = soup_info.find_all('div', class_='amenities')[0].find_all('li', class_=['positive', 'negative'])\n",
    "\n",
    "        amenities_dict = {}\n",
    "        for amenity_li in amenities:\n",
    "            amenity = amenity_li.text.strip()\n",
    "            amenities_dict[amenity] = 1 if 'positive' in amenity_li['class'] else 0\n",
    "\n",
    "                # Add the amenity to the corresponding row in the original DataFrame\n",
    "        raw.loc[raw['Listing_Id'] == list_id, list(amenities_dict.keys())] = pd.DataFrame([amenities_dict])\n",
    "        #raw.loc[raw['Listing_Id'] == list_id, amenity_name] = status\n",
    "    return raw"
   ]
  },
  {
   "cell_type": "code",
   "execution_count": 59,
   "id": "48afff81",
   "metadata": {},
   "outputs": [
    {
     "name": "stderr",
     "output_type": "stream",
     "text": [
      "/tmp/ipykernel_6435/148635612.py:14: SettingWithCopyWarning: \n",
      "A value is trying to be set on a copy of a slice from a DataFrame.\n",
      "Try using .loc[row_indexer,col_indexer] = value instead\n",
      "\n",
      "See the caveats in the documentation: https://pandas.pydata.org/pandas-docs/stable/user_guide/indexing.html#returning-a-view-versus-a-copy\n",
      "  raw.loc[raw['Listing_Id'] == list_id, list(amenities_dict.keys())] = pd.DataFrame([amenities_dict])\n"
     ]
    },
    {
     "data": {
      "text/html": [
       "<div>\n",
       "<style scoped>\n",
       "    .dataframe tbody tr th:only-of-type {\n",
       "        vertical-align: middle;\n",
       "    }\n",
       "\n",
       "    .dataframe tbody tr th {\n",
       "        vertical-align: top;\n",
       "    }\n",
       "\n",
       "    .dataframe thead th {\n",
       "        text-align: right;\n",
       "    }\n",
       "</style>\n",
       "<table border=\"1\" class=\"dataframe\">\n",
       "  <thead>\n",
       "    <tr style=\"text-align: right;\">\n",
       "      <th></th>\n",
       "      <th>Listing_Id</th>\n",
       "      <th>Price</th>\n",
       "      <th>Size</th>\n",
       "      <th>N_Bedrooms</th>\n",
       "      <th>N_Bathrooms</th>\n",
       "      <th>Air Filter</th>\n",
       "      <th>Balcony</th>\n",
       "      <th>English Speaking Landlord</th>\n",
       "      <th>Fitness Centers</th>\n",
       "      <th>Floor Heating</th>\n",
       "      <th>...</th>\n",
       "      <th>Large Storage Room</th>\n",
       "      <th>Oven</th>\n",
       "      <th>Parking</th>\n",
       "      <th>Pets Allowed\\n\\n                                                                                    \\n                                                true</th>\n",
       "      <th>Playground</th>\n",
       "      <th>Pool</th>\n",
       "      <th>Tennis Courts</th>\n",
       "      <th>Villa</th>\n",
       "      <th>Wall heating</th>\n",
       "      <th>Water Filter</th>\n",
       "    </tr>\n",
       "  </thead>\n",
       "  <tbody>\n",
       "    <tr>\n",
       "      <th>1</th>\n",
       "      <td>1605144</td>\n",
       "      <td>11000</td>\n",
       "      <td>60</td>\n",
       "      <td>1</td>\n",
       "      <td>1</td>\n",
       "      <td>NaN</td>\n",
       "      <td>NaN</td>\n",
       "      <td>NaN</td>\n",
       "      <td>NaN</td>\n",
       "      <td>NaN</td>\n",
       "      <td>...</td>\n",
       "      <td>NaN</td>\n",
       "      <td>NaN</td>\n",
       "      <td>NaN</td>\n",
       "      <td>NaN</td>\n",
       "      <td>NaN</td>\n",
       "      <td>NaN</td>\n",
       "      <td>NaN</td>\n",
       "      <td>NaN</td>\n",
       "      <td>NaN</td>\n",
       "      <td>NaN</td>\n",
       "    </tr>\n",
       "  </tbody>\n",
       "</table>\n",
       "<p>1 rows × 23 columns</p>\n",
       "</div>"
      ],
      "text/plain": [
       "  Listing_Id  Price Size N_Bedrooms N_Bathrooms  Air Filter  Balcony  \\\n",
       "1    1605144  11000   60          1           1         NaN      NaN   \n",
       "\n",
       "   English Speaking Landlord  Fitness Centers  Floor Heating  ...  \\\n",
       "1                        NaN              NaN            NaN  ...   \n",
       "\n",
       "   Large Storage Room  Oven  Parking  \\\n",
       "1                 NaN   NaN      NaN   \n",
       "\n",
       "   Pets Allowed\\n\\n                                                                                    \\n                                                true  \\\n",
       "1                                                NaN                                                                                                            \n",
       "\n",
       "   Playground  Pool  Tennis Courts  Villa  Wall heating  Water Filter  \n",
       "1         NaN   NaN            NaN    NaN           NaN           NaN  \n",
       "\n",
       "[1 rows x 23 columns]"
      ]
     },
     "execution_count": 59,
     "metadata": {},
     "output_type": "execute_result"
    }
   ],
   "source": [
    "details(raw)"
   ]
  },
  {
   "cell_type": "code",
   "execution_count": 86,
   "id": "0e67fdb9",
   "metadata": {
    "collapsed": true
   },
   "outputs": [
    {
     "data": {
      "text/plain": [
       "b'<!doctype html>\\n<html lang=\"en\">\\n<head prefix=\"og: http://ogp.me/ns#\">\\n    <meta charset=\"UTF-8\">\\n    <meta name=\"viewport\" content=\"width=device-width, initial-scale=1.0, maximum-scale=1.0, user-scalable=no\" />\\n    <title>Impressive 1BR lane house | Jing\\'an Temple L2/7 | Highceiling | Terrace | SmartShanghai</title>\\n    \\n    <meta property=\"fb:app_id\" content=\"1333356330341868\"/>\\n<meta property=\"og:type\" content=\"website\"/>\\n<meta property=\"og:url\" content=\"https://www.smartshanghai.com/housing/apartments-rent/1605144\"/>\\n<meta property=\"og:site_name\" content=\"SmartShanghai.com\"/>\\n<meta property=\"og:title\" content=\"Impressive 1BR lane house | Jing\\'an Temple L2/7 | Highceiling | Terrace\"/>\\n<meta property=\"og:description\" content=\"Layout: 1 Br/1 Bt Floor: 3F Price: RMB 11000 Metro: 10 minutes walking to L2/11 at Jiangsu rd metro station. 5 minutes walking to L2/7 at Jing&rsquo;a...\"/>\\n<meta name=\"description\" content=\"Layout: 1 Br/1 Bt Floor: 3F Price: RMB 11000 Metro: 10 minutes walking to L2/11 at Jiangsu rd metro station. 5 minutes walking to L2/7 at Jing&rsquo;a...\"/>\\n<meta property=\"og:image\" content=\"https://images.smartshanghai.com.cn/uploads/compressed/2024/08/06/2024a847-e609-4406-bb6f-201aaac669c0.jpg.330.220.webP\"/>\\n            <link rel=\"stylesheet\" type=\"text/css\" href=\"https://static.smartshanghai.com/css/smartshanghai.min.1722504931.css\">\\n    <link rel=\"stylesheet\" type=\"text/css\" href=\"https://static.smartshanghai.com/css/smartshanghai_v8.min.1722504928.css\">\\n    \\n    <link rel=\"icon\" type=\"image/png\" href=\"https://static.smartshanghai.com/img/favicon.png\">\\n    <link rel=\"icon\" type=\"image/x-icon\" href=\"https://static.smartshanghai.com/img/favicon.ico\">\\n\\n            <script async src=\"https://www.googletagmanager.com/gtag/js?id=UA-35757037-1\"></script>\\n\\n<script>\\n    window.dataLayer = window.dataLayer || [];\\n    function gtag() {\\n        dataLayer.push(arguments);\\n    }\\n    gtag(\\'js\\', new Date());\\n    gtag(\\'config\\', \\'UA-35757037-1\\');\\n</script>\\n    \\n    \\n    <script type=\"text/javascript\" src=\"https://static.smartshanghai.com/js/jquery-2.1.1.min.js\"></script>\\n    <script type=\"text/javascript\" src=\"https://static.smartshanghai.com/js/vendor.min.1722504936.js\"></script>\\n    <script type=\"text/javascript\" src=\"https://static.smartshanghai.com/js/javascripts.min.1709740003.js\"></script>\\n    <script type=\"text/javascript\" src=\"https://static.smartshanghai.com/js/public.min.1722504944.js\"></script>\\n    <script type=\"text/javascript\">\\n        document.addEventListener(\\'DOMContentLoaded\\', function() {\\n            window.smsh.methods.setConfig({\"debug\":false,\"user\":null,\"apiBaseUrl\":\"https:\\\\/\\\\/www.smartshanghai.com\\\\/api2\",\"apiKey\":\"74697295525def9620013f39488d9ace93b3d666\",\"googleAnalyticsKey\":\"UA-35757037-1\"});\\n            window.smsh.methods.init();\\n            // window.huangfeitracking.methods.init();\\n        });\\n    </script>\\n\\n\\n    \\n    <script type=\"text/javascript\" src=\"https://static.smartshanghai.com/js/housing.min.1722504944.js\"></script>\\n    <script type=\"text/javascript\" src=\"https://static.smartshanghai.com/js/venueListing.min.1722504944.js\"></script>\\n    <script type=\"text/javascript\">\\n        window.addEventListener(\"DOMContentLoaded\", function() {\\n\\n            const config = window.smsh.methods.getConfig();\\n            window.smshHousing.methods.init(config);\\n\\n            try {\\n                window.smsh.methods.listingMessager(\\'#privateMessageForm\\', \\'housing\\', 1605144);\\n            } catch (error) {\\n                console.log(error);\\n            }\\n\\n            //\\xe8\\xaf\\x84\\xe4\\xbb\\xb7\\xe7\\x89\\xb9\\xe6\\x95\\x88(\\xe4\\xb8\\xaa\\xe4\\xba\\xba)\\n            $(\\'.flag\\').on(\\'click\\',function(){\\n                $(\\'#housing-listing-report-listing\\').show()\\n            });\\n            $(\\'.agencypwarningred\\').on(\\'click\\',function(){\\n                $(\\'#housing-listing-report-listing\\').show()\\n            });\\n            $(\\'#housing-listing-report-listing\\').on(\\'click\\',function(){\\n                $(\\'#housing-listing-report-listing\\').hide();\\n            });\\n            $(\\'#housing-listing-report-listing .report-listing .close\\').on(\\'click\\',function(){\\n                $(\\'#housing-listing-report-listing\\').hide();\\n            });\\n            $(\\'.report-listing\\').on(\\'click\\',function(event){\\n                event=event||window.event;\\n                event.stopPropagation();\\n            });\\n\\n            //slick\\n            window.smsh.methods.initMainImageSlider(\\'.main-image-slider\\',\\'686px\\',\\'514px\\');\\n\\n            $(\\'.listings.zoumadeng.for\\').slick({\\n                slidesToShow: 1,\\n                slidesToScroll: 1,\\n                arrows: true,\\n                slide: \\'li\\',\\n            });\\n\\n            //lightbox\\n            // $(\\'#list-tupian .for li\\').on(\\'click\\', function(e) {\\n            //     e.preventDefault();\\n            //     const thisClick = $(this)\\n            //     const lightBoxId = \\'#list-tupian-lightbox.lightbox\\';\\n            //\\n            //     $(\\'#list-tupian-lightbox\\').clone().removeClass(\\'hidden\\').addClass(\\'lightbox\\').lightbox_me({\\n            //         centered: true,\\n            //         destroyOnClose: true ,\\n            //         overlayCSS: {\\n            //             background: \\'black\\',\\n            //             opacity: .9\\n            //         },\\n            //         modalCSS: {\\n            //             top: \\'0\\'\\n            //         },\\n            //         onLoad: function () {\\n            //             window.smsh.methods.initListTuPian(lightBoxId, index);\\n            //\\n            //             $(\\'#list-tupian-lightbox.lightbox .for\\').slick(\\'slickGoTo\\', thisClick.index() - 1, true);\\n            //\\n            //             $(\\'#list-tupian-lightbox.lightbox\\').addClass(\\'show\\');\\n            //         }\\n            //     });\\n            // });\\n\\n            //\\n            $(\\'#app-sticky-banner\\').css(\\'display\\',\\'none\\');\\n\\n\\n            $(\\'#mobile-contact-company a\\').on(\\'click\\', function (e) {\\n                e.preventDefault();\\n                $(\\'#contact-company-lightbox\\').clone().addClass(\\'lightbox\\').lightbox_me({\\n                    onLoad: function() {\\n                        window.smsh.methods.listingMessager(\\'#contact-company-lightbox.lightbox #privateMessageForm\\', \\'housing\\', 1605144);\\n                    }\\n                });\\n            });\\n\\n            //\\xe7\\xa4\\xbe\\xe4\\xba\\xa4\\xe5\\xb9\\xb3\\xe5\\x8f\\xb0lightbox\\n            $(\\'.share-venue\\').on(\\'click\\', function (e) {\\n                e.preventDefault();\\n                $(\\'.share-lightbox\\').lightbox_me();\\n            });\\n\\n            //\\xe5\\x9c\\xb0\\xe5\\x9b\\xbe\\n            if (config.mapProvider === \\'google\\') {\\n                $(\\'.select-google-map\\').addClass(\\'active\\')\\n            } else if (config.mapProvider === \\'gaode\\') {\\n                $(\\'.select-gaode-map\\').addClass(\\'active\\')\\n            }\\n        });\\n    </script>\\n\\n\\n\\n</head>\\n<body id=\"mobile-optimize\">\\n\\n    <div class=\"signin-page lightboxable\">\\n    <div class=\"header\">\\n        <div class=\"badge\"></div>\\n        <h1>Sign In</h1>\\n        <div class=\"close\">X</div>\\n    </div>\\n\\n    <div class=\"error\">\\n\\n    </div>\\n\\n    <form action=\"https://www.smartshanghai.com/signin/\" method=\"POST\">\\n        <input type=\"text\" name=\"emailaddress\" placeholder=\"E-mail address or username\">\\n        <input type=\"password\" name=\"password\" placeholder=\"Password\">\\n        <input type=\"submit\" value=\"Sign in\">\\n        <input type=\"hidden\" value=\"\" name=\"origin\"/>\\n    </form>\\n\\n    <ul class=\"meta\">\\n        <li>\\n            <a href=\"https://www.smartshanghai.com/register\">\\n                <h2>Not registered yet? Signing up is easy!</h2>\\n                <p>As a member you can manage your favorite spots around town, upload housing ads, write reviews and more.</p>\\n            </a>\\n        </li>\\n        <li>\\n            <a href=\"https://www.smartshanghai.com/resetpassword\">\\n                <h2>Forgot your password?</h2>\\n                <p>If you forgot your account password you might need to reset it.</p>\\n            </a>\\n        </li>\\n    </ul>\\n</div>\\n\\n        <div class=\"v9_ready  header\">\\n        <div class=\"site-header\" id=\"site-header-app-bind\" style=\"background: #ffffff;\">\\n\\n\\n                                                                        <div id=\"wallpaper\" class=\"\" style=\"height: 250px; background: url(https://www.smartshanghai.com/uploads/repository/2024/08/05/3f36f372-6f1d-4b45-891e-3e7924f4ba4d.jpg) center 0px / 1700px no-repeat scroll #21784B;\" data-maxheight=720><a href=\"https://www.smartshanghai.com/event/77060\" target=\"_blank\" style=\"display: block; height: 100%; width: 100%;\"></a></div>\\n                                                \\n\\n\\n            <div class=\"main-block\">\\n                <div class=\"page-column \">\\n\\n                    <div class=\"logo-block\">\\n                        <a id=\"hamburger-menu-icon\" class=\"open-main-menu\">\\n                            <div class=\"header--hamburger header--hamburger-dims\"></div>\\n                        </a>\\n\\n                        <a href=\"/\" class=\"logo\">\\n                            <img src=\"https://static.smartshanghai.com/img/general/logos/smsh-logo.svg\" alt=\"SmartShanghai logo\">\\n                        </a>\\n                    </div>\\n\\n\\n                    <div class=\"search-block\" id=\"site-search\">\\n                        <form method=\"get\" >\\n                            <input type=\"text\" id=\"site-search-input\" placeholder=\"Search Places & Services, Events, Articles ...\" name=\"query\" autocomplete=\"off\">\\n                            <input type=\"submit\" value=\"\">\\n                        </form>\\n\\n                        <div class=\"search-results \">\\n                            <ul class=\"search-tabs\" id=\"search-select-tabs\">\\n                                <li class=\"active\" data-pane-id=\"search-looking-for\">\\n                                    I\\xe2\\x80\\x99m Looking For \\xe2\\x80\\xa6\\n                                </li>\\n                                <li data-pane-id=\"search-how-to\">\\n                                    How To \\xe2\\x80\\xa6\\n                                </li>\\n                            </ul>\\n\\n                            <ul class=\"search-open-tabs\" data-tab-group-id=\"search-select-tabs\">\\n                                <li class=\"loaded active\" id=\"search-looking-for\">\\n\\n                                                                            <div class=\"tab-pane\">\\n                                            <b>F&B</b>:\\n                                                                                            <a href=\"/listings/dining/\">Restaurants</a>,                                                                                            <a href=\"/nightlife/\">Bars</a>,                                                                                            <a href=\"/listings/nightlife/clubs/\">Clubs</a>,                                                                                            <a href=\"/listings/nightlife/jazz/\">Jazz</a>,                                                                                            <a href=\"/listings/nightlife/livemusic/\">Live Music</a>,                                                                                            <a href=\"/listings/nightlife/dive/\">Dives</a>,                                                                                            <a href=\"/listings/nightlife/winebar/\">Wine Bars</a>                                                                                    </div>\\n                                                                            <div class=\"tab-pane\">\\n                                            <b>Business</b>:\\n                                                                                            <a href=\"/listings/business/lawyers/\">Lawyers</a>,                                                                                            <a href=\"/listings/business/financial-advisory/\">Financial Advisory</a>,                                                                                            <a href=\"/listings/business/business-consultancy/\">Business Consultancy</a>,                                                                                            <a href=\"/business/\">...</a>                                                                                    </div>\\n                                                                            <div class=\"tab-pane\">\\n                                            <b>Living</b>:\\n                                                                                            <a href=\"/housing/\">Apartments</a>,                                                                                            <a href=\"/housing/service-apartments/\">Serviced Apartments</a>,                                                                                            <a href=\"/housing/shared-apartments/\">Shared Apartments</a>,                                                                                            <a href=\"/listings/services/nanny/\">Ayis</a>                                                                                    </div>\\n                                                                            <div class=\"tab-pane\">\\n                                            <b>Services</b>:\\n                                                                                            <a href=\"/listings/services/computer_support/\">Tech Support</a>,                                                                                            <a href=\"/listings/services/laundry_service/\">Laundry</a>,                                                                                            <a href=\"/listings/services/moving_relocation/\">Movers</a>,                                                                                            <a href=\"/listings/services/storage/\">Storage</a>,                                                                                            <a href=\"/listings/services/tailors/\">Tailors</a>,                                                                                            <a href=\"/listings/services/tailors/\">...</a>                                                                                    </div>\\n                                                                            <div class=\"tab-pane\">\\n                                            <b>Education</b>:\\n                                                                                            <a href=\"/listings/education/early-childhood-education/\">Kindergartens</a>,                                                                                            <a href=\"/listings/education/primary-schools/\">Primary Schools</a>,                                                                                            <a href=\"/listings/education/secondary-schools/\">Secondary Schools</a>,                                                                                            <a href=\"/listings/education/language-schools/\">Mandarin Schools</a>                                                                                    </div>\\n                                                                            <div class=\"tab-pane\">\\n                                            <b>Health</b>:\\n                                                                                            <a href=\"/listings/health-wellbeing/emergency/\">Emergency Rooms</a>,                                                                                            <a href=\"/listings/health-wellbeing/hospitals/\">Hospitals & Clinics</a>,                                                                                            <a href=\"/listings/health-wellbeing/dental_care/\">Dentists</a>,                                                                                            <a href=\"/listings/health-wellbeing/mental_health/\">Mental Wellbeing</a>,                                                                                            <a href=\"/health-wellbeing/\">...</a>                                                                                    </div>\\n                                                                            <div class=\"tab-pane\">\\n                                            <b>Beauty</b>:\\n                                                                                            <a href=\"/listings/beauty/hair_salon/\">Hair Salons</a>,                                                                                            <a href=\"/listings/beauty/barbers/\">Barbers</a>,                                                                                            <a href=\"/listings/spa_and_massage/\">Massage</a>,                                                                                            <a href=\"/listings/beauty/waxing/\">Waxing</a>                                                                                    </div>\\n                                                                            <div class=\"tab-pane\">\\n                                            <b>Kids & Family</b>:\\n                                                                                            <a href=\"/listings/kids-and-family/kids-indoor-activities/\">Indoor Activities</a>,                                                                                            <a href=\"/listings/kids-and-family/collection-kids-summer-activities/\">Outdoor Activities</a>,                                                                                            <a href=\"/listings/education/after-school/\">After School</a>,                                                                                            <a href=\"/listings/kids-and-family/kids-sports-activities/\">Kid\\'s Sports</a>,                                                                                            <a href=\"/kids-and-family/\">...</a>                                                                                    </div>\\n                                                                            <div class=\"tab-pane\">\\n                                            <b>Pets</b>:\\n                                                                                            <a href=\"/listings/shopping/pet-supplies-food/\">Suppliers and Food</a>,                                                                                            <a href=\"/listings/services/pet-hotel/\">Hotels</a>,                                                                                            <a href=\"/listings/services/veterinary/\">Vets</a>,                                                                                            <a href=\"/listings/services/pet-sitting/\">Pet Sitting</a>                                                                                    </div>\\n                                                                            <div class=\"tab-pane\">\\n                                            <b>Sports</b>:\\n                                                                                            <a href=\"/listings/sportrecreation/dance_studios/\">Dance Studios</a>,                                                                                            <a href=\"/listings/services/pet-hotel/\">Fitness Centers</a>,                                                                                            <a href=\"/listings/sportrecreation/martial_arts/\">Martial Arts</a>                                                                                    </div>\\n                                    \\n                                </li>\\n\\n                                <li class=\"loaded\" id=\"search-how-to\">\\n                                                                            <div class=\"tab-pane\">\\n                                            <b>General</b>:\\n                                                                                            <a href=\"/articles/community/shanghai-beginners-guide-how-to-survive-and-prosper-in-the-city\">Shanghai Essential Guide</a>,                                                                                            <a href=\"/articles/travel-and-sightseeing/all-the-qr-codes-you-need-to-arrive-and-register-in-shanghai\">Arrival Tools</a>,                                                                                            <a href=\"/articles/shanghai-life/how-to-deal-with-emergency-situations\">Emergencies</a>                                                                                    </div>\\n                                                                            <div class=\"tab-pane\">\\n                                            <b>Finance</b>:\\n                                                                                            <a href=\"/articles/smsh/yes-foreigners-can-use-alipay-this-is-how\">Setup Alipay</a>,                                                                                            <a href=\"/articles/tech/how-to-use-wechat-pay-wallet-and-link-a-bank-card\">Setup WeChat Pay</a>,                                                                                            <a href=\"/articles/activities/how-to-send-money-overseas\">Send Money Abroad</a>                                                                                    </div>\\n                                                                            <div class=\"tab-pane\">\\n                                            <b>Work</b>:\\n                                                                                            <a href=\"/jobs/\">Find a Job</a>,                                                                                            <a href=\"/articles/activities/how-to-change-jobs-without-visa-trouble\">Change Jobs</a>,                                                                                            <a href=\"/articles/jobs/the-explainer-all-you-need-to-know-about-severance\">Get Severance</a>,                                                                                            <a href=\"/articles/business/the-big-and-lovable-china-income-tax-faq\">Pay Income Tax</a>                                                                                    </div>\\n                                                                            <div class=\"tab-pane\">\\n                                            <b>Visa</b>:\\n                                                                                            <a href=\"/articles/shanghai-life/the-faq-china-visa-on-arrivals-need-to-know\">Travel Visa Free</a>,                                                                                            <a href=\"/articles/shanghai-life/how-to-get-a-work-visa\">Get A Work Visa</a>,                                                                                            <a href=\"/articles/jobs/how-to-get-a-chinese-green-card\">Get a Green Card</a>                                                                                    </div>\\n                                                                            <div class=\"tab-pane\">\\n                                            <b>Logistics</b>:\\n                                                                                            <a href=\"/articles/tech/tested-how-to-use-didi-now-that-its-in-english\">Use Didi</a>,                                                                                            <a href=\"/articles/tech/how-to-courier-something-in-shanghai\">Courier Something</a>,                                                                                            <a href=\"/articles/community/how-to-get-a-chinese-drivers-license-in-shanghai\">Get a Driving Licence</a>                                                                                    </div>\\n                                                                            <div class=\"tab-pane\">\\n                                            <b>Home</b>:\\n                                                                                            <a href=\"/articles/community/how-to-find-a-cheap-and-fairly-priced-apartment-in-shanghai\">Find an Apartment</a>,                                                                                            <a href=\"/articles/shanghai-life/how-to-find-an-ayi-household-helper-in-shanghai\">Find a Nanny/Ayi</a>,                                                                                            <a href=\"/articles/shopping/how-to-fix-everything-wrong-with-your-apartment\">Fix Your Apartment</a>                                                                                    </div>\\n                                                                            <div class=\"tab-pane\">\\n                                            <b>Shopping</b>:\\n                                                                                            <a href=\"/articles/shopping/how-to-taobao-the-simple-way\">Buy Stuff on Taobao</a>,                                                                                            <a href=\"/articles/shopping/how-to-make-a-return-on-taobao\">Return Stuff on Taobao</a>                                                                                    </div>\\n                                                                            <div class=\"tab-pane\">\\n                                            <b>Life</b>:\\n                                                                                            <a href=\"/articles/smsh/avoiding-scams-in-shanghai\">Avoid Scams</a>,                                                                                            <a href=\"/articles/community/how-to-get-married-in-china\">Get Married</a>,                                                                                            <a href=\"/articles/wellbeing/how-to-get-a-divorce-in-shanghai\">Get Divorced</a>,                                                                                            <a href=\"/articles/community/how-to-be-happy-in-shanghai\">Be Happy</a>                                                                                    </div>\\n                                                                            <div class=\"tab-pane\">\\n                                            <b>Pets</b>:\\n                                                                                            <a href=\"/articles/community/how-to-get-a-dog-license-in-china\">Get a Dog Licence</a>,                                                                                            <a href=\"/articles/community/how-to-take-your-pet-out-of-china\">Take Pets Out of China</a>                                                                                    </div>\\n                                                                            <div class=\"tab-pane\">\\n                                            <b>Good Citizen</b>:\\n                                                                                            <a href=\"/articles/community/the-charities-where-and-what-to-donate-this-holiday\">Donate Stuff</a>,                                                                                            <a href=\"/wire/community/donating-blood-during-the-special-period\">Donate Blood</a>,                                                                                            <a href=\"/articles/activities/how-to-recycle-in-shanghai\">Recycle</a>,                                                                                            <a href=\"/articles/community/the-listicle-volunteering-in-shanghai\">Volunteer</a>                                                                                    </div>\\n                                                                            <div class=\"tab-pane\">\\n                                            <b>Health</b>:\\n                                                                                            <a href=\"/articles/health-wellbeing/how-to-book-public-hospitals\">Book a Hospital</a>,                                                                                            <a href=\"/articles/health-and-wellbeing/the-big-guide-to-health-check-ups-in-shanghai-where-how-much-and-what-to-expect\">Get a Checkup</a>,                                                                                            <a href=\"/articles/health-wellbeing/how-to-book-public-hospitals\">Get Health Insurance</a>                                                                                    </div>\\n                                                                    </li>\\n                            </ul>\\n\\n                            <div class=\"search-open-concierge\">\\n\\n                                    <div class=\"img\">\\n                                        <a href=\"/concierge/\">\\n                                            <img class=\"image\" src=\"/img/mediakit/smsh-concierge-header.png\">\\n                                        </a>\\n                                    </div>\\n                                    <div class=\"txt\">\\n                                        <a href=\"/concierge/\">\\n                                            <b>Need help?</b> Try <i>SmSh Concierge</i>\\n                                            for tailored recommendations and hands-on assistance.\\n                                        </a>\\n                                    </div>\\n\\n                            </div>\\n                        </div>\\n\\n                    </div>\\n\\n\\n                    <div class=\"user-block\">\\n                        <a href=\"/userarea/favorites\" class=\"tooltip favorite\" data-tooltip=\"Favorites\">\\n                            <div>\\n                                <div class=\"header--favorite header--favorite-dims\"></div>\\n                            </div>\\n                        </a>\\n                        <a class=\"tooltip add\" data-tooltip=\"List\" id=\"list-with-us-button\">\\n                            <div>\\n                                <div class=\"header--add header--add-dims\"></div>\\n                            </div>\\n                        </a>\\n\\n                                                    <a href=\"/signin\" class=\"avatar-container tooltip\" data-tooltip=\"Account\">\\n                                <div class=\"avatar\">\\n                                    <img class=\"avatar\" src=\"https://static.smartshanghai.com/img/icons/svg/icon-profile.svg\" alt=\"User avatar image\" style=\"margin: auto;\">\\n                                </div>\\n                            </a>\\n                        \\n                    </div>\\n\\n                    <div class=\"smsh-mobile-menu\">\\n                        <div class=\"bg-shadow\"></div>\\n                        <ul class=\"mobile-menu\">\\n\\n                                                                                                <li>\\n\\n                                        <a href=\"/dining/\">\\n\\n                                            <div class=\"tag-icon\">\\n                                                                                                <picture>\\n                                                    <source srcset=\"https://images.smartshanghai.com.cn/uploads/compressed/2022/12/13/a6a5ea6e-f18e-4118-9ffa-e87e7b67725d.jpg.600.0.webp.90.90.webP 90w, https://images.smartshanghai.com.cn/uploads/compressed/2022/12/13/a6a5ea6e-f18e-4118-9ffa-e87e7b67725d.jpg.600.0.webp.180.180.webP 180w\" sizes=\"90px\" type=\"image/webP\">\\n                                                    <img src=\"https://images.smartshanghai.com.cn/uploads/compressed/2022/12/13/a6a5ea6e-f18e-4118-9ffa-e87e7b67725d.jpg.600.0.webp.90.90.jpg\" loading=\"lazy\" class=\"tag-icon with-loader\">\\n                                                </picture>\\n\\n                                            </div>\\n\\n                                            <span>Dining</span>\\n                                        </a>\\n                                    </li>\\n                                                                                                                                <li>\\n\\n                                        <a href=\"/nightlife/\">\\n\\n                                            <div class=\"tag-icon\">\\n                                                                                                <picture>\\n                                                    <source srcset=\"https://images.smartshanghai.com.cn/uploads/compressed/2022/12/13/b9ba18aa-5d16-4985-a612-b1f96728c7f9.jpg.600.0.webp.90.90.webP 90w, https://images.smartshanghai.com.cn/uploads/compressed/2022/12/13/b9ba18aa-5d16-4985-a612-b1f96728c7f9.jpg.600.0.webp.180.180.webP 180w\" sizes=\"90px\" type=\"image/webP\">\\n                                                    <img src=\"https://images.smartshanghai.com.cn/uploads/compressed/2022/12/13/b9ba18aa-5d16-4985-a612-b1f96728c7f9.jpg.600.0.webp.90.90.jpg\" loading=\"lazy\" class=\"tag-icon with-loader\">\\n                                                </picture>\\n\\n                                            </div>\\n\\n                                            <span>Nightlife</span>\\n                                        </a>\\n                                    </li>\\n                                                                                                                                <li>\\n\\n                                        <a href=\"/services/\">\\n\\n                                            <div class=\"tag-icon\">\\n                                                                                                <picture>\\n                                                    <source srcset=\"https://images.smartshanghai.com.cn/uploads/compressed/2022/12/13/f7353d2d-f84a-4509-9b58-8abcc80de2a2.jpg.600.0.webp.90.90.webP 90w, https://images.smartshanghai.com.cn/uploads/compressed/2022/12/13/f7353d2d-f84a-4509-9b58-8abcc80de2a2.jpg.600.0.webp.180.180.webP 180w\" sizes=\"90px\" type=\"image/webP\">\\n                                                    <img src=\"https://images.smartshanghai.com.cn/uploads/compressed/2022/12/13/f7353d2d-f84a-4509-9b58-8abcc80de2a2.jpg.600.0.webp.90.90.jpg\" loading=\"lazy\" class=\"tag-icon with-loader\">\\n                                                </picture>\\n\\n                                            </div>\\n\\n                                            <span>Services</span>\\n                                        </a>\\n                                    </li>\\n                                                                                                                                <li>\\n\\n                                        <a href=\"/events/\">\\n\\n                                            <div class=\"tag-icon\">\\n                                                                                                <picture>\\n                                                    <source srcset=\"https://images.smartshanghai.com.cn/uploads/compressed/2022/12/13/52506711-11b3-411e-af68-596dac10ad7e.png.600.0.webp.90.90.webP 90w, https://images.smartshanghai.com.cn/uploads/compressed/2022/12/13/52506711-11b3-411e-af68-596dac10ad7e.png.600.0.webp.180.180.webP 180w\" sizes=\"90px\" type=\"image/webP\">\\n                                                    <img src=\"https://images.smartshanghai.com.cn/uploads/compressed/2022/12/13/52506711-11b3-411e-af68-596dac10ad7e.png.600.0.webp.90.90.jpg\" loading=\"lazy\" class=\"tag-icon with-loader\">\\n                                                </picture>\\n\\n                                            </div>\\n\\n                                            <span>Events</span>\\n                                        </a>\\n                                    </li>\\n                                                                                                                                <li>\\n\\n                                        <a href=\"/deals/\">\\n\\n                                            <div class=\"tag-icon\">\\n                                                                                                <picture>\\n                                                    <source srcset=\"https://images.smartshanghai.com.cn/uploads/compressed/2022/12/13/357dbee0-a99c-485e-b3a4-a87b5845e751.png.600.0.webp.90.90.webP 90w, https://images.smartshanghai.com.cn/uploads/compressed/2022/12/13/357dbee0-a99c-485e-b3a4-a87b5845e751.png.600.0.webp.180.180.webP 180w\" sizes=\"90px\" type=\"image/webP\">\\n                                                    <img src=\"https://images.smartshanghai.com.cn/uploads/compressed/2022/12/13/357dbee0-a99c-485e-b3a4-a87b5845e751.png.600.0.webp.90.90.jpg\" loading=\"lazy\" class=\"tag-icon with-loader\">\\n                                                </picture>\\n\\n                                            </div>\\n\\n                                            <span>Deals</span>\\n                                        </a>\\n                                    </li>\\n                                                                                                                                <li>\\n\\n                                        <a href=\"/housing/\">\\n\\n                                            <div class=\"tag-icon\">\\n                                                                                                <picture>\\n                                                    <source srcset=\"https://images.smartshanghai.com.cn/uploads/compressed/2022/12/13/0793f5c3-5b7b-404a-a25d-693d4b455f44.png.600.0.webp.90.90.webP 90w, https://images.smartshanghai.com.cn/uploads/compressed/2022/12/13/0793f5c3-5b7b-404a-a25d-693d4b455f44.png.600.0.webp.180.180.webP 180w\" sizes=\"90px\" type=\"image/webP\">\\n                                                    <img src=\"https://images.smartshanghai.com.cn/uploads/compressed/2022/12/13/0793f5c3-5b7b-404a-a25d-693d4b455f44.png.600.0.webp.90.90.jpg\" loading=\"lazy\" class=\"tag-icon with-loader\">\\n                                                </picture>\\n\\n                                            </div>\\n\\n                                            <span>Housing</span>\\n                                        </a>\\n                                    </li>\\n                                                                                                                                <li>\\n\\n                                        <a href=\"/jobs/\">\\n\\n                                            <div class=\"tag-icon\">\\n                                                                                                <picture>\\n                                                    <source srcset=\"https://images.smartshanghai.com.cn/uploads/compressed/2022/12/13/aeac1807-b2da-45fa-9d7d-720c4ed94f47.jpg.600.0.webp.90.90.webP 90w, https://images.smartshanghai.com.cn/uploads/compressed/2022/12/13/aeac1807-b2da-45fa-9d7d-720c4ed94f47.jpg.600.0.webp.180.180.webP 180w\" sizes=\"90px\" type=\"image/webP\">\\n                                                    <img src=\"https://images.smartshanghai.com.cn/uploads/compressed/2022/12/13/aeac1807-b2da-45fa-9d7d-720c4ed94f47.jpg.600.0.webp.90.90.jpg\" loading=\"lazy\" class=\"tag-icon with-loader\">\\n                                                </picture>\\n\\n                                            </div>\\n\\n                                            <span>Jobs</span>\\n                                        </a>\\n                                    </li>\\n                                                                                                                                <li>\\n\\n                                        <a href=\"/essentials/\">\\n\\n                                            <div class=\"tag-icon\">\\n                                                                                                <picture>\\n                                                    <source srcset=\"https://images.smartshanghai.com.cn/uploads/compressed/2023/02/02/1392bd31-af80-4e19-a65a-95cfa04f73c3.jpg.600.0.webp.90.90.webP 90w, https://images.smartshanghai.com.cn/uploads/compressed/2023/02/02/1392bd31-af80-4e19-a65a-95cfa04f73c3.jpg.600.0.webp.180.180.webP 180w\" sizes=\"90px\" type=\"image/webP\">\\n                                                    <img src=\"https://images.smartshanghai.com.cn/uploads/compressed/2023/02/02/1392bd31-af80-4e19-a65a-95cfa04f73c3.jpg.600.0.webp.90.90.jpg\" loading=\"lazy\" class=\"tag-icon with-loader\">\\n                                                </picture>\\n\\n                                            </div>\\n\\n                                            <span>SH 101</span>\\n                                        </a>\\n                                    </li>\\n                                                                                                                                <li>\\n\\n                                        <a href=\"/buyandsell/\">\\n\\n                                            <div class=\"tag-icon\">\\n                                                                                                <picture>\\n                                                    <source srcset=\"https://images.smartshanghai.com.cn/uploads/compressed/2022/12/13/13de4891-cd21-4563-b5c5-8f91ff36cfe9.jpg.600.0.webp.90.90.webP 90w, https://images.smartshanghai.com.cn/uploads/compressed/2022/12/13/13de4891-cd21-4563-b5c5-8f91ff36cfe9.jpg.600.0.webp.180.180.webP 180w\" sizes=\"90px\" type=\"image/webP\">\\n                                                    <img src=\"https://images.smartshanghai.com.cn/uploads/compressed/2022/12/13/13de4891-cd21-4563-b5c5-8f91ff36cfe9.jpg.600.0.webp.90.90.jpg\" loading=\"lazy\" class=\"tag-icon with-loader\">\\n                                                </picture>\\n\\n                                            </div>\\n\\n                                            <span>Buy&Sell</span>\\n                                        </a>\\n                                    </li>\\n                                                                                                                                <li>\\n\\n                                        <a href=\"/education/\">\\n\\n                                            <div class=\"tag-icon\">\\n                                                                                                <picture>\\n                                                    <source srcset=\"https://images.smartshanghai.com.cn/uploads/compressed/2022/12/13/168ad3ea-3c79-42ac-8d43-2ffe588fb89c.png.600.0.webp.90.90.webP 90w, https://images.smartshanghai.com.cn/uploads/compressed/2022/12/13/168ad3ea-3c79-42ac-8d43-2ffe588fb89c.png.600.0.webp.180.180.webP 180w\" sizes=\"90px\" type=\"image/webP\">\\n                                                    <img src=\"https://images.smartshanghai.com.cn/uploads/compressed/2022/12/13/168ad3ea-3c79-42ac-8d43-2ffe588fb89c.png.600.0.webp.90.90.jpg\" loading=\"lazy\" class=\"tag-icon with-loader\">\\n                                                </picture>\\n\\n                                            </div>\\n\\n                                            <span>Education</span>\\n                                        </a>\\n                                    </li>\\n                                                                                                                                <li>\\n\\n                                        <a href=\"/kids-and-family/\">\\n\\n                                            <div class=\"tag-icon\">\\n                                                                                                <picture>\\n                                                    <source srcset=\"https://images.smartshanghai.com.cn/uploads/compressed/2022/12/19/e375aae7-fd47-422e-9d1d-4172d6397a7b.jpg.600.0.webp.90.90.webP 90w, https://images.smartshanghai.com.cn/uploads/compressed/2022/12/19/e375aae7-fd47-422e-9d1d-4172d6397a7b.jpg.600.0.webp.180.180.webP 180w\" sizes=\"90px\" type=\"image/webP\">\\n                                                    <img src=\"https://images.smartshanghai.com.cn/uploads/compressed/2022/12/19/e375aae7-fd47-422e-9d1d-4172d6397a7b.jpg.600.0.webp.90.90.jpg\" loading=\"lazy\" class=\"tag-icon with-loader\">\\n                                                </picture>\\n\\n                                            </div>\\n\\n                                            <span>Kids</span>\\n                                        </a>\\n                                    </li>\\n                                                                                                                                <li>\\n\\n                                        <a href=\"/health-wellbeing/\">\\n\\n                                            <div class=\"tag-icon\">\\n                                                                                                <picture>\\n                                                    <source srcset=\"https://images.smartshanghai.com.cn/uploads/compressed/2022/12/13/6b9e3778-d435-4a86-a7f2-8a612f8a8855.jpg.600.0.webp.90.90.webP 90w, https://images.smartshanghai.com.cn/uploads/compressed/2022/12/13/6b9e3778-d435-4a86-a7f2-8a612f8a8855.jpg.600.0.webp.180.180.webP 180w\" sizes=\"90px\" type=\"image/webP\">\\n                                                    <img src=\"https://images.smartshanghai.com.cn/uploads/compressed/2022/12/13/6b9e3778-d435-4a86-a7f2-8a612f8a8855.jpg.600.0.webp.90.90.jpg\" loading=\"lazy\" class=\"tag-icon with-loader\">\\n                                                </picture>\\n\\n                                            </div>\\n\\n                                            <span>Health</span>\\n                                        </a>\\n                                    </li>\\n                                                                                                                                <li>\\n\\n                                        <a href=\"/listings/beauty/\">\\n\\n                                            <div class=\"tag-icon\">\\n                                                                                                <picture>\\n                                                    <source srcset=\"https://images.smartshanghai.com.cn/uploads/compressed/2022/12/13/b8182299-3b08-4272-8230-7a2d2d6e7d47.jpg.600.0.webp.90.90.webP 90w, https://images.smartshanghai.com.cn/uploads/compressed/2022/12/13/b8182299-3b08-4272-8230-7a2d2d6e7d47.jpg.600.0.webp.180.180.webP 180w\" sizes=\"90px\" type=\"image/webP\">\\n                                                    <img src=\"https://images.smartshanghai.com.cn/uploads/compressed/2022/12/13/b8182299-3b08-4272-8230-7a2d2d6e7d47.jpg.600.0.webp.90.90.jpg\" loading=\"lazy\" class=\"tag-icon with-loader\">\\n                                                </picture>\\n\\n                                            </div>\\n\\n                                            <span>Beauty</span>\\n                                        </a>\\n                                    </li>\\n                                                                                                                                <li>\\n\\n                                        <a href=\"/sports/\">\\n\\n                                            <div class=\"tag-icon\">\\n                                                                                                <picture>\\n                                                    <source srcset=\"https://images.smartshanghai.com.cn/uploads/compressed/2022/12/19/b945ec8b-66ba-44e6-8b58-cc98aefa4f89.jpg.600.0.webp.90.90.webP 90w, https://images.smartshanghai.com.cn/uploads/compressed/2022/12/19/b945ec8b-66ba-44e6-8b58-cc98aefa4f89.jpg.600.0.webp.180.180.webP 180w\" sizes=\"90px\" type=\"image/webP\">\\n                                                    <img src=\"https://images.smartshanghai.com.cn/uploads/compressed/2022/12/19/b945ec8b-66ba-44e6-8b58-cc98aefa4f89.jpg.600.0.webp.90.90.jpg\" loading=\"lazy\" class=\"tag-icon with-loader\">\\n                                                </picture>\\n\\n                                            </div>\\n\\n                                            <span>Sports</span>\\n                                        </a>\\n                                    </li>\\n                                                                                                                                <li>\\n\\n                                        <a href=\"/listings/shopping/\">\\n\\n                                            <div class=\"tag-icon\">\\n                                                                                                <picture>\\n                                                    <source srcset=\"https://images.smartshanghai.com.cn/uploads/compressed/2022/12/13/7ef44f09-c477-4ff8-b066-5adc41d955c9.jpg.600.0.webp.90.90.webP 90w, https://images.smartshanghai.com.cn/uploads/compressed/2022/12/13/7ef44f09-c477-4ff8-b066-5adc41d955c9.jpg.600.0.webp.180.180.webP 180w\" sizes=\"90px\" type=\"image/webP\">\\n                                                    <img src=\"https://images.smartshanghai.com.cn/uploads/compressed/2022/12/13/7ef44f09-c477-4ff8-b066-5adc41d955c9.jpg.600.0.webp.90.90.jpg\" loading=\"lazy\" class=\"tag-icon with-loader\">\\n                                                </picture>\\n\\n                                            </div>\\n\\n                                            <span>Shopping</span>\\n                                        </a>\\n                                    </li>\\n                                                                                                                                <li>\\n\\n                                        <a href=\"/properties/\">\\n\\n                                            <div class=\"tag-icon\">\\n                                                                                                <picture>\\n                                                    <source srcset=\"https://images.smartshanghai.com.cn/uploads/compressed/2022/12/13/36ea7495-07b7-4831-b7cf-f6f6446ca09a.png.600.0.webp.90.90.webP 90w, https://images.smartshanghai.com.cn/uploads/compressed/2022/12/13/36ea7495-07b7-4831-b7cf-f6f6446ca09a.png.600.0.webp.180.180.webP 180w\" sizes=\"90px\" type=\"image/webP\">\\n                                                    <img src=\"https://images.smartshanghai.com.cn/uploads/compressed/2022/12/13/36ea7495-07b7-4831-b7cf-f6f6446ca09a.png.600.0.webp.90.90.jpg\" loading=\"lazy\" class=\"tag-icon with-loader\">\\n                                                </picture>\\n\\n                                            </div>\\n\\n                                            <span>Offices</span>\\n                                        </a>\\n                                    </li>\\n                                                                                                                                                                                            <li>\\n\\n                                        <a href=\"/concierge/\">\\n\\n                                            <div class=\"tag-icon\">\\n                                                                                                <picture>\\n                                                    <source srcset=\"https://images.smartshanghai.com.cn/uploads/compressed/2024/07/25/06fb5894-754c-4cee-bc98-2a7bafb957a6.jpg.600.0.webp.90.90.webP 90w, https://images.smartshanghai.com.cn/uploads/compressed/2024/07/25/06fb5894-754c-4cee-bc98-2a7bafb957a6.jpg.600.0.webp.180.180.webP 180w\" sizes=\"90px\" type=\"image/webP\">\\n                                                    <img src=\"https://images.smartshanghai.com.cn/uploads/compressed/2024/07/25/06fb5894-754c-4cee-bc98-2a7bafb957a6.jpg.600.0.webp.90.90.jpg\" loading=\"lazy\" class=\"tag-icon with-loader\">\\n                                                </picture>\\n\\n                                            </div>\\n\\n                                            <span>Concierge</span>\\n                                        </a>\\n                                    </li>\\n                                                                                                                                <li>\\n\\n                                        <a href=\"/smash/\">\\n\\n                                            <div class=\"tag-icon\">\\n                                                                                                <picture>\\n                                                    <source srcset=\"https://images.smartshanghai.com.cn/uploads/repository/2024/03/18/59d37354-d71c-4b6a-a1f9-ff355da7741d.gif.90.90.webP 90w, https://images.smartshanghai.com.cn/uploads/repository/2024/03/18/59d37354-d71c-4b6a-a1f9-ff355da7741d.gif.180.180.webP 180w\" sizes=\"90px\" type=\"image/webP\">\\n                                                    <img src=\"https://images.smartshanghai.com.cn/uploads/repository/2024/03/18/59d37354-d71c-4b6a-a1f9-ff355da7741d.gif.90.90.jpg\" loading=\"lazy\" class=\"tag-icon with-loader\">\\n                                                </picture>\\n\\n                                            </div>\\n\\n                                            <span>Gift Shop</span>\\n                                        </a>\\n                                    </li>\\n                                                            \\n\\n\\n                            <li class=\"sub-menu-title\">\\n                                APP & SOCIAL\\n                            </li>\\n                            <li>\\n                                <a href=\"/apps/\"><span class=\"icon icon-nav-download-app\"></span> <span>Download our App</span></a>\\n                            </li>\\n                            <li>\\n                                <a href=\"/social/wechat-groups\"><span class=\"icon icon-nav-download-app\"></span> <span>Join a WeChat Group</span></a>\\n                            </li>\\n                            <li class=\"sub-menu-title\">\\n                                SMARTSHANGHAI\\n                            </li>\\n\\n                            <li>\\n                                <a href=\"/contact/\"><span class=\"icon icon-nav-contact-us\"></span> <span>Contact Us</span></a>\\n                            </li>\\n                            <li>\\n                                <a href=\"/service/about\"><span class=\"icon icon-nav-about-us\"></span> <span>About Us</span></a>\\n                            </li>\\n                            <li>\\n                                <a href=\"/service/advertise\"><span class=\"icon icon-nav-advertise\"></span> <span>Advertise With Us</span></a>\\n                            </li>\\n                        </ul>\\n                    </div>\\n\\n\\n\\n\\n                    <div class=\"smsh-mobile-userarea-menu\">\\n                        <div class=\"bg-shadow\"></div>\\n                        <ul class=\"mobile-menu\">\\n                            <li>\\n                                <a class=\"open-main-menu\">\\n                                    <b><span>Back To Main Menu</span></b>\\n                                </a>\\n                            </li>\\n                            <li>\\n                                <a href=\"https://www.smartshanghai.com/userarea/messaging/\">\\n                                    <span class=\"icon userarea--messaging\"></span> <span>Inbox</span>\\n                                </a>\\n                            </li>\\n                            <li>\\n                                <a href=\"https://www.smartshanghai.com/userarea/favorites/\">\\n                                    <span class=\"icon userarea--favorites\"></span> <span>Favorites</span>\\n                                </a>\\n                            </li>\\n\\n                            <li class=\"sub-menu-title\">\\n                                GENERAL\\n                            </li>\\n                            <li>\\n                                <a href=\"https://www.smartshanghai.com/userarea/account/\">\\n                                    <span class=\"icon userarea--account\"></span> <span>Account</span>\\n                                </a>\\n                            </li>\\n                            <li>\\n                                <a href=\"https://www.smartshanghai.com/userarea/alerts/\">\\n                                    <span class=\"icon userarea--alerts\"></span> <span>Alerts</span>\\n                                </a>\\n                            </li>\\n                            <li>\\n                                <a href=\"https://www.smartshanghai.com/userarea/subscriptions/\">\\n                                    <span class=\"icon userarea--subscriptions\"></span> <span>Subscriptions</span>\\n                                </a>\\n                            </li>\\n                            <li>\\n                                <a href=\"https://www.smartshanghai.com/userarea/billing/\">\\n                                    <span class=\"icon userarea--billing\"></span> <span>Billing</span>\\n                                </a>\\n                            </li>\\n\\n                            <li class=\"sub-menu-title\">\\n                                My Listings\\n                            </li>\\n                            <li>\\n                                <a href=\"https://www.smartshanghai.com/userarea/venues/\">\\n                                    <span class=\"icon userarea--venues\"></span> <span>Venues</span>\\n                                </a>\\n                            </li>\\n                            <li>\\n                                <a href=\"https://www.smartshanghai.com/userarea/events/\">\\n                                    <span class=\"icon userarea--events\"></span> <span>Events</span>\\n                                </a>\\n                            </li>\\n                            <li>\\n                                <a href=\"https://www.smartshanghai.com/userarea/jobs/\">\\n                                    <span class=\"icon userarea--jobs\"></span> <span>Jobs</span>\\n                                </a>\\n                            </li>\\n                            <li>\\n                                <a href=\"https://www.smartshanghai.com/userarea/housing/\">\\n                                    <span class=\"icon userarea--housing\"></span> <span>Housing</span>\\n                                </a>\\n                            </li>\\n                            <li>\\n                                <a href=\"https://www.smartshanghai.com/userarea/buyandsell/\">\\n                                    <span class=\"icon userarea--buy-and-sell\"></span> <span>Buy & Sell</span>\\n                                </a>\\n                            </li>\\n\\n                            <li class=\"sub-menu-title\">\\n                                Jobs\\n                            </li>\\n                            <li>\\n                                <a href=\"https://www.smartshanghai.com/userarea/jobs/myapplications/\">\\n                                    <span class=\"icon userarea--job-app\"></span> <span>My Applications</span>\\n                                </a>\\n                            </li>\\n\\n                            <li class=\"sub-menu-title\">\\n                                Advertisement\\n                            </li>\\n                            <li>\\n                                <a href=\"https://www.smartshanghai.com/userarea/campaigns/\">\\n                                    <span class=\"icon userarea--campaigns\"></span> <span>Campaigns</span>\\n                                </a>\\n                            </li>\\n                        </ul>\\n                    </div>\\n\\n\\n\\n                    <div class=\"smsh-user-block-menu listings-submission-menu is-dropdown\">\\n                        <ul>\\n                            <li>\\n                                <a href=\"/events/add\">\\n                                    <div class=\"icon\">\\n                                        <span class=\"icon-blue-calendar\"></span>\\n                                    </div>\\n                                    <div class=\"txt\">\\n                                        <h3>\\n                                            List an Event\\n                                        </h3>\\n                                    </div>\\n                                </a>\\n                            </li>\\n\\n                            <li>\\n                                <a href=\"/events/add\">\\n                                    <div class=\"icon\">\\n                                        <span class=\"icon-blue-deal\"></span>\\n                                    </div>\\n                                    <div class=\"txt\">\\n                                        <h3>\\n                                            List a Deal\\n                                        </h3>\\n                                    </div>\\n                                </a>\\n                            </li>\\n\\n                            <li>\\n                                <a href=\"/service/venues\">\\n                                    <div class=\"icon\">\\n                                        <span class=\"icon-blue-venue\"></span>\\n                                    </div>\\n                                    <div class=\"txt\">\\n                                        <h3>\\n                                            List Your Venue\\n                                        </h3>\\n                                    </div>\\n                                </a>\\n                            </li>\\n\\n                            <li>\\n                                <a href=\"/jobs/add\">\\n                                    <div class=\"icon\">\\n                                        <span class=\"icon-blue-jobs\"></span>\\n                                    </div>\\n                                    <div class=\"txt\">\\n                                        <h3>\\n                                            List A Job\\n                                        </h3>\\n                                    </div>\\n                                </a>\\n                            </li>\\n\\n                            <li>\\n                                <a href=\"/buyandsell/add\">\\n                                    <div class=\"icon\">\\n                                        <span class=\"icon-blue-buyandsell\"></span>\\n                                    </div>\\n                                    <div class=\"txt\">\\n                                        <h3>\\n                                            Sell Something\\n                                        </h3>\\n                                    </div>\\n                                </a>\\n                            </li>\\n\\n                            <li>\\n                                <a href=\"/housing/add\">\\n                                    <div class=\"icon\">\\n                                        <span class=\"icon-blue-housing\"></span>\\n                                    </div>\\n                                    <div class=\"txt\">\\n                                        <h3>\\n                                            List an Apartment\\n                                        </h3>\\n                                    </div>\\n                                </a>\\n                            </li>\\n\\n\\n                        </ul>\\n                    </div>\\n\\n\\n\\n\\n                </div>\\n            </div>\\n\\n\\n\\n\\n            <div>\\n                <div class=\"menu-block\">\\n                    <div class=\"navigation\" id=\"site-navigation\">\\n                        <ul id=\"main-navigation\" class=\"main-navigation main-nav-bind \">\\n                                                            <li><a href=\"/dining/\">Dining</a></li>\\n                                                            <li><a href=\"/nightlife/\">Nightlife</a></li>\\n                                                            <li><a href=\"/services/\">Services</a></li>\\n                                                            <li><a href=\"/events/\">Events</a></li>\\n                                                            <li><a href=\"/deals/\">Deals</a></li>\\n                                                            <li><a href=\"/housing/\">Housing</a></li>\\n                                                            <li><a href=\"/jobs/\">Jobs</a></li>\\n                                                            <li><a href=\"/essentials/\">SH 101</a></li>\\n                                                            <li><a href=\"/buyandsell/\">Buy&Sell</a></li>\\n                                                            <li><a href=\"/education/\">Education</a></li>\\n                                                            <li><a href=\"/kids-and-family/\">Kids</a></li>\\n                                                            <li><a href=\"/health-wellbeing/\">Health</a></li>\\n                                                            <li><a href=\"/listings/beauty/\">Beauty</a></li>\\n                                                            <li><a href=\"/sports/\">Sports</a></li>\\n                                                            <li><a href=\"/listings/shopping/\">Shopping</a></li>\\n                                                            <li><a href=\"/properties/\">Offices</a></li>\\n                                                            <li><a href=\"/articles/health-and-wellbeing/emergency-rooms-in-the-city\">HELP</a></li>\\n                                                            <li><a href=\"/concierge/\">Concierge</a></li>\\n                                                            <li><a href=\"/smash/\">Gift Shop</a></li>\\n                                                        <li class=\"open-sidenav open-main-menu\"><a>...</a></li>\\n                        </ul>\\n                    </div>\\n\\n                </div>\\n            </div>\\n\\n            \\n\\n\\n\\n\\n\\n                            <div class=\"ad-block\">\\n    <div class=\"main-column\">\\n        <p class=\"ad-notice\">Advertisement</p>\\n        <div class=\"img\">\\n            <a href=\"https://adsrvr.smartshanghai.com/ads/adclick/17560?url=https://www.smartshanghai.com/event/76949\" target=\"_blank\">\\n                <img src=\"https://adsrvr.smartshanghai.com/uploads/repository/2024/07/18/2e688f77-5bfa-4e6c-9baa-d05e39490405.gif\" class=\"topBanner\">\\n            </a>\\n        </div>\\n    </div>\\n</div>\\n            \\n\\n        </div>\\n    </div>\\n\\n    \\n\\n    <meta property=\"og:image\" content=\"https://images.smartshanghai.com.cn/uploads/compressed/2024/08/06/2024a847-e609-4406-bb6f-201aaac669c0.jpg.330.220.webP\" />\\n\\n    <input type=\"hidden\" id=\"housingListingId\" value=\"1605144\">\\n\\n    <div class=\"housing2-listing\">\\n\\n        <div id=\"list-menu-2020\">\\n    <div class=\"site-main-column simpleHeader\">\\n        <div>\\n            <ul class=\"breadcrumbs\">\\n                <li><a href=\"/\"><img src=\"https://images.smartshanghai.com/img/general/breadcrumbs/icon-home.svg\"></a></li>\\n                <li><a href=\"/housing/\">Housing</a></li>\\n                                    <li>\\n                        <a href=\"/housing/apartments-rent/\">Apartments</a>\\n                    </li>\\n                            </ul>\\n                    </div>\\n\\n        <ul class=\"user-action\">\\n            <li class=\"favorites\">\\n                <a href=\"/userarea/favorites/housing/\">YOUR FAVORITES</a>\\n            </li>\\n            <li class=\"post\">\\n                <a href=\"/housing/add\">POST A LISTING</a>\\n            </li>\\n        </ul>\\n\\n    </div>\\n</div>\\n\\n                    <div id=\"agencywarning\">\\n                <a href=\"http://www.smartshanghai.com/articles/housing/important-information-on-renting-an-apartment-in-shanghai\">\\n                    <h2>Must Read: <span>Beware of \"Key Scams\" and Other Scams!</span></h2>\\n                    <p>\\n                        Don\\'t get tricked into losing thousands of dollars. Click here to read this important notice on renting an\\n                        apartment in Shanghai to <b>avoid getting ripped off</b>. Please always report suspicious listings\\n                        to us, we take complaints very seriously.\\n                    </p>\\n                </a>\\n            </div>\\n        \\n\\n        <div class=\"content site-main-column\" itemscope itemtype=\"https://schema.org/Apartment\">\\n            <div class=\"left\">\\n                <div class=\"pane\">\\n                    <div class=\"pictures v9_ready\">\\n                                                    <div class=\"main-image-slider ratio4x3\">\\n    <ul>\\n                    <li>\\n                <div class=\"img\">\\n                                        <picture>\\n                        <source data-srcset=\"https://images.smartshanghai.com.cn/uploads/compressed/2024/08/06/1da64b3e-7c21-4519-a47a-0c8bb17e34e7.jpg.686.0.webp 686w, https://images.smartshanghai.com.cn/uploads/compressed/2024/08/06/1da64b3e-7c21-4519-a47a-0c8bb17e34e7.jpg.1333.0.webp 1333w\" sizes=\"686px\" type=\"image/webP\">\\n                        <img class=\"lightboxable lazy-load\" data-src=\"https://images.smartshanghai.com.cn/uploads/compressed/2024/08/06/1da64b3e-7c21-4519-a47a-0c8bb17e34e7.jpg.686.0.jpg\" alt=\"Impressive 1BR lane house | Jing\\'an Temple L2/7 | Highceiling | Terrace\" title=\"Picture for Impressive 1BR lane house | Jing\\'an Temple L2/7 | Highceiling | Terrace in Shanghai\">\\n                    </picture>\\n                </div>\\n            </li>\\n                    <li>\\n                <div class=\"img\">\\n                                        <picture>\\n                        <source data-srcset=\"https://images.smartshanghai.com.cn/uploads/compressed/2024/08/06/fa3a2d45-53c1-4501-8e82-7554420a4008.jpg.686.0.webp 686w, https://images.smartshanghai.com.cn/uploads/compressed/2024/08/06/fa3a2d45-53c1-4501-8e82-7554420a4008.jpg.1333.0.webp 1333w\" sizes=\"686px\" type=\"image/webP\">\\n                        <img class=\"lightboxable lazy-load\" data-src=\"https://images.smartshanghai.com.cn/uploads/compressed/2024/08/06/fa3a2d45-53c1-4501-8e82-7554420a4008.jpg.686.0.jpg\" alt=\"Impressive 1BR lane house | Jing\\'an Temple L2/7 | Highceiling | Terrace\" title=\"Picture for Impressive 1BR lane house | Jing\\'an Temple L2/7 | Highceiling | Terrace in Shanghai\">\\n                    </picture>\\n                </div>\\n            </li>\\n                    <li>\\n                <div class=\"img\">\\n                                        <picture>\\n                        <source data-srcset=\"https://images.smartshanghai.com.cn/uploads/compressed/2024/08/06/ba781940-de86-48a9-be89-b1dfa2204140.jpg.686.0.webp 686w, https://images.smartshanghai.com.cn/uploads/compressed/2024/08/06/ba781940-de86-48a9-be89-b1dfa2204140.jpg.1333.0.webp 1333w\" sizes=\"686px\" type=\"image/webP\">\\n                        <img class=\"lightboxable lazy-load\" data-src=\"https://images.smartshanghai.com.cn/uploads/compressed/2024/08/06/ba781940-de86-48a9-be89-b1dfa2204140.jpg.686.0.jpg\" alt=\"Impressive 1BR lane house | Jing\\'an Temple L2/7 | Highceiling | Terrace\" title=\"Picture for Impressive 1BR lane house | Jing\\'an Temple L2/7 | Highceiling | Terrace in Shanghai\">\\n                    </picture>\\n                </div>\\n            </li>\\n                    <li>\\n                <div class=\"img\">\\n                                        <picture>\\n                        <source data-srcset=\"https://images.smartshanghai.com.cn/uploads/compressed/2024/08/06/9b32f15a-2bf2-4272-92eb-0ec324bb9bf6.jpg.686.0.webp 686w, https://images.smartshanghai.com.cn/uploads/compressed/2024/08/06/9b32f15a-2bf2-4272-92eb-0ec324bb9bf6.jpg.1333.0.webp 1333w\" sizes=\"686px\" type=\"image/webP\">\\n                        <img class=\"lightboxable lazy-load\" data-src=\"https://images.smartshanghai.com.cn/uploads/compressed/2024/08/06/9b32f15a-2bf2-4272-92eb-0ec324bb9bf6.jpg.686.0.jpg\" alt=\"Impressive 1BR lane house | Jing\\'an Temple L2/7 | Highceiling | Terrace\" title=\"Picture for Impressive 1BR lane house | Jing\\'an Temple L2/7 | Highceiling | Terrace in Shanghai\">\\n                    </picture>\\n                </div>\\n            </li>\\n                    <li>\\n                <div class=\"img\">\\n                                        <picture>\\n                        <source data-srcset=\"https://images.smartshanghai.com.cn/uploads/compressed/2024/08/06/44224c6a-6203-4155-8107-81f9d91c30d4.jpg.686.0.webp 686w, https://images.smartshanghai.com.cn/uploads/compressed/2024/08/06/44224c6a-6203-4155-8107-81f9d91c30d4.jpg.1333.0.webp 1333w\" sizes=\"686px\" type=\"image/webP\">\\n                        <img class=\"lightboxable lazy-load\" data-src=\"https://images.smartshanghai.com.cn/uploads/compressed/2024/08/06/44224c6a-6203-4155-8107-81f9d91c30d4.jpg.686.0.jpg\" alt=\"Impressive 1BR lane house | Jing\\'an Temple L2/7 | Highceiling | Terrace\" title=\"Picture for Impressive 1BR lane house | Jing\\'an Temple L2/7 | Highceiling | Terrace in Shanghai\">\\n                    </picture>\\n                </div>\\n            </li>\\n                    <li>\\n                <div class=\"img\">\\n                                        <picture>\\n                        <source data-srcset=\"https://images.smartshanghai.com.cn/uploads/compressed/2024/08/06/853c72cb-c6ad-414b-b364-1144573a1a89.jpg.686.0.webp 686w, https://images.smartshanghai.com.cn/uploads/compressed/2024/08/06/853c72cb-c6ad-414b-b364-1144573a1a89.jpg.1333.0.webp 1333w\" sizes=\"686px\" type=\"image/webP\">\\n                        <img class=\"lightboxable lazy-load\" data-src=\"https://images.smartshanghai.com.cn/uploads/compressed/2024/08/06/853c72cb-c6ad-414b-b364-1144573a1a89.jpg.686.0.jpg\" alt=\"Impressive 1BR lane house | Jing\\'an Temple L2/7 | Highceiling | Terrace\" title=\"Picture for Impressive 1BR lane house | Jing\\'an Temple L2/7 | Highceiling | Terrace in Shanghai\">\\n                    </picture>\\n                </div>\\n            </li>\\n                    <li>\\n                <div class=\"img\">\\n                                        <picture>\\n                        <source data-srcset=\"https://images.smartshanghai.com.cn/uploads/compressed/2024/08/06/a7e72292-5ab7-48fc-a44a-d7c5967200b3.jpg.686.0.webp 686w, https://images.smartshanghai.com.cn/uploads/compressed/2024/08/06/a7e72292-5ab7-48fc-a44a-d7c5967200b3.jpg.1333.0.webp 1333w\" sizes=\"686px\" type=\"image/webP\">\\n                        <img class=\"lightboxable lazy-load\" data-src=\"https://images.smartshanghai.com.cn/uploads/compressed/2024/08/06/a7e72292-5ab7-48fc-a44a-d7c5967200b3.jpg.686.0.jpg\" alt=\"Impressive 1BR lane house | Jing\\'an Temple L2/7 | Highceiling | Terrace\" title=\"Picture for Impressive 1BR lane house | Jing\\'an Temple L2/7 | Highceiling | Terrace in Shanghai\">\\n                    </picture>\\n                </div>\\n            </li>\\n                    <li>\\n                <div class=\"img\">\\n                                        <picture>\\n                        <source data-srcset=\"https://images.smartshanghai.com.cn/uploads/compressed/2024/08/06/42a2bd50-a4a6-416c-9d32-166844a83118.jpg.686.0.webp 686w, https://images.smartshanghai.com.cn/uploads/compressed/2024/08/06/42a2bd50-a4a6-416c-9d32-166844a83118.jpg.1000.0.webp 1000w\" sizes=\"686px\" type=\"image/webP\">\\n                        <img class=\"lightboxable lazy-load\" data-src=\"https://images.smartshanghai.com.cn/uploads/compressed/2024/08/06/42a2bd50-a4a6-416c-9d32-166844a83118.jpg.686.0.jpg\" alt=\"Impressive 1BR lane house | Jing\\'an Temple L2/7 | Highceiling | Terrace\" title=\"Picture for Impressive 1BR lane house | Jing\\'an Temple L2/7 | Highceiling | Terrace in Shanghai\">\\n                    </picture>\\n                </div>\\n            </li>\\n                    <li>\\n                <div class=\"img\">\\n                                        <picture>\\n                        <source data-srcset=\"https://images.smartshanghai.com.cn/uploads/compressed/2024/08/06/3c28470b-ca03-4390-8d35-829b170347c1.jpg.686.0.webp 686w, https://images.smartshanghai.com.cn/uploads/compressed/2024/08/06/3c28470b-ca03-4390-8d35-829b170347c1.jpg.1333.0.webp 1333w\" sizes=\"686px\" type=\"image/webP\">\\n                        <img class=\"lightboxable lazy-load\" data-src=\"https://images.smartshanghai.com.cn/uploads/compressed/2024/08/06/3c28470b-ca03-4390-8d35-829b170347c1.jpg.686.0.jpg\" alt=\"Impressive 1BR lane house | Jing\\'an Temple L2/7 | Highceiling | Terrace\" title=\"Picture for Impressive 1BR lane house | Jing\\'an Temple L2/7 | Highceiling | Terrace in Shanghai\">\\n                    </picture>\\n                </div>\\n            </li>\\n                    <li>\\n                <div class=\"img\">\\n                                        <picture>\\n                        <source data-srcset=\"https://images.smartshanghai.com.cn/uploads/compressed/2024/08/06/ee85c64d-aa84-4986-95d4-457c2a456a4c.jpg.686.0.webp 686w, https://images.smartshanghai.com.cn/uploads/compressed/2024/08/06/ee85c64d-aa84-4986-95d4-457c2a456a4c.jpg.1333.0.webp 1333w\" sizes=\"686px\" type=\"image/webP\">\\n                        <img class=\"lightboxable lazy-load\" data-src=\"https://images.smartshanghai.com.cn/uploads/compressed/2024/08/06/ee85c64d-aa84-4986-95d4-457c2a456a4c.jpg.686.0.jpg\" alt=\"Impressive 1BR lane house | Jing\\'an Temple L2/7 | Highceiling | Terrace\" title=\"Picture for Impressive 1BR lane house | Jing\\'an Temple L2/7 | Highceiling | Terrace in Shanghai\">\\n                    </picture>\\n                </div>\\n            </li>\\n                    <li>\\n                <div class=\"img\">\\n                                        <picture>\\n                        <source data-srcset=\"https://images.smartshanghai.com.cn/uploads/compressed/2024/08/06/cf278200-9f39-440e-8c8f-97064be099cd.jpg.686.0.webp 686w, https://images.smartshanghai.com.cn/uploads/compressed/2024/08/06/cf278200-9f39-440e-8c8f-97064be099cd.jpg.1333.0.webp 1333w\" sizes=\"686px\" type=\"image/webP\">\\n                        <img class=\"lightboxable lazy-load\" data-src=\"https://images.smartshanghai.com.cn/uploads/compressed/2024/08/06/cf278200-9f39-440e-8c8f-97064be099cd.jpg.686.0.jpg\" alt=\"Impressive 1BR lane house | Jing\\'an Temple L2/7 | Highceiling | Terrace\" title=\"Picture for Impressive 1BR lane house | Jing\\'an Temple L2/7 | Highceiling | Terrace in Shanghai\">\\n                    </picture>\\n                </div>\\n            </li>\\n                    <li>\\n                <div class=\"img\">\\n                                        <picture>\\n                        <source data-srcset=\"https://images.smartshanghai.com.cn/uploads/compressed/2024/08/06/c7977381-14b1-4463-9118-669e7e2dbdd2.jpg.686.0.webp 686w, https://images.smartshanghai.com.cn/uploads/compressed/2024/08/06/c7977381-14b1-4463-9118-669e7e2dbdd2.jpg.1333.0.webp 1333w\" sizes=\"686px\" type=\"image/webP\">\\n                        <img class=\"lightboxable lazy-load\" data-src=\"https://images.smartshanghai.com.cn/uploads/compressed/2024/08/06/c7977381-14b1-4463-9118-669e7e2dbdd2.jpg.686.0.jpg\" alt=\"Impressive 1BR lane house | Jing\\'an Temple L2/7 | Highceiling | Terrace\" title=\"Picture for Impressive 1BR lane house | Jing\\'an Temple L2/7 | Highceiling | Terrace in Shanghai\">\\n                    </picture>\\n                </div>\\n            </li>\\n                    <li>\\n                <div class=\"img\">\\n                                        <picture>\\n                        <source data-srcset=\"https://images.smartshanghai.com.cn/uploads/compressed/2024/08/06/33e6943c-edda-4c84-9921-b7d0dc4294e2.jpg.686.0.webp 686w, https://images.smartshanghai.com.cn/uploads/compressed/2024/08/06/33e6943c-edda-4c84-9921-b7d0dc4294e2.jpg.1000.0.webp 1000w\" sizes=\"686px\" type=\"image/webP\">\\n                        <img class=\"lightboxable lazy-load\" data-src=\"https://images.smartshanghai.com.cn/uploads/compressed/2024/08/06/33e6943c-edda-4c84-9921-b7d0dc4294e2.jpg.686.0.jpg\" alt=\"Impressive 1BR lane house | Jing\\'an Temple L2/7 | Highceiling | Terrace\" title=\"Picture for Impressive 1BR lane house | Jing\\'an Temple L2/7 | Highceiling | Terrace in Shanghai\">\\n                    </picture>\\n                </div>\\n            </li>\\n                    <li>\\n                <div class=\"img\">\\n                                        <picture>\\n                        <source data-srcset=\"https://images.smartshanghai.com.cn/uploads/compressed/2024/08/06/a39768e6-336f-421c-953f-2e7dc0b8e918.jpg.686.0.webp 686w, https://images.smartshanghai.com.cn/uploads/compressed/2024/08/06/a39768e6-336f-421c-953f-2e7dc0b8e918.jpg.1000.0.webp 1000w\" sizes=\"686px\" type=\"image/webP\">\\n                        <img class=\"lightboxable lazy-load\" data-src=\"https://images.smartshanghai.com.cn/uploads/compressed/2024/08/06/a39768e6-336f-421c-953f-2e7dc0b8e918.jpg.686.0.jpg\" alt=\"Impressive 1BR lane house | Jing\\'an Temple L2/7 | Highceiling | Terrace\" title=\"Picture for Impressive 1BR lane house | Jing\\'an Temple L2/7 | Highceiling | Terrace in Shanghai\">\\n                    </picture>\\n                </div>\\n            </li>\\n            </ul>\\n\\n    <div class=\"pictures-number\">\\n        <span class=\"pictures-number-index\">1</span>/14\\n    </div>\\n</div>\\n                                                <div class=\"buttons-on-picture\">\\n                            <div class=\"button onLargePicture favorite addOrRemoveHousingFavorite addHousingFavorite\" data-listingid=\"1605144\">Favorite</div>\\n                        </div>\\n                    </div>\\n\\n                    <div class=\"listing-info\">\\n\\n                        <div class=\"area\">\\n                           Jing\\'an  - Jing\\'an Temple                        </div>\\n\\n                        <h1 itemprop=\"name\">\\n                            Impressive 1BR lane house | Jing\\'an Temple L2/7 | Highceiling | Terrace\\n                        </h1>\\n\\n\\n                        <div class=\"price\">\\n                            Price: <span class=\"currency\">\\xc2\\xa5</span> <span class=\"price\">11,000</span> <span class=\"periodType\">/ Month</span>\\n\\n                        </div>\\n\\n                        <div class=\"posted-and-views\">\\n                                                            Posted <span>August  6, 2024, at 12:24 PM</span>\\n                                                        \\xc2\\xb7  Viewed <span>23</span> times\\n\\n                        </div>\\n\\n                        <div class=\"sharing-buttons\">\\n                            <a href=\"\" class=\"filter-button share-venue\"><span class=\"icon icon-upload\"></span>Share</a>\\n                            <a class=\"filter-button favorite addOrRemoveHousingFavorite addHousingFavorite\" data-listingid=\"1605144\"><span class=\"icon icon-heart-empty\"></span>Favorite</a>\\n                        </div>\\n\\n\\n                        <div class=\"details\">\\n\\n\\n\\n                            <ul>\\n                                <li>\\n                                    <label>Type:</label>\\n\\n                                    <div>\\n                                                                                    Apartments\\n                                        \\n                                                                            </div>\\n                                </li>\\n\\n                                <li>\\n                                    <label>Available From:</label>\\n\\n                                    <div>\\n                                        Available Now                                    </div>\\n                                </li>\\n\\n                                <li>\\n                                    <label>Minimal Rental Period:</label>\\n\\n                                    <div>\\n                                        12 months                                     </div>\\n                                </li>\\n\\n                                <li>\\n                                    <label>Deposit Requirement:</label>\\n\\n                                    <div>\\n                                        <b>1</b> months\\' rent                                    </div>\\n                                </li>\\n\\n                                <li>\\n                                    <label>Advance Rent Payment:</label>\\n\\n                                    <div>\\n                                        <b>3</b> months\\' rent                                    </div>\\n                                </li>\\n\\n                                <li>\\n                                    <label>Agency Commission:</label>\\n\\n                                    <div>\\n                                        35%\\n                                    </div>\\n                                </li>\\n\\n                                                                    <li>\\n                                        <label>Rooms:</label>\\n\\n                                        <div>\\n                                            <span itemprop=\"numberOfBedrooms\">1</span> Bedrooms, <span itemprop=\"numberOfBathroomsTotal\">1</span> Bathrooms\\n                                        </div>\\n                                    </li>\\n                                \\n                                \\n                                <li>\\n                                    <label> Size:</label>\\n\\n                                    <div>\\n                                        60 sqm                                    </div>\\n                                </li>\\n\\n                                <li>\\n                                    <label>Floor:</label>\\n\\n                                    <div>\\n                                        3\\n                                    </div>\\n                                </li>\\n\\n                                <li>\\n                                    <label>Furnished:</label>\\n\\n                                    <div>\\n                                                                                    Furnished                                                                            </div>\\n                                </li>\\n\\n                                <li>\\n                                    <label>Main Window Facing:</label>\\n\\n                                    <div>\\n                                        South\\n                                    </div>\\n                                </li>\\n\\n\\n\\n                                <li>\\n                                    <label> District:</label>\\n\\n                                    <div>\\n                                        Jing\\'an                                    </div>\\n                                </li>\\n\\n                                <li>\\n                                    <label> Area:</label>\\n\\n                                    <div>\\n                                        Jing\\'an Temple                                    </div>\\n                                </li>\\n\\n                                <li>\\n                                    <label> Compound:</label>\\n\\n                                    <div>\\n                                                                                    <a href=\"https://www.smartshanghai.com/venue/20731/bubbling_well_lane\">Bubbling Well Lane  /  \\xe6\\xb6\\x8c\\xe6\\xb3\\x89\\xe5\\x9d\\x8a</a>\\n                                                                            </div>\\n                                </li>\\n\\n                                <li>\\n                                    <label> Metro Station:</label>\\n\\n                                    <div>\\n                                                                                                                                5 minutes walk to <a href=\"/metro/stations/108/jiangsu-rd\">Jiangsu Rd</a> on line(s)     <p class=\"metro-line-indicator\" style=\"background-color: #86102b\">\\n        <a href=\"/metro/lines/5/11\">11</a>\\n    </p>\\n    <p class=\"metro-line-indicator\" style=\"background-color: #8fc722\">\\n        <a href=\"/metro/lines/8/2\">2</a>\\n    </p>\\n                                                                            </div>\\n                                </li>\\n\\n                            </ul>\\n\\n                            <div class=\"description\" itemprop=\"description\">\\n                                Layout: 1 Br/1 Bt<br />\\r\\nFloor: 3F<br />\\r\\nPrice: RMB 11000<br />\\r\\nMetro: 10 minutes walking to L2/11 at Jiangsu rd metro station.<br />\\r\\n5 minutes walking to L2/7 at Jing\\xe2\\x80\\x99an Temple metro station .<br />\\r\\n<br />\\r\\nNice, clean modern style furniture, loft style.<br />\\r\\nWell Decorated with modern fresh style.<br />\\r\\nFully equipped with kitchen, clean bathroom.bright and cozy home feeling .<br />\\r\\nWhole 3rd floor ,with a lot of storage .<br />\\r\\nVery high ceiling ,floor heating ,central AC .<br />\\r\\nPublic terrace on the top .<br />\\r\\n<br />\\r\\nYou can spend your free time here reading, exercising, having dinners with friends etc. And taking care of flowers and plants if you enjoy that.<br />\\r\\n<br />\\r\\nSuper competitive price arrcoding to the decoration and the location .<br />\\r\\n<br />\\r\\n<br />\\r\\nCan view at anytime - mornings, evenings, weekends.<br />\\r\\n\\n\\n                                \\n                                \\n\\n                            </div>\\n\\n\\n\\n                        </div>\\n\\n\\n\\n\\n                        <div class=\"amenities\">\\n                            <h3>Amenities</h3>\\n                            <ul>\\n                                                                    <li class=\"negative\">\\n                                        Air Filter\\n\\n                                                                            </li>\\n                                                                    <li class=\"positive\">\\n                                        Balcony\\n\\n                                                                            </li>\\n                                                                    <li class=\"negative\">\\n                                        English Speaking Landlord\\n\\n                                                                            </li>\\n                                                                    <li class=\"negative\">\\n                                        Fitness Centers\\n\\n                                                                            </li>\\n                                                                    <li class=\"positive\">\\n                                        Floor Heating\\n\\n                                                                            </li>\\n                                                                    <li class=\"negative\">\\n                                        Garden\\n\\n                                                                            </li>\\n                                                                    <li class=\"negative\">\\n                                        Historic Building\\n\\n                                                                            </li>\\n                                                                    <li class=\"positive\">\\n                                        Landlord lives in Shanghai\\n\\n                                                                            </li>\\n                                                                    <li class=\"positive\">\\n                                        Large Storage Room\\n\\n                                                                            </li>\\n                                                                    <li class=\"positive\">\\n                                        Oven\\n\\n                                                                            </li>\\n                                                                    <li class=\"negative\">\\n                                        Parking\\n\\n                                                                            </li>\\n                                                                    <li class=\"positive\">\\n                                        Pets Allowed\\n\\n                                                                                    <span style=\"display: none\" itemprop=\"petsAllowed\">\\n                                                true                                            </span>\\n                                                                            </li>\\n                                                                    <li class=\"negative\">\\n                                        Playground\\n\\n                                                                            </li>\\n                                                                    <li class=\"negative\">\\n                                        Pool\\n\\n                                                                            </li>\\n                                                                    <li class=\"negative\">\\n                                        Tennis Courts\\n\\n                                                                            </li>\\n                                                                    <li class=\"negative\">\\n                                        Villa\\n\\n                                                                            </li>\\n                                                                    <li class=\"negative\">\\n                                        Wall heating\\n\\n                                                                            </li>\\n                                                                    <li class=\"negative\">\\n                                        Water Filter\\n\\n                                                                            </li>\\n                                                            </ul>\\n                        </div>\\n\\n                        <div>\\n                            \\n                                <div class=\"maps\" id=\"map\">\\n                                    <ul>\\n                                        <li>\\n                                            <a href=\"?provider=google#map\" class=\"button map select-google-map\">Use Google Maps</a>\\n                                        </li>\\n                                        <li>\\n                                            <a href=\"?provider=gaode#map\" class=\"button map select-gaode-map\">Use Gaode Maps</a>\\n                                        </li>\\n                                    </ul>\\n\\n                                    <input type=\"hidden\" id=\"locsel-lat\" value=\"31.222521\">\\n                                    <input type=\"hidden\" id=\"locsel-lng\" value=\"121.441589\">\\n\\n                                    <div id=\"housing-map-viewport\" style=\"height: 440px; width: 100%;\">Map is loading...</div>\\n                                </div>\\n                                                        <span style=\"display: none\" itemprop=\"longitude\">31.222521</span>\\n                            <span style=\"display: none\" itemprop=\"latitude\">121.441589</span>\\n                        </div>\\n\\n                    </div>\\n                </div>\\n\\n\\n                                <div class=\"venue pane\">\\n                    <h3>\\n                        Compound\\n                    </h3>\\n                    <h2><a href=\"/venue/20731/bubbling_well_lane\">Bubbling Well Lane</a></h2>\\n\\n                                                            <div class=\"pictures\">\\n                                            </div>\\n                    \\n                    <ul class=\"xinxi\">\\n                        <li>\\n                            <div class=\"wenzi description\">\\n                                                                    <p>No description available for this compound yet. </p>\\n                                                            </div>\\n                        </li>\\n                    </ul>\\n\\n                    <a href=\"/venue/20731/bubbling_well_lane\" class=\"button default2020\">View Profile</a>\\n\\n\\n\\n\\n                </div>\\n\\n                \\n                \\n\\n                \\n\\n                    <div class=\"agency-profile pane\">\\n                        <h3>\\n                            Agency Profile\\n                        </h3>\\n                        <h2>\\n                            <a href=\"/agencies/353/wanna-home\">WannaHome</a>\\n                        </h2>\\n                        <div class=\"logo\">\\n                            <img src=\"\" alt=\"\">\\n                        </div>\\n\\n                        <ul class=\"badges\">\\n                            <li class=\"verified\">Verified Business</li>                            <li class=\"agency-type-2\">\\n                                Premium Account\\n                            </li>\\n                        </ul>\\n\\n                        <ul class=\"xinxi\">\\n\\n                            <li>\\n                                <div class=\"shuxin\">Property Types:</div>\\n                                <div class=\"wenzi\">\\n                                    <a href=\"https://www.smartshanghai.com/housing/apartments-rent\">Apartments (381)</a>\\n                                </div>\\n                            </li>\\n\\n                            <li>\\n                                <div class=\"shuxin\">Districts:</div>\\n                                <div class=\"wenzi\">\\n                                    Changning (149), Putuo (51), Jing\\'an (99), Xuhui (59), Huangpu (17), Minhang (4), Baoshan (2)\\n                                </div>\\n                            </li>\\n\\n                            <li class=\"not-flexed\">\\n                                <div class=\"wenzi\">\\n                                    <p>Agency Website: <a href=\"https://www.shchitang.com/\" itemprop=\"tourBookingPage\">https://www.shchitang.com/</a></p>\\n                                    <p>Agency Hotline: <span itemprop=\"telephone\">021-62459873</span></p>\\n                                    <p>WeChat Official Account: </p>\\n                                </div>\\n                            </li>\\n\\n\\n                                                        <li class=\"not-flexed\">\\n                                <div class=\"shuxin\">Self Introduction:</div>\\n                                <div class=\"description\">\\n                                    <p>We at WannaHome speak your language. We wish you all have good exp&eacute;riences in shangha&iuml; ! We have best service, provide you one-stop service. Below are the list of services we render to our beloved clients :<br />&nbsp;&nbsp;&nbsp;&nbsp; - &nbsp; Provide rental invoice (3.5% extra fee of per month)<br />&nbsp;&nbsp;&nbsp;&nbsp; -&nbsp;&nbsp;&nbsp; Help you register with the local police station<br />&nbsp;&nbsp;&nbsp;&nbsp; -&nbsp;&nbsp;&nbsp; Room cleaning and replacement service<br />&nbsp;&nbsp;&nbsp;&nbsp; -&nbsp;&nbsp;&nbsp; Provide Satellite TV, WiFi, and cable broadband<br />&nbsp;&nbsp;&nbsp;&nbsp; -&nbsp;&nbsp;&nbsp; Provide moving and car rental service<br />&nbsp;<br />And if you Wanna Travel, we also organize adventure and relaxing trips around Shanghai! Our coming trips: paragliding, horse riding, Moganshan hiking, kayaking, rafting and many more!</p>\\n                                </div>\\n                            </li>\\n                            \\n                        </ul>\\n\\n                        <div class=\"list-housing-landing\">\\n                            <ul class=\"list-housing shorter\">\\n                                                                    <li class=\"listing\">\\n    \\n    <a href=\"https://www.smartshanghai.com/housing/apartments-rent/1605099\">\\n        <div class=\"cont\">\\n            <div class=\"favorite roundFavoriteButton open-sign-in\" data-listingid=\"1605099\"></div>            \\n                        \\n                <div class=\"img list-components\">\\n    <ul class=\"circular-skin housing-list-slider\" style=\"min-height: 166px\">\\n                    <li>\\n                <picture>\\n                                        <source data-srcset=\"https://images.smartshanghai.com.cn/uploads/compressed/2024/08/05/3fe10c52-2eb8-4a15-8bae-702437a85a83.jpg.360.240.webp 360w, https://images.smartshanghai.com.cn/uploads/compressed/2024/08/05/3fe10c52-2eb8-4a15-8bae-702437a85a83.jpg.720.480.webp 720w\" sizes=\"300px\" type=\"image/webp\">\\n                    <img data-src=\"https://images.smartshanghai.com.cn/uploads/compressed/2024/08/05/3fe10c52-2eb8-4a15-8bae-702437a85a83.jpg.300.200.jpg\" class=\"lazy-load\" width=\"300\" height=\"200\">\\n                </picture>\\n            </li>\\n                    <li>\\n                <picture>\\n                                        <source data-srcset=\"https://images.smartshanghai.com.cn/uploads/compressed/2024/08/05/79f0d136-2c63-418e-9ca4-09502eb2023a.jpg.360.240.webp 360w, https://images.smartshanghai.com.cn/uploads/compressed/2024/08/05/79f0d136-2c63-418e-9ca4-09502eb2023a.jpg.720.480.webp 720w\" sizes=\"300px\" type=\"image/webp\">\\n                    <img data-src=\"https://images.smartshanghai.com.cn/uploads/compressed/2024/08/05/79f0d136-2c63-418e-9ca4-09502eb2023a.jpg.300.200.jpg\" class=\"lazy-load\" width=\"300\" height=\"200\">\\n                </picture>\\n            </li>\\n                    <li>\\n                <picture>\\n                                        <source data-srcset=\"https://images.smartshanghai.com.cn/uploads/compressed/2024/08/05/a091158b-7d58-403f-be61-e3988888a252.jpg.360.240.webp 360w, https://images.smartshanghai.com.cn/uploads/compressed/2024/08/05/a091158b-7d58-403f-be61-e3988888a252.jpg.720.480.webp 720w\" sizes=\"300px\" type=\"image/webp\">\\n                    <img data-src=\"https://images.smartshanghai.com.cn/uploads/compressed/2024/08/05/a091158b-7d58-403f-be61-e3988888a252.jpg.300.200.jpg\" class=\"lazy-load\" width=\"300\" height=\"200\">\\n                </picture>\\n            </li>\\n                    <li>\\n                <picture>\\n                                        <source data-srcset=\"https://images.smartshanghai.com.cn/uploads/compressed/2024/08/05/bd2cd06f-2907-4496-84c8-5167993d8f35.jpg.360.240.webp 360w, https://images.smartshanghai.com.cn/uploads/compressed/2024/08/05/bd2cd06f-2907-4496-84c8-5167993d8f35.jpg.720.480.webp 720w\" sizes=\"300px\" type=\"image/webp\">\\n                    <img data-src=\"https://images.smartshanghai.com.cn/uploads/compressed/2024/08/05/bd2cd06f-2907-4496-84c8-5167993d8f35.jpg.300.200.jpg\" class=\"lazy-load\" width=\"300\" height=\"200\">\\n                </picture>\\n            </li>\\n            </ul>\\n</div>\\n            \\n            <div class=\"body\">\\n\\n                <div class=\"area\">\\n                    Changning District\\n\\n                                    </div>\\n\\n                <h3>\\n                    New&Fabulous&Spacious 1Bdr 1Bath/L2/3/4 Zhongshan Park/Nice Livingroom\\n                </h3>\\n\\n                <div class=\"price\">\\n                    <span class=\"currency\">\\xc2\\xa5</span> 9,800 <span class=\"periodType\">/ Month</span>\\n                </div>\\n                <div class=\"room-type\">\\n                    60 sqm, 1 Bedrooms & 1 Bathrooms\\n                </div>\\n                <div class=\"features\">\\n                    Playground<span> \\xc2\\xb7 </span>Pets Allowed<span> \\xc2\\xb7 </span>Large Storage Room\\n                </div>\\n\\n                <div class=\"company-info\">\\n                    <div>\\n                        <div class=\"address\">\\n                           17 hours ago by\\n                                                        <span class=\"user-name\">\\n                                Myles Zhao\\n\\n                                                                    @ WannaHome                                                            </span>\\n                        </div>\\n                    </div>\\n                </div>\\n            </div>\\n\\n        </div>\\n    </a>\\n</li>\\n\\n                                                                    <li class=\"listing\">\\n    \\n    <a href=\"https://www.smartshanghai.com/housing/apartments-rent/1605092\">\\n        <div class=\"cont\">\\n            <div class=\"favorite roundFavoriteButton open-sign-in\" data-listingid=\"1605092\"></div>            \\n                        \\n                <div class=\"img list-components\">\\n    <ul class=\"circular-skin housing-list-slider\" style=\"min-height: 166px\">\\n                    <li>\\n                <picture>\\n                                        <source data-srcset=\"https://images.smartshanghai.com.cn/uploads/compressed/2024/08/05/2dee02c5-2d4c-4c5a-bfb7-add2f43bff08.jpg.360.240.webp 360w, https://images.smartshanghai.com.cn/uploads/compressed/2024/08/05/2dee02c5-2d4c-4c5a-bfb7-add2f43bff08.jpg.720.480.webp 720w\" sizes=\"300px\" type=\"image/webp\">\\n                    <img data-src=\"https://images.smartshanghai.com.cn/uploads/compressed/2024/08/05/2dee02c5-2d4c-4c5a-bfb7-add2f43bff08.jpg.300.200.jpg\" class=\"lazy-load\" width=\"300\" height=\"200\">\\n                </picture>\\n            </li>\\n                    <li>\\n                <picture>\\n                                        <source data-srcset=\"https://images.smartshanghai.com.cn/uploads/compressed/2024/08/05/b86873d7-8ea6-4947-a023-3734c94b4dce.jpg.360.240.webp 360w, https://images.smartshanghai.com.cn/uploads/compressed/2024/08/05/b86873d7-8ea6-4947-a023-3734c94b4dce.jpg.720.480.webp 720w\" sizes=\"300px\" type=\"image/webp\">\\n                    <img data-src=\"https://images.smartshanghai.com.cn/uploads/compressed/2024/08/05/b86873d7-8ea6-4947-a023-3734c94b4dce.jpg.300.200.jpg\" class=\"lazy-load\" width=\"300\" height=\"200\">\\n                </picture>\\n            </li>\\n                    <li>\\n                <picture>\\n                                        <source data-srcset=\"https://images.smartshanghai.com.cn/uploads/compressed/2024/08/05/d0bb6e61-c765-4815-948c-aa0efde7cb98.jpg.360.240.webp 360w, https://images.smartshanghai.com.cn/uploads/compressed/2024/08/05/d0bb6e61-c765-4815-948c-aa0efde7cb98.jpg.720.480.webp 720w\" sizes=\"300px\" type=\"image/webp\">\\n                    <img data-src=\"https://images.smartshanghai.com.cn/uploads/compressed/2024/08/05/d0bb6e61-c765-4815-948c-aa0efde7cb98.jpg.300.200.jpg\" class=\"lazy-load\" width=\"300\" height=\"200\">\\n                </picture>\\n            </li>\\n                    <li>\\n                <picture>\\n                                        <source data-srcset=\"https://images.smartshanghai.com.cn/uploads/compressed/2024/08/05/06d2fe3c-a77f-409b-9ac0-0af914ac8707.jpg.360.240.webp 360w, https://images.smartshanghai.com.cn/uploads/compressed/2024/08/05/06d2fe3c-a77f-409b-9ac0-0af914ac8707.jpg.720.480.webp 720w\" sizes=\"300px\" type=\"image/webp\">\\n                    <img data-src=\"https://images.smartshanghai.com.cn/uploads/compressed/2024/08/05/06d2fe3c-a77f-409b-9ac0-0af914ac8707.jpg.300.200.jpg\" class=\"lazy-load\" width=\"300\" height=\"200\">\\n                </picture>\\n            </li>\\n            </ul>\\n</div>\\n            \\n            <div class=\"body\">\\n\\n                <div class=\"area\">\\n                    Putuo District\\n\\n                                    </div>\\n\\n                <h3>\\n                    Modern&Bright 2Bedrooms 1Bath Apt/L11/15 Shanghai West Railway Station/L7 Xincun Rd\\n                </h3>\\n\\n                <div class=\"price\">\\n                    <span class=\"currency\">\\xc2\\xa5</span> 13,000 <span class=\"periodType\">/ Month</span>\\n                </div>\\n                <div class=\"room-type\">\\n                    120 sqm, 2 Bedrooms & 1 Bathrooms\\n                </div>\\n                <div class=\"features\">\\n                    Floor Heating<span> \\xc2\\xb7 </span>English Speaking Landlord<span> \\xc2\\xb7 </span>Balcony\\n                </div>\\n\\n                <div class=\"company-info\">\\n                    <div>\\n                        <div class=\"address\">\\n                           19 hours ago by\\n                                                        <span class=\"user-name\">\\n                                Myles Zhao\\n\\n                                                                    @ WannaHome                                                            </span>\\n                        </div>\\n                    </div>\\n                </div>\\n            </div>\\n\\n        </div>\\n    </a>\\n</li>\\n\\n                                                                    <li class=\"listing\">\\n    \\n    <a href=\"https://www.smartshanghai.com/housing/apartments-rent/1604846\">\\n        <div class=\"cont\">\\n            <div class=\"favorite roundFavoriteButton open-sign-in\" data-listingid=\"1604846\"></div>            \\n                        \\n                <div class=\"img list-components\">\\n    <ul class=\"circular-skin housing-list-slider\" style=\"min-height: 166px\">\\n                    <li>\\n                <picture>\\n                                        <source data-srcset=\"https://images.smartshanghai.com.cn/uploads/compressed/2024/08/04/3c8772c0-75ea-43fa-9bfc-3b250b22b1ee.jpg.360.240.webp 360w, https://images.smartshanghai.com.cn/uploads/compressed/2024/08/04/3c8772c0-75ea-43fa-9bfc-3b250b22b1ee.jpg.720.480.webp 720w\" sizes=\"300px\" type=\"image/webp\">\\n                    <img data-src=\"https://images.smartshanghai.com.cn/uploads/compressed/2024/08/04/3c8772c0-75ea-43fa-9bfc-3b250b22b1ee.jpg.300.200.jpg\" class=\"lazy-load\" width=\"300\" height=\"200\">\\n                </picture>\\n            </li>\\n                    <li>\\n                <picture>\\n                                        <source data-srcset=\"https://images.smartshanghai.com.cn/uploads/compressed/2024/08/04/266bf3fa-73d1-4b08-98a7-e9535bc5b9ff.jpg.360.240.webp 360w, https://images.smartshanghai.com.cn/uploads/compressed/2024/08/04/266bf3fa-73d1-4b08-98a7-e9535bc5b9ff.jpg.720.480.webp 720w\" sizes=\"300px\" type=\"image/webp\">\\n                    <img data-src=\"https://images.smartshanghai.com.cn/uploads/compressed/2024/08/04/266bf3fa-73d1-4b08-98a7-e9535bc5b9ff.jpg.300.200.jpg\" class=\"lazy-load\" width=\"300\" height=\"200\">\\n                </picture>\\n            </li>\\n                    <li>\\n                <picture>\\n                                        <source data-srcset=\"https://images.smartshanghai.com.cn/uploads/compressed/2024/08/04/45749429-a4f6-4434-8fb9-61e59035d5ed.jpg.360.240.webp 360w, https://images.smartshanghai.com.cn/uploads/compressed/2024/08/04/45749429-a4f6-4434-8fb9-61e59035d5ed.jpg.720.480.webp 720w\" sizes=\"300px\" type=\"image/webp\">\\n                    <img data-src=\"https://images.smartshanghai.com.cn/uploads/compressed/2024/08/04/45749429-a4f6-4434-8fb9-61e59035d5ed.jpg.300.200.jpg\" class=\"lazy-load\" width=\"300\" height=\"200\">\\n                </picture>\\n            </li>\\n                    <li>\\n                <picture>\\n                                        <source data-srcset=\"https://images.smartshanghai.com.cn/uploads/compressed/2024/08/04/267576ea-9408-4498-8f36-0e5901a6e620.jpg.360.240.webp 360w, https://images.smartshanghai.com.cn/uploads/compressed/2024/08/04/267576ea-9408-4498-8f36-0e5901a6e620.jpg.720.480.webp 720w\" sizes=\"300px\" type=\"image/webp\">\\n                    <img data-src=\"https://images.smartshanghai.com.cn/uploads/compressed/2024/08/04/267576ea-9408-4498-8f36-0e5901a6e620.jpg.300.200.jpg\" class=\"lazy-load\" width=\"300\" height=\"200\">\\n                </picture>\\n            </li>\\n            </ul>\\n</div>\\n            \\n            <div class=\"body\">\\n\\n                <div class=\"area\">\\n                    Changning District\\n\\n                                    </div>\\n\\n                <h3>\\n                    Big 1Br/Next to L2/11 Jiangsu Rd/Many windows/Bright/Balcony+Elevator\\n                </h3>\\n\\n                <div class=\"price\">\\n                    <span class=\"currency\">\\xc2\\xa5</span> 9,500 <span class=\"periodType\">/ Month</span>\\n                </div>\\n                <div class=\"room-type\">\\n                    70 sqm, 1 Bedrooms & 1 Bathrooms\\n                </div>\\n                <div class=\"features\">\\n                    Oven<span> \\xc2\\xb7 </span>Landlord lives in Shanghai<span> \\xc2\\xb7 </span>Balcony\\n                </div>\\n\\n                <div class=\"company-info\">\\n                    <div>\\n                        <div class=\"address\">\\n                           1 day ago by\\n                                                        <span class=\"user-name\">\\n                                Myles Zhao\\n\\n                                                                    @ WannaHome                                                            </span>\\n                        </div>\\n                    </div>\\n                </div>\\n            </div>\\n\\n        </div>\\n    </a>\\n</li>\\n\\n                                                                    <li class=\"listing\">\\n    \\n    <a href=\"https://www.smartshanghai.com/housing/apartments-rent/1604838\">\\n        <div class=\"cont\">\\n            <div class=\"favorite roundFavoriteButton open-sign-in\" data-listingid=\"1604838\"></div>            \\n                        \\n                <div class=\"img list-components\">\\n    <ul class=\"circular-skin housing-list-slider\" style=\"min-height: 166px\">\\n                    <li>\\n                <picture>\\n                                        <source data-srcset=\"https://images.smartshanghai.com.cn/uploads/compressed/2024/08/04/56fb6955-6468-4ecc-81ed-f154ffaa1cbb.jpg.360.240.webp 360w, https://images.smartshanghai.com.cn/uploads/compressed/2024/08/04/56fb6955-6468-4ecc-81ed-f154ffaa1cbb.jpg.720.480.webp 720w\" sizes=\"300px\" type=\"image/webp\">\\n                    <img data-src=\"https://images.smartshanghai.com.cn/uploads/compressed/2024/08/04/56fb6955-6468-4ecc-81ed-f154ffaa1cbb.jpg.300.200.jpg\" class=\"lazy-load\" width=\"300\" height=\"200\">\\n                </picture>\\n            </li>\\n                    <li>\\n                <picture>\\n                                        <source data-srcset=\"https://images.smartshanghai.com.cn/uploads/compressed/2024/08/04/61b30906-ea67-4391-80b0-d769baa2c763.jpg.360.240.webp 360w, https://images.smartshanghai.com.cn/uploads/compressed/2024/08/04/61b30906-ea67-4391-80b0-d769baa2c763.jpg.720.480.webp 720w\" sizes=\"300px\" type=\"image/webp\">\\n                    <img data-src=\"https://images.smartshanghai.com.cn/uploads/compressed/2024/08/04/61b30906-ea67-4391-80b0-d769baa2c763.jpg.300.200.jpg\" class=\"lazy-load\" width=\"300\" height=\"200\">\\n                </picture>\\n            </li>\\n                    <li>\\n                <picture>\\n                                        <source data-srcset=\"https://images.smartshanghai.com.cn/uploads/compressed/2024/08/04/5a8e9ac5-ff09-431a-8013-6ca5cb2e476b.jpg.360.240.webp 360w, https://images.smartshanghai.com.cn/uploads/compressed/2024/08/04/5a8e9ac5-ff09-431a-8013-6ca5cb2e476b.jpg.720.480.webp 720w\" sizes=\"300px\" type=\"image/webp\">\\n                    <img data-src=\"https://images.smartshanghai.com.cn/uploads/compressed/2024/08/04/5a8e9ac5-ff09-431a-8013-6ca5cb2e476b.jpg.300.200.jpg\" class=\"lazy-load\" width=\"300\" height=\"200\">\\n                </picture>\\n            </li>\\n                    <li>\\n                <picture>\\n                                        <source data-srcset=\"https://images.smartshanghai.com.cn/uploads/compressed/2024/08/04/653b3b00-a637-49fa-bff6-dd884f144831.jpg.360.240.webp 360w, https://images.smartshanghai.com.cn/uploads/compressed/2024/08/04/653b3b00-a637-49fa-bff6-dd884f144831.jpg.720.480.webp 720w\" sizes=\"300px\" type=\"image/webp\">\\n                    <img data-src=\"https://images.smartshanghai.com.cn/uploads/compressed/2024/08/04/653b3b00-a637-49fa-bff6-dd884f144831.jpg.300.200.jpg\" class=\"lazy-load\" width=\"300\" height=\"200\">\\n                </picture>\\n            </li>\\n            </ul>\\n</div>\\n            \\n            <div class=\"body\">\\n\\n                <div class=\"area\">\\n                    Putuo District\\n\\n                                    </div>\\n\\n                <h3>\\n                    Modern&Spacious&Bright 2Bdrs 2Baths/Open Balcony/L13 Jiang Ning Rd/Great Compound\\n                </h3>\\n\\n                <div class=\"price\">\\n                    <span class=\"currency\">\\xc2\\xa5</span> 19,000 <span class=\"periodType\">/ Month</span>\\n                </div>\\n                <div class=\"room-type\">\\n                    120 sqm, 2 Bedrooms & 2 Bathrooms\\n                </div>\\n                <div class=\"features\">\\n                    Oven<span> \\xc2\\xb7 </span>Large Storage Room<span> \\xc2\\xb7 </span>Floor Heating\\n                </div>\\n\\n                <div class=\"company-info\">\\n                    <div>\\n                        <div class=\"address\">\\n                           1 day ago by\\n                                                        <span class=\"user-name\">\\n                                Myles Zhao\\n\\n                                                                    @ WannaHome                                                            </span>\\n                        </div>\\n                    </div>\\n                </div>\\n            </div>\\n\\n        </div>\\n    </a>\\n</li>\\n\\n                                                            </ul>\\n                        </div>\\n                        <a href=\"/agencies/353/wanna-home\" class=\"button default2020\">View Agency Profile</a>\\n                    </div>\\n                \\n                \\n                <div class=\"smsh-remind pane\">\\n                    <p>\\n                        SmartShanghai Housing is the most established English-language rental platform in Shanghai, serving the international community and new arriving English-speakers in Shanghai for over 20 years.\\n                    </p>\\n\\n                    <p>We ensure all listings meet our strict criteria before they are posted. However, we <b>cannot take responsibility</b> for disputes with landlords, agencies, other users, or the content of the listings.</p>\\n\\n                    <p>Curious about safety concerns or whether prices on our site are inflated? <br><a href=\"https://www.smartshanghai.com/articles/smartshanghai/smartshanghai-housing-what-you-need-to-know\"><b>Click here to learn more</b>.</a></p>\\n                </div>\\n            </div>\\n\\n\\n            <div class=\"right\">\\n\\n                <div id=\"contact-company-lightbox\">\\n                    <div id=\"contact-company\">\\n\\n            \\n        <div class=\"user\">\\n            <div class=\"avatar\">\\n                <img src=\"https://images.smartshanghai.com/uploads/repository/2024/04/08/00e6624e-c917-441d-bf1d-fa0d3d7af1fd.jpg\" alt=\"\">\\n            </div>\\n            <div>\\n                <p class=\"agency-title\">\\n                                            Verified Property Agent\\n                    \\n                </p>\\n                <p class=\"username\">Myles Zhao</p>\\n            </div>\\n        </div>\\n\\n        <p>\\n        <ul class=\"contact-methods\">\\n            <li>\\n                <span>WeChat:</span> WANNAHOME2008\\n            </li>\\n                            <li style=\"text-align: center;\">\\n                    <img src=\"https://images.smartshanghai.com/uploads/repository/2024/01/06/d2e56126-603d-40e7-aff4-fce498b1db02.jpg\" style=\"max-width: 150px; margin: 0 auto;\">\\n                </li>\\n                        <li>\\n                <span>Phone:</span> 18309200940\\n            </li>\\n        </ul>\\n        <form id=\"privateMessageForm\" class=\"privateMessageForm\">\\n    <div class=\"loader\">\\n        <img src=\"https://images.smartshanghai.com/img/general/loading.svg\">\\n    </div>\\n    <div class=\"success\">\\n        <p>Message sent</p>\\n        <p class=\"app-teaser\" style=\"margin-top: 10px;\">You will receive replies in your Inbox on <a href=\"/apps/\">the SmartShanghai app</a>.</p>\\n    </div>\\n    <div class=\"error\">\\n        <p>Error Sending Message</p>\\n        <p class=\"errorMessage\"></p>\\n    </div>\\n\\n    <div class=\"input\">\\n                    <p class=\"sign-in-notice\">Please <a href=\"/signin/?origin=https://www.smartshanghai.com/housing/apartments-rent/1605144\">sign in</a> or <a href=\"/register\">register</a> to send a message</p>\\n            </div>\\n</form>\\n        </p>\\n\\n    \\n\\n</div>\\n                </div>\\n\\n                                    <div class=\"listing-verification-status\">\\n\\n                        <h2>Listing Verification</h2>\\n                        <p>This is a listing posted by a registered property agency. Please report if provided information is incorrect. </p>\\n\\n                        <ul>\\n                                                            <li class=\"confirmed\">\\n                                    <p class=\"title\">Pictures taken by Agency</p>\\n                                    <p>The Agency has indicated that they have visited this property and taken the pictures by themselves, and guarantees that the pictures show the actual property</p>\\n                                </li>\\n                            \\n                                                            <li class=\"unconfirmed\">\\n                                    <p class=\"title\">Non Exclusive Agency</p>\\n                                    <p>This property may be available from other agencies, and it may have been rented by another agency since it was posted.</p>\\n                                </li>\\n                                                    </ul>\\n\\n                        <div class=\"reportListing\"><a>Report this listing</a></div>\\n\\n\\n                    </div>\\n                \\n\\n                \\n\\n                <div class=\"report-listing-lightbox\" id=\"housing-listing-report-listing\">\\n    <div class=\"report-listing\">\\n        <h2><img src=\"/img/housing2/icon_flag.svg\" alt=\"\">Report Listing: </h2>\\n\\n                    <p style=\"padding: 100px 0; margin: 0 auto; font-size: 18px; text-align: center;\">Thanks for your support. Please <a class=\"open-sign-in\" style=\"color: red;\">sign in</a> or <a href=\"https://www.smartshanghai.com/register/\" style=\"color: red;\">register</a> to flag listings.</p>\\n        \\n        <div class=\"close\">\\n            Cancel\\n        </div>\\n    </div>\\n</div>\\n\\n                <div class=\"bigboxes wider\">\\n                    <p class=\"label\">ADVERTISEMENT</p>\\n    <a href=\"https://adsrvr.smartshanghai.com/ads/adclick/17512?url=https://x.d4t.cn/bNAPSB\">\\n        <img src=\"https://adsrvr.smartshanghai.com/uploads/repository/2024/04/29/3d4ab76a-d1cd-483d-8dc7-01e15b1571db.jpg\" class=\"bigBox\" width=\"300\" height=\"260\">\\n    </a>\\n    <a href=\"https://adsrvr.smartshanghai.com/ads/adclick/17478?url=https://www.smartshanghai.com/venue/6642/You_You_Space\">\\n        <img src=\"https://adsrvr.smartshanghai.com/uploads/repository/2024/02/28/ff8727a2-931e-4569-9319-d0f77ad5e0e2.gif\" class=\"bigBox\" width=\"300\" height=\"260\">\\n    </a>\\n    <a href=\"https://adsrvr.smartshanghai.com/ads/adclick/17567?url=https://www.smartshanghai.com/event/72645\">\\n        <img src=\"https://adsrvr.smartshanghai.com/uploads/repository/2024/07/29/688a608d-1055-436a-bcea-97bf6cf937cb.gif\" class=\"bigBox\" width=\"300\" height=\"260\">\\n    </a>\\n    <a href=\"https://adsrvr.smartshanghai.com/ads/adclick/17557?url=https://www.smartshanghai.com/event/76946\">\\n        <img src=\"https://adsrvr.smartshanghai.com/uploads/repository/2024/07/15/10d08533-7c1e-4be1-98e9-9344335387b6.jpg\" class=\"bigBox\" width=\"300\" height=\"260\">\\n    </a>\\n    <a href=\"https://adsrvr.smartshanghai.com/ads/adclick/17564?url=https://www.parkwaychina.com/en\">\\n        <img src=\"https://adsrvr.smartshanghai.com/uploads/repository/2024/07/23/f7b35977-c521-43b9-a676-44900bb85e93.jpg\" class=\"bigBox\" width=\"300\" height=\"260\">\\n    </a>\\n                </div>\\n\\n\\n            </div>\\n        </div>\\n\\n        <div class=\"mobile-contact-company\" id=\"mobile-contact-company\">\\n                            <a href=\"\">Contact Agency</a>\\n                    </div>\\n    </div>\\n\\n\\n\\n\\n    <!-- \\xe7\\xa4\\xbe\\xe4\\xba\\xa4\\xe5\\xb9\\xb3\\xe5\\x8f\\xb0lightbox -->\\n\\n    <div class=\"share-lightbox hidden\">\\n\\n    <div class=\"wechat\">\\n        <h3>\\n            <span class=\"icon icon-wechat-original icon-wechat-original-dims\"></span>Scan to share on WeChat\\n        </h3>\\n                    <img class=\"wechat-qr\" src=\"/housing/1605144/smshwxmpqr.jpeg?share=true\" alt=\"\" loading=\"lazy\">\\n            </div>\\n\\n\\n    <div class=\"buttons\">\\n        <p>Share Link:</p>\\n                    <a class=\"share-button\" href=\"http://www.facebook.com/share.php?u=https%3A%2F%2Fwww.smartshanghai.com%2Fhousing%2Fapartments-rent%2F1605144\">\\n                <span class=\"icon venue--icon-facebook venue--icon-facebook-dims\"></span>Facebook\\n            </a>\\n            <a class=\"share-button\" href=\"http://twitter.com/home?status=https%3A%2F%2Fwww.smartshanghai.com%2Fhousing%2Fapartments-rent%2F1605144\">\\n                <span class=\"icon venue--icon-twitter venue--icon-twitter-dims\"></span>Twitter\\n            </a>\\n            <a class=\"share-button\" href=\"http://service.weibo.com/share/share.php?url=https%3A%2F%2Fwww.smartshanghai.com%2Fhousing%2Fapartments-rent%2F1605144&language=en&title=Impressive+1BR+lane+house+%7C+Jing%27an+Temple+L2%2F7+%7C+Highceiling+%7C+Terrace\">\\n                <span class=\"icon venue--icon-weibo venue--icon-weibo-dims\"></span>Weibo\\n            </a>\\n            </div>\\n    <div class=\"label\">\\n        The link to this listing:\\n    </div>\\n    <div class=\"share-link\">\\n        <input class=\"copy-val\" readonly=\"readonly\" name=\"\" id=\"\" value=\"https://www.smartshanghai.com/housing/apartments-rent/1605144\">\\n        <div class=\"copy-link\"></div>\\n    </div>\\n</div>\\n\\n<script type=\"text/javascript\">\\n    document.addEventListener(\\'DOMContentLoaded\\', function() {\\n        $(\\'.share-lightbox .copy-link\\').on(\\'click\\', function () {\\n            $(\\'.share-lightbox .copy-val\\').select();\\n\\n            try {\\n                var state = document.execCommand(\"copy\");\\n            }\\n            catch(err){\\n                var state = false;\\n            }\\n            if(state){\\n                alert(\"Copy Completed\")\\n            }else{\\n                alert(\"Copy Failed\")\\n            }\\n        })\\n    })\\n</script>\\n\\n\\n\\n\\n    <div id=\"site-footer\">\\n\\n            <div class=\"ad-block\">\\n    <div class=\"main-column\">\\n        <p class=\"ad-notice\">Advertisement</p>\\n        <div class=\"img\">\\n            <a href=\"https://adsrvr.smartshanghai.com/ads/adclick/17560?url=https://www.smartshanghai.com/event/76949\" target=\"_blank\">\\n                <img src=\"https://adsrvr.smartshanghai.com/uploads/repository/2024/07/18/2e688f77-5bfa-4e6c-9baa-d05e39490405.gif\" class=\"topBanner\">\\n            </a>\\n        </div>\\n    </div>\\n</div>\\n    \\n    \\n    <div class=\"footer-ground\">\\n        <div class=\"site-main-column\">\\n            <div class=\"about-us\">\\n                <div class=\"logo\">\\n                    <a href=\"https://www.smartshanghai.com\">\\n                        <div class=\"footer--smsh-logo-write footer--smsh-logo-write-dims\"></div>\\n                    </a>\\n                </div>\\n                <p>\\n                    SmartShanghai.com is the longest-running English online magazine in Shanghai. We are an independent media publication created by a team of long-term, opinionated, and knowledgeable writers. We provide English-speaking residents and visitors with a curated guide to explore and celebrate the best of Shanghai.\\n                </p>\\n            </div>\\n            <div class=\"navigate\">\\n                <h2>\\n                    NAVIGATE\\n                </h2>\\n                <ul>\\n                    <li><a href=\"https://www.smartshanghai.com/service/about\">About Us</a></li>\\n                    <li><a href=\"https://www.smartshanghai.com/contact\">Contact Us</a></li>\\n                    <li><a href=\"https://www.smartshanghai.com/mediakit\">Advertise</a></li>\\n                    <li><a href=\"https://www.smartshanghai.com/faq\">FAQ</a></li>\\n                    <li><a href=\"https://www.smartshanghai.com/privacy\">Privacy</a></li>\\n                </ul>\\n            </div>\\n            <div class=\"get-listed\">\\n                <h2>\\n                    GET LISTED\\n                </h2>\\n                <ul>\\n                    <li><a href=\"https://www.smartshanghai.com/events/add\">List An Event</a> on our <a href=\"http://www.smartshanghai.com/events/\" class=\"gray\">curated editorial events page</a></li>\\n                    <li><a href=\"https://www.smartshanghai.com/jobs/add\">Post a Job</a> on <a href=\"http://www.smartshanghai.com/jobs/\" class=\"gray\">Shanghai\\'s best English jobs boards</a></li>\\n                    <li><a href=\"https://www.smartshanghai.com/buyandsell/add\">Sell Something</a> using our <a href=\"http://www.smartshanghai.com/buyandsell/\" class=\"gray\">Buy & Sell classifieds</a></li>\\n                    <li><a href=\"https://www.smartshanghai.com/service/venues\">List Your Business</a> in <a href=\"http://www.smartshanghai.com/listings/\" class=\"gray\">Shanghai\\'s largest English directory</a></li>\\n                    <li><a href=\"https://www.smartticket.cn/sell\">Sell Tickets</a> using our <a href=\"https://www.smartticket.cn/\" class=\"gray\">SmartTicket ticketing service</a></li>\\n                </ul>\\n            </div>\\n        </div>\\n    </div>\\n\\n        <div class=\"footer-open-concierge\">\\n        <div class=\"site-main-column\">\\n            <div class=\"img\">\\n                <a href=\"/concierge/\">\\n                    <img class=\"image\" src=\"/img/mediakit/smsh-concierge-header.png\">\\n                </a>\\n            </div>\\n            <div class=\"txt\">\\n                <div class=\"desktop\">\\n                    <b>Need Help?</b> Try <u><a href=\"/concierge/\">SmartShanghai Concierge</a></u> for tailored recommendations and hands-on assistance.\\n                </div>\\n                <div class=\"mobile\">\\n                    <b>Need Help?</b> Try <u><a href=\"/concierge/\">SmSh Concierge</a></u> for tailored recommendations and hands-on assistance.\\n                </div>\\n\\n\\n            </div>\\n        </div>\\n    </div>\\n    \\n    <div class=\"footer-copyright\">\\n        <div class=\"site-main-column\">\\n            <div class=\"weblink\">\\n                <h2>\\n                    FOLLOW US\\n                </h2>\\n                <ul class=\"sharing-buttons\">\\n        \\n        <li>\\n            <a href=\"https://www.smartshanghai.com/wechat/\">\\n                <div class=\"footer--wechat footer--wechat-dims\"></div>\\n            </a>\\n        </li>\\n        <li>\\n            <a href=\"https://www.instagram.com/smartshanghai/\" target=\"_blank\">\\n                <div class=\"footer--instagram footer--instagram-dims\"></div>\\n            </a>\\n        </li>\\n        <li>\\n            <a href=\"http://www.facebook.com/smartshanghai\" target=\"_blank\">\\n                <div class=\"footer--facebook footer--instagram-dims\"></div>\\n            </a>\\n        </li>\\n\\n        <li>\\n            <a href=\"https://www.xiaohongshu.com/user/profile/6433a3ed000000002a0081c3\" target=\"_blank\">\\n                <div class=\"footer-xiaohongsu\">\\n                    <img src=\"/img/frontpage/logo_xiaohongsu.svg\" alt=\"\">\\n                </div>\\n            </a>\\n        </li>\\n    </ul>\\n            </div>\\n            <div class=\"copyright\">\\n                <p>\\n                    All material is copyright of SmartShanghai.com <br>\\n                    Made in and for Shanghai since 2003 | <a href=\"https://beian.miit.gov.cn\" target=\"_blank\">\\xe6\\xb2\\xaaICP\\xe5\\xa4\\x8708111777\\xe5\\x8f\\xb7-9</a>\\n                </p>\\n                <a class=\"return-top\" href=\"#\" title=\"Return Top\"></a>\\n            </div>\\n        </div>\\n    </div>\\n\\n</div>\\n\\n\\n\\n    <div class=\"lightBox user-favorites-light-box\" id=\"userFavoritesLightbox\">\\n    <div id=\"preloader\" style=\"text-align: center\"><img src=\"https://images.smartshanghai.com/img/general/loading.svg\"></div>\\n    <div id=\"hero\">\\n\\n\\n        <div id=\"requireSignIn\" class=\"hidden\">\\n            <div class=\"header\">\\n                <h1>Sign in to sync your<br>favorites across devices</h1>\\n                <p class=\"close\"></p>\\n            </div>\\n\\n            <div class=\"light-box-body\" style=\"padding: 0\">\\n                <a href=\"/signin/\"><button class=\"save\" style=\"width: 100%; border-radius: 0;\">Sign In</button></a>\\n            </div>\\n\\n\\n        </div>\\n\\n        <div id=\"saveToFavorites\" class=\"hidden\">\\n            <div class=\"header\">\\n                <h1>Save to Favorites</h1>\\n                <p class=\"close\"></p>\\n            </div>\\n\\n            <div class=\"light-box-body\">\\n                <textarea name=\"comment\" rows=\"2\" placeholder=\"Type a short comment why you like this venue, e.g. \\'Great date spot with Bund view\\'\" style=\"width: 100%;\"></textarea>\\n                <div class=\"checkbox\">\\n                    <input type=\"checkbox\" name=\"is_public\" value=\"1\" checked=\"checked\" id=\"favorites-is-public\">\\n                    <label for=\"favorites-is-public\">This comment is <b>public</b> and may be seen by others</label>\\n                </div>\\n\\n                <div class=\"scroll-hero\">\\n                    <ul class=\"light-favorites-list\" id=\"favorites-list-selection\">\\n                    </ul>\\n                    <ul>\\n                        <li class=\"create-new-list\"><img src=\"https://images.smartshanghai.com/img/icons/svg/icon-plus.svg\">Create a new List</li>\\n                    </ul>\\n                </div>\\n\\n\\n                <input type=\"text\" name=\"new_list_title\" class=\"hidden add-list\" placeholder=\"Enter List Title\">\\n                <input type=\"hidden\" name=\"venueId\" value=\"\">\\n\\n                    <input type=\"submit\" name=\"saveFavorite\" value=\"Loading ...\" class=\"save disabled\" disabled>\\n\\n            </div>\\n        </div>\\n\\n    </div>\\n\\n\\n    <div id=\"confirmation\" class=\"hidden confirmation\">\\n        <h1>Favorite Added</h1>\\n        <button class=\"close button blue\">Close Window</button>\\n    </div>\\n\\n</div>\\n<div id=\"sales-request-lightbox\" class=\"lightbox hidden\">\\n\\n    <h2>Thanks for your interest in our services</h2>\\n    <p>Please reach out to our sales team through a contact channel below:</p>\\n\\n    <h3>By WeChat</h3>\\n    <div class=\"sales-contact-method\">\\n        <div class=\"qrCode\"><img src=\"https://images.smartshanghai.com/img/service/jacob-smsh-qr.png\" loading=\"lazy\"></div>\\n    </div>\\n\\n\\n\\n\\n\\n\\n\\n\\n\\n\\n\\n\\n\\n</div>\\n\\n    <div class=\"site-fixed-bottom\">\\n\\n    <div class=\"feedback-box\" id=\"smsh-feedback-box\">\\n\\n    <div class=\"open-point\"></div>\\n\\n    <div class=\"bg-shadow\"></div>\\n\\n    <div class=\"feedback-box-body\">\\n\\n        <div class=\"spinner hidden\">\\n            <div><img src=\"https://images.smartshanghai.com/img/general/loading.svg\"></div>\\n        </div>\\n\\n        <div class=\"success hidden\">\\n            <div>\\n                <h1>Thank you for your feedback</h1>\\n                <p>Our editors and admins will review your message and respond to <a href=\"/userarea/messaging/\">your inbox</a></p>\\n                <button class=\"button default2020 close\">Close Window</button>\\n            </div>\\n        </div>\\n\\n        <div class=\"error hidden\">\\n            <div id=\"errorMessage\"></div>\\n        </div>\\n\\n        <div class=\"feedback-selects box\" id=\"feedback-index\">\\n\\n            <div class=\"navigation\">\\n                <div class=\"return\"><br></div>\\n                <div class=\"close\">Close</div>\\n            </div>\\n            <div class=\"hero\">\\n                <div class=\"feedback-section-button withBottomBorder\" data-tabslug=\"feedback-wronginfo\">\\n                    <h3>\\n                        <div class=\"icon-wrong icon-wrong-dims\" style=\"margin-right: 10px\"></div>\\n                        Report Wrong Information\\n                    </h3>\\n                    <div class=\"txt\">\\n                        Tell our editors about wrong, outdated or missing information on this page\\n                    </div>\\n                </div>\\n\\n                <div class=\"feedback-section-button withBottomBorder\" data-tabslug=\"feedback-bugreport\">\\n                    <h3>\\n                        <div class=\"icon-bug icon-bug-dims\" style=\"margin-right: 10px\"></div>\\n                        Report a Technical Bug\\n                    </h3>\\n                    <div class=\"txt\">\\n                        Tell our tech team about something that isn\\xe2\\x80\\x99t working the way it should\\n                    </div>\\n\\n                </div>\\n\\n                <div class=\"feedback-section-button\" data-tabslug=\"feedback-general\">\\n                    <h3>\\n                        <div class=\"icon-wrong icon-wrong-dims\" style=\"margin-right: 10px\"></div>\\n                        General Feedback\\n                    </h3>\\n                    <div class=\"txt\">\\n                        Reach out to us with feedback or ideas, or learn how to promote your Business\\n                    </div>\\n                </div>\\n\\n\\n            </div>\\n\\n        </div>\\n\\n\\n        <div class=\"feedback-selects technical hidden\" id=\"feedback-bugreport\">\\n\\n            <div class=\"navigation\">\\n                <div class=\"return\">&#8592; Return</div>\\n                <div class=\"close\">Close</div>\\n            </div>\\n\\n\\n            <div class=\"hero\">\\n                <div>\\n                    <h3>\\n                        <div class=\"icon-bug icon-bug-dims\" style=\"margin-right: 10px\"></div>\\n                        Report a Technical Bug\\n                    </h3>\\n                    <div class=\"txt\">\\n                        Tell our tech team about something that isn\\xe2\\x80\\x99t working the way it should\\n                    </div>\\n\\n                </div>\\n                <div>\\n                    <textarea name=\"\" cols=\"30\" rows=\"6\"></textarea>\\n                    <a href=\"\" class=\"button send submitFeedbackForm\" data-supportuserslug=\"technicalSupport\">SEND</a>\\n                </div>\\n            </div>\\n\\n        </div>\\n\\n\\n        <div class=\"feedback-selects wrong-information hidden\" id=\"feedback-wronginfo\">\\n\\n            <div class=\"navigation\">\\n                <div class=\"return\">&#8592; Return</div>\\n                <div class=\"close\">Close</div>\\n            </div>\\n\\n            <div class=\"hero\">\\n                <div>\\n                    <h3>\\n                        <div class=\"icon-wrong icon-wrong-dims\" style=\"margin-right: 10px\"></div>\\n                        Report Wrong Information\\n                    </h3>\\n                    <div class=\"txt\">\\n                        Tell our editors about wrong, outdated or missing information on this page\\n                    </div>\\n                </div>\\n                <div>\\n                    <textarea name=\"\" cols=\"30\" rows=\"6\"></textarea>\\n                    <a href=\"\" class=\"button send submitFeedbackForm\"  data-supportuserslug=\"directorySupport\">SEND</a>\\n                </div>\\n            </div>\\n\\n\\n        </div>\\n\\n\\n        <div class=\"feedback-selects general hidden\" id=\"feedback-general\">\\n\\n            <div class=\"navigation\">\\n                <div class=\"return\">&#8592; Return</div>\\n                <div class=\"close\">Close</div>\\n            </div>\\n\\n            <div class=\"hero\">\\n                <div class=\"feedback-section-button withBottomBorder\">\\n                    <a class=\"divider\" href=\"/mediakit/\">\\n                        <h3>\\n                            <div class=\"icon-promote icon-promote-dims\" style=\"margin-right: 10px\"></div>\\n                            Promote Your Business\\n                        </h3>\\n                        <div class=\"txt\">\\n                            Learn more about how you can promote your business with us.\\n                        </div>\\n                    </a>\\n                </div>\\n\\n                <div class=\"feedback-section-button withBottomBorder\">\\n                    <a class=\"divider\" href=\"/userarea\">\\n                        <h3>\\n                            <div class=\"icon-get icon-get-dims\" style=\"margin-right: 10px\"></div>\\n                            Get Listed\\n                        </h3>\\n                        <div class=\"txt\">\\n                            List an Event, a venue, job, apartment or something to sell on our site\\n                        </div>\\n                    </a>\\n                </div>\\n\\n                <div class=\"feedback-section-button\">\\n                    <a href=\"/contact/?sourceId=2\">\\n                        <h3>\\n                            <div class=\"icon-general icon-general-dims\" style=\"margin-right: 10px\"></div>\\n                            General Enquiry\\n                        </h3>\\n                        <div class=\"txt\">\\n                            Reach out to our team with feedback, ideas or to speak to a specific department\\n                        </div>\\n                    </a>\\n                </div>\\n\\n            </div>\\n\\n        </div>\\n    </div>\\n\\n</div>\\n\\n\\n</div>\\n</body>\\n</html>\\n'"
      ]
     },
     "execution_count": 86,
     "metadata": {},
     "output_type": "execute_result"
    }
   ],
   "source": [
    "requests.get(f'{baseurl}/1605144').content"
   ]
  },
  {
   "cell_type": "code",
   "execution_count": 87,
   "id": "0fa26aa1",
   "metadata": {},
   "outputs": [],
   "source": [
    "response = requests.get(f'{baseurl}/1605144')"
   ]
  },
  {
   "cell_type": "code",
   "execution_count": 88,
   "id": "93c226d7",
   "metadata": {},
   "outputs": [],
   "source": [
    "soup_info = BeautifulSoup(requests.get(f'{baseurl}/1605144').content, \"html.parser\")"
   ]
  },
  {
   "cell_type": "code",
   "execution_count": 89,
   "id": "6bf6aa56",
   "metadata": {},
   "outputs": [],
   "source": [
    "detail = soup_info.find_all('div', class_='details')[0].find_all(name='div')"
   ]
  },
  {
   "cell_type": "code",
   "execution_count": 105,
   "id": "c566eb86",
   "metadata": {
    "collapsed": true
   },
   "outputs": [
    {
     "data": {
      "text/plain": [
       "[<div>\n",
       "                                                                                     Apartments\n",
       "                                         \n",
       "                                                                             </div>,\n",
       " <div>\n",
       "                                         Available Now                                    </div>,\n",
       " <div>\n",
       "                                         12 months                                     </div>,\n",
       " <div>\n",
       " <b>1</b> months' rent                                    </div>,\n",
       " <div>\n",
       " <b>3</b> months' rent                                    </div>,\n",
       " <div>\n",
       "                                         35%\n",
       "                                     </div>,\n",
       " <div>\n",
       " <span itemprop=\"numberOfBedrooms\">1</span> Bedrooms, <span itemprop=\"numberOfBathroomsTotal\">1</span> Bathrooms\n",
       "                                         </div>,\n",
       " <div>\n",
       "                                         60 sqm                                    </div>,\n",
       " <div>\n",
       "                                         3\n",
       "                                     </div>,\n",
       " <div>\n",
       "                                                                                     Furnished                                                                            </div>,\n",
       " <div>\n",
       "                                         South\n",
       "                                     </div>,\n",
       " <div>\n",
       "                                         Jing'an                                    </div>,\n",
       " <div>\n",
       "                                         Jing'an Temple                                    </div>,\n",
       " <div>\n",
       " <a href=\"https://www.smartshanghai.com/venue/20731/bubbling_well_lane\">Bubbling Well Lane  /  涌泉坊</a>\n",
       " </div>,\n",
       " <div>\n",
       "                                                                                                                                 5 minutes walk to <a href=\"/metro/stations/108/jiangsu-rd\">Jiangsu Rd</a> on line(s)     <p class=\"metro-line-indicator\" style=\"background-color: #86102b\">\n",
       " <a href=\"/metro/lines/5/11\">11</a>\n",
       " </p>\n",
       " <p class=\"metro-line-indicator\" style=\"background-color: #8fc722\">\n",
       " <a href=\"/metro/lines/8/2\">2</a>\n",
       " </p>\n",
       " </div>,\n",
       " <div class=\"description\" itemprop=\"description\">\n",
       "                                 Layout: 1 Br/1 Bt<br/>\n",
       " Floor: 3F<br/>\n",
       " Price: RMB 11000<br/>\n",
       " Metro: 10 minutes walking to L2/11 at Jiangsu rd metro station.<br/>\n",
       " 5 minutes walking to L2/7 at Jing’an Temple metro station .<br/>\n",
       " <br/>\n",
       " Nice, clean modern style furniture, loft style.<br/>\n",
       " Well Decorated with modern fresh style.<br/>\n",
       " Fully equipped with kitchen, clean bathroom.bright and cozy home feeling .<br/>\n",
       " Whole 3rd floor ,with a lot of storage .<br/>\n",
       " Very high ceiling ,floor heating ,central AC .<br/>\n",
       " Public terrace on the top .<br/>\n",
       " <br/>\n",
       " You can spend your free time here reading, exercising, having dinners with friends etc. And taking care of flowers and plants if you enjoy that.<br/>\n",
       " <br/>\n",
       " Super competitive price arrcoding to the decoration and the location .<br/>\n",
       " <br/>\n",
       " <br/>\n",
       " Can view at anytime - mornings, evenings, weekends.<br/>\n",
       " </div>]"
      ]
     },
     "execution_count": 105,
     "metadata": {},
     "output_type": "execute_result"
    }
   ],
   "source": [
    "detail"
   ]
  },
  {
   "cell_type": "code",
   "execution_count": 109,
   "id": "a4f6d455",
   "metadata": {},
   "outputs": [
    {
     "name": "stdout",
     "output_type": "stream",
     "text": [
      "0\n",
      "Apartments\n",
      "1\n",
      "Available Now\n",
      "2\n",
      "12 months\n",
      "3\n",
      "1 months' rent\n",
      "4\n",
      "3 months' rent\n",
      "5\n",
      "35%\n",
      "6\n",
      "1 Bedrooms, 1 Bathrooms\n",
      "7\n",
      "60 sqm\n",
      "8\n",
      "3\n",
      "9\n",
      "Furnished\n",
      "10\n",
      "South\n",
      "11\n",
      "Jing'an\n",
      "12\n",
      "Jing'an Temple\n",
      "13\n",
      "Bubbling Well Lane  /  涌泉坊\n",
      "14\n",
      "5 minutes walk to Jiangsu Rd on line(s)     \n",
      "11\n",
      "\n",
      "\n",
      "2\n",
      "15\n",
      "Layout: 1 Br/1 Bt\r\n",
      "Floor: 3F\r\n",
      "Price: RMB 11000\r\n",
      "Metro: 10 minutes walking to L2/11 at Jiangsu rd metro station.\r\n",
      "5 minutes walking to L2/7 at Jing’an Temple metro station .\n",
      "\r\n",
      "Nice, clean modern style furniture, loft style.\r\n",
      "Well Decorated with modern fresh style.\r\n",
      "Fully equipped with kitchen, clean bathroom.bright and cozy home feeling .\r\n",
      "Whole 3rd floor ,with a lot of storage .\r\n",
      "Very high ceiling ,floor heating ,central AC .\r\n",
      "Public terrace on the top .\n",
      "\r\n",
      "You can spend your free time here reading, exercising, having dinners with friends etc. And taking care of flowers and plants if you enjoy that.\n",
      "\r\n",
      "Super competitive price arrcoding to the decoration and the location .\n",
      "\n",
      "\r\n",
      "Can view at anytime - mornings, evenings, weekends.\n"
     ]
    }
   ],
   "source": [
    "for indx, j in enumerate(detail):\n",
    "    print(indx)\n",
    "    print(j.text.strip())\n",
    "    "
   ]
  },
  {
   "cell_type": "code",
   "execution_count": 91,
   "id": "9cbce0d4",
   "metadata": {},
   "outputs": [],
   "source": [
    "Amenities = soup_info.find_all('div', class_='amenities')[0].find_all('li', class_=['positive', 'negative'])"
   ]
  },
  {
   "cell_type": "code",
   "execution_count": 93,
   "id": "b3209905",
   "metadata": {},
   "outputs": [],
   "source": [
    "amenities_dict = {}\n",
    "for amenity_li in Amenities:\n",
    "    amenity = amenity_li.text.strip()\n",
    "    amenities_dict[amenity] = 1 if 'positive' in amenity_li['class'] else 0\n",
    "            \n",
    "            # Add the amenity to the corresponding row in the original DataFrame\n",
    "raw.loc[raw['Listing_Id'] == list_id, list(amenities_dict.keys())] = pd.DataFrame([amenities_dict])"
   ]
  },
  {
   "cell_type": "code",
   "execution_count": 94,
   "id": "74c3701f",
   "metadata": {},
   "outputs": [
    {
     "data": {
      "text/plain": [
       "{'Air Filter': 0,\n",
       " 'Balcony': 1,\n",
       " 'English Speaking Landlord': 0,\n",
       " 'Fitness Centers': 0,\n",
       " 'Floor Heating': 1,\n",
       " 'Garden': 0,\n",
       " 'Historic Building': 0,\n",
       " 'Landlord lives in Shanghai': 1,\n",
       " 'Large Storage Room': 1,\n",
       " 'Oven': 1,\n",
       " 'Parking': 0,\n",
       " 'Pets Allowed\\n\\n                                                                                    \\n                                                true': 1,\n",
       " 'Playground': 0,\n",
       " 'Pool': 0,\n",
       " 'Tennis Courts': 0,\n",
       " 'Villa': 0,\n",
       " 'Wall heating': 0,\n",
       " 'Water Filter': 0}"
      ]
     },
     "execution_count": 94,
     "metadata": {},
     "output_type": "execute_result"
    }
   ],
   "source": [
    "amenities_dict"
   ]
  },
  {
   "cell_type": "code",
   "execution_count": 97,
   "id": "19ca06cd",
   "metadata": {},
   "outputs": [
    {
     "data": {
      "text/html": [
       "<div>\n",
       "<style scoped>\n",
       "    .dataframe tbody tr th:only-of-type {\n",
       "        vertical-align: middle;\n",
       "    }\n",
       "\n",
       "    .dataframe tbody tr th {\n",
       "        vertical-align: top;\n",
       "    }\n",
       "\n",
       "    .dataframe thead th {\n",
       "        text-align: right;\n",
       "    }\n",
       "</style>\n",
       "<table border=\"1\" class=\"dataframe\">\n",
       "  <thead>\n",
       "    <tr style=\"text-align: right;\">\n",
       "      <th></th>\n",
       "      <th>Listing_Id</th>\n",
       "      <th>Price</th>\n",
       "      <th>Size</th>\n",
       "      <th>N_Bedrooms</th>\n",
       "      <th>N_Bathrooms</th>\n",
       "    </tr>\n",
       "  </thead>\n",
       "  <tbody>\n",
       "    <tr>\n",
       "      <th>1</th>\n",
       "      <td>1605144</td>\n",
       "      <td>11000</td>\n",
       "      <td>60</td>\n",
       "      <td>1</td>\n",
       "      <td>1</td>\n",
       "    </tr>\n",
       "  </tbody>\n",
       "</table>\n",
       "</div>"
      ],
      "text/plain": [
       "  Listing_Id  Price Size N_Bedrooms N_Bathrooms\n",
       "1    1605144  11000   60          1           1"
      ]
     },
     "execution_count": 97,
     "metadata": {},
     "output_type": "execute_result"
    }
   ],
   "source": [
    "raw"
   ]
  },
  {
   "cell_type": "code",
   "execution_count": 98,
   "id": "2ee646f7",
   "metadata": {},
   "outputs": [
    {
     "data": {
      "text/html": [
       "<div>\n",
       "<style scoped>\n",
       "    .dataframe tbody tr th:only-of-type {\n",
       "        vertical-align: middle;\n",
       "    }\n",
       "\n",
       "    .dataframe tbody tr th {\n",
       "        vertical-align: top;\n",
       "    }\n",
       "\n",
       "    .dataframe thead th {\n",
       "        text-align: right;\n",
       "    }\n",
       "</style>\n",
       "<table border=\"1\" class=\"dataframe\">\n",
       "  <thead>\n",
       "    <tr style=\"text-align: right;\">\n",
       "      <th></th>\n",
       "      <th>Air Filter</th>\n",
       "      <th>Balcony</th>\n",
       "      <th>English Speaking Landlord</th>\n",
       "      <th>Fitness Centers</th>\n",
       "      <th>Floor Heating</th>\n",
       "      <th>Garden</th>\n",
       "      <th>Historic Building</th>\n",
       "      <th>Landlord lives in Shanghai</th>\n",
       "      <th>Large Storage Room</th>\n",
       "      <th>Oven</th>\n",
       "      <th>Parking</th>\n",
       "      <th>Pets Allowed\\n\\n                                                                                    \\n                                                true</th>\n",
       "      <th>Playground</th>\n",
       "      <th>Pool</th>\n",
       "      <th>Tennis Courts</th>\n",
       "      <th>Villa</th>\n",
       "      <th>Wall heating</th>\n",
       "      <th>Water Filter</th>\n",
       "    </tr>\n",
       "  </thead>\n",
       "  <tbody>\n",
       "    <tr>\n",
       "      <th>0</th>\n",
       "      <td>0</td>\n",
       "      <td>1</td>\n",
       "      <td>0</td>\n",
       "      <td>0</td>\n",
       "      <td>1</td>\n",
       "      <td>0</td>\n",
       "      <td>0</td>\n",
       "      <td>1</td>\n",
       "      <td>1</td>\n",
       "      <td>1</td>\n",
       "      <td>0</td>\n",
       "      <td>1</td>\n",
       "      <td>0</td>\n",
       "      <td>0</td>\n",
       "      <td>0</td>\n",
       "      <td>0</td>\n",
       "      <td>0</td>\n",
       "      <td>0</td>\n",
       "    </tr>\n",
       "  </tbody>\n",
       "</table>\n",
       "</div>"
      ],
      "text/plain": [
       "   Air Filter  Balcony  English Speaking Landlord  Fitness Centers  \\\n",
       "0           0        1                          0                0   \n",
       "\n",
       "   Floor Heating  Garden  Historic Building  Landlord lives in Shanghai  \\\n",
       "0              1       0                  0                           1   \n",
       "\n",
       "   Large Storage Room  Oven  Parking  \\\n",
       "0                   1     1        0   \n",
       "\n",
       "   Pets Allowed\\n\\n                                                                                    \\n                                                true  \\\n",
       "0                                                  1                                                                                                            \n",
       "\n",
       "   Playground  Pool  Tennis Courts  Villa  Wall heating  Water Filter  \n",
       "0           0     0              0      0             0             0  "
      ]
     },
     "execution_count": 98,
     "metadata": {},
     "output_type": "execute_result"
    }
   ],
   "source": [
    "pd.DataFrame([amenities_dict])"
   ]
  },
  {
   "cell_type": "code",
   "execution_count": 96,
   "id": "47d882aa",
   "metadata": {},
   "outputs": [
    {
     "data": {
      "text/html": [
       "<div>\n",
       "<style scoped>\n",
       "    .dataframe tbody tr th:only-of-type {\n",
       "        vertical-align: middle;\n",
       "    }\n",
       "\n",
       "    .dataframe tbody tr th {\n",
       "        vertical-align: top;\n",
       "    }\n",
       "\n",
       "    .dataframe thead th {\n",
       "        text-align: right;\n",
       "    }\n",
       "</style>\n",
       "<table border=\"1\" class=\"dataframe\">\n",
       "  <thead>\n",
       "    <tr style=\"text-align: right;\">\n",
       "      <th></th>\n",
       "      <th>Listing_Id</th>\n",
       "      <th>Price</th>\n",
       "      <th>Size</th>\n",
       "      <th>N_Bedrooms</th>\n",
       "      <th>N_Bathrooms</th>\n",
       "      <th>Air Filter</th>\n",
       "      <th>Balcony</th>\n",
       "      <th>English Speaking Landlord</th>\n",
       "      <th>Fitness Centers</th>\n",
       "      <th>Floor Heating</th>\n",
       "      <th>...</th>\n",
       "      <th>Large Storage Room</th>\n",
       "      <th>Oven</th>\n",
       "      <th>Parking</th>\n",
       "      <th>Pets Allowed\\n\\n                                                                                    \\n                                                true</th>\n",
       "      <th>Playground</th>\n",
       "      <th>Pool</th>\n",
       "      <th>Tennis Courts</th>\n",
       "      <th>Villa</th>\n",
       "      <th>Wall heating</th>\n",
       "      <th>Water Filter</th>\n",
       "    </tr>\n",
       "  </thead>\n",
       "  <tbody>\n",
       "  </tbody>\n",
       "</table>\n",
       "<p>0 rows × 23 columns</p>\n",
       "</div>"
      ],
      "text/plain": [
       "Empty DataFrame\n",
       "Columns: [Listing_Id, Price, Size, N_Bedrooms, N_Bathrooms, Air Filter, Balcony, English Speaking Landlord, Fitness Centers, Floor Heating, Garden, Historic Building, Landlord lives in Shanghai, Large Storage Room, Oven, Parking, Pets Allowed\n",
       "\n",
       "                                                                                    \n",
       "                                                true, Playground, Pool, Tennis Courts, Villa, Wall heating, Water Filter]\n",
       "Index: []\n",
       "\n",
       "[0 rows x 23 columns]"
      ]
     },
     "execution_count": 96,
     "metadata": {},
     "output_type": "execute_result"
    }
   ],
   "source": [
    "raw.merge(pd.DataFrame([amenities_dict]), left_index=True, right_index=True)"
   ]
  },
  {
   "cell_type": "code",
   "execution_count": null,
   "id": "d3d4cd34",
   "metadata": {},
   "outputs": [],
   "source": []
  },
  {
   "cell_type": "code",
   "execution_count": null,
   "id": "656ed816",
   "metadata": {},
   "outputs": [],
   "source": []
  },
  {
   "cell_type": "code",
   "execution_count": 73,
   "id": "1a255624",
   "metadata": {
    "scrolled": true
   },
   "outputs": [
    {
     "data": {
      "text/html": [
       "<div>\n",
       "<style scoped>\n",
       "    .dataframe tbody tr th:only-of-type {\n",
       "        vertical-align: middle;\n",
       "    }\n",
       "\n",
       "    .dataframe tbody tr th {\n",
       "        vertical-align: top;\n",
       "    }\n",
       "\n",
       "    .dataframe thead th {\n",
       "        text-align: right;\n",
       "    }\n",
       "</style>\n",
       "<table border=\"1\" class=\"dataframe\">\n",
       "  <thead>\n",
       "    <tr style=\"text-align: right;\">\n",
       "      <th></th>\n",
       "      <th>Listing_Id</th>\n",
       "      <th>Price</th>\n",
       "      <th>Size</th>\n",
       "      <th>N_Bedrooms</th>\n",
       "      <th>N_Bathrooms</th>\n",
       "      <th>Air Filter</th>\n",
       "      <th>Balcony</th>\n",
       "      <th>English Speaking Landlord</th>\n",
       "      <th>Fitness Centers</th>\n",
       "      <th>Floor Heating</th>\n",
       "      <th>...</th>\n",
       "      <th>Large Storage Room</th>\n",
       "      <th>Oven</th>\n",
       "      <th>Parking</th>\n",
       "      <th>Pets Allowed\\n\\n                                                                                    \\n                                                true</th>\n",
       "      <th>Playground</th>\n",
       "      <th>Pool</th>\n",
       "      <th>Tennis Courts</th>\n",
       "      <th>Villa</th>\n",
       "      <th>Wall heating</th>\n",
       "      <th>Water Filter</th>\n",
       "    </tr>\n",
       "  </thead>\n",
       "  <tbody>\n",
       "    <tr>\n",
       "      <th>1</th>\n",
       "      <td>1605144</td>\n",
       "      <td>11000</td>\n",
       "      <td>60</td>\n",
       "      <td>1</td>\n",
       "      <td>1</td>\n",
       "      <td>NaN</td>\n",
       "      <td>NaN</td>\n",
       "      <td>NaN</td>\n",
       "      <td>NaN</td>\n",
       "      <td>NaN</td>\n",
       "      <td>...</td>\n",
       "      <td>NaN</td>\n",
       "      <td>NaN</td>\n",
       "      <td>NaN</td>\n",
       "      <td>NaN</td>\n",
       "      <td>NaN</td>\n",
       "      <td>NaN</td>\n",
       "      <td>NaN</td>\n",
       "      <td>NaN</td>\n",
       "      <td>NaN</td>\n",
       "      <td>NaN</td>\n",
       "    </tr>\n",
       "  </tbody>\n",
       "</table>\n",
       "<p>1 rows × 23 columns</p>\n",
       "</div>"
      ],
      "text/plain": [
       "  Listing_Id  Price Size N_Bedrooms N_Bathrooms  Air Filter  Balcony  \\\n",
       "1    1605144  11000   60          1           1         NaN      NaN   \n",
       "\n",
       "   English Speaking Landlord  Fitness Centers  Floor Heating  ...  \\\n",
       "1                        NaN              NaN            NaN  ...   \n",
       "\n",
       "   Large Storage Room  Oven  Parking  \\\n",
       "1                 NaN   NaN      NaN   \n",
       "\n",
       "   Pets Allowed\\n\\n                                                                                    \\n                                                true  \\\n",
       "1                                                NaN                                                                                                            \n",
       "\n",
       "   Playground  Pool  Tennis Courts  Villa  Wall heating  Water Filter  \n",
       "1         NaN   NaN            NaN    NaN           NaN           NaN  \n",
       "\n",
       "[1 rows x 23 columns]"
      ]
     },
     "execution_count": 73,
     "metadata": {},
     "output_type": "execute_result"
    }
   ],
   "source": [
    "raw"
   ]
  },
  {
   "cell_type": "code",
   "execution_count": null,
   "id": "5b1137de",
   "metadata": {},
   "outputs": [],
   "source": []
  },
  {
   "cell_type": "code",
   "execution_count": 79,
   "id": "2ba147f6",
   "metadata": {},
   "outputs": [],
   "source": [
    "amenities = []\n",
    "for li in Amenities:\n",
    "    amenity = li.text.strip()\n",
    "    status = 1 if 'positive' in li['class'] else 0\n",
    "    amenities.append({'amenity': amenity, 'status': status})\n"
   ]
  },
  {
   "cell_type": "code",
   "execution_count": 80,
   "id": "9c449949",
   "metadata": {},
   "outputs": [
    {
     "data": {
      "text/plain": [
       "[{'amenity': 'Air Filter', 'status': 0},\n",
       " {'amenity': 'Balcony', 'status': 1},\n",
       " {'amenity': 'English Speaking Landlord', 'status': 0},\n",
       " {'amenity': 'Fitness Centers', 'status': 0},\n",
       " {'amenity': 'Floor Heating', 'status': 1},\n",
       " {'amenity': 'Garden', 'status': 0},\n",
       " {'amenity': 'Historic Building', 'status': 0},\n",
       " {'amenity': 'Landlord lives in Shanghai', 'status': 1},\n",
       " {'amenity': 'Large Storage Room', 'status': 1},\n",
       " {'amenity': 'Oven', 'status': 1},\n",
       " {'amenity': 'Parking', 'status': 0},\n",
       " {'amenity': 'Pets Allowed\\n\\n                                                                                    \\n                                                true',\n",
       "  'status': 1},\n",
       " {'amenity': 'Playground', 'status': 0},\n",
       " {'amenity': 'Pool', 'status': 0},\n",
       " {'amenity': 'Tennis Courts', 'status': 0},\n",
       " {'amenity': 'Villa', 'status': 0},\n",
       " {'amenity': 'Wall heating', 'status': 0},\n",
       " {'amenity': 'Water Filter', 'status': 0}]"
      ]
     },
     "execution_count": 80,
     "metadata": {},
     "output_type": "execute_result"
    }
   ],
   "source": [
    "amenities"
   ]
  },
  {
   "cell_type": "code",
   "execution_count": null,
   "id": "d814cd79",
   "metadata": {},
   "outputs": [],
   "source": []
  },
  {
   "cell_type": "code",
   "execution_count": 48,
   "id": "ac954045",
   "metadata": {},
   "outputs": [],
   "source": [
    "for list_id in raw['Listing_Id']:\n",
    "    response = requests.get(f'{baseurl}/{list_id}')\n",
    "    if response.status_code == 200:\n",
    "        soup_info = BeautifulSoup(response.content, \"html.parser\")\n",
    "        amenities = soup_info.find_all('div', class_='amenities')[0].find_all('li', class_=['positive', 'negative'])\n",
    "        \n",
    "    amenities_dict = {}\n",
    "    for amenity_li in amenities:\n",
    "        amenity = amenity_li.text.strip()\n",
    "        amenities_dict[amenity] = 1 if 'positive' in amenity_li['class'] else 0\n",
    "            \n",
    "    # Add the amenity to the corresponding row in the original DataFrame\n",
    "    raw.loc[raw['Listing_Id'] == list_id, list(amenities_dict.keys())] = pd.DataFrame([amenities_dict])\n",
    "    #raw.loc[raw['Listing_Id'] == list_id, amenity_name] = status"
   ]
  },
  {
   "cell_type": "code",
   "execution_count": 49,
   "id": "96e9281a",
   "metadata": {},
   "outputs": [
    {
     "data": {
      "text/html": [
       "<div>\n",
       "<style scoped>\n",
       "    .dataframe tbody tr th:only-of-type {\n",
       "        vertical-align: middle;\n",
       "    }\n",
       "\n",
       "    .dataframe tbody tr th {\n",
       "        vertical-align: top;\n",
       "    }\n",
       "\n",
       "    .dataframe thead th {\n",
       "        text-align: right;\n",
       "    }\n",
       "</style>\n",
       "<table border=\"1\" class=\"dataframe\">\n",
       "  <thead>\n",
       "    <tr style=\"text-align: right;\">\n",
       "      <th></th>\n",
       "      <th>Listing_Id</th>\n",
       "      <th>Price</th>\n",
       "      <th>Size</th>\n",
       "      <th>N_Bedrooms</th>\n",
       "      <th>N_Bathrooms</th>\n",
       "      <th>Air Filter</th>\n",
       "      <th>Balcony</th>\n",
       "      <th>English Speaking Landlord</th>\n",
       "      <th>Fitness Centers</th>\n",
       "      <th>Floor Heating</th>\n",
       "      <th>...</th>\n",
       "      <th>Large Storage Room</th>\n",
       "      <th>Oven</th>\n",
       "      <th>Parking</th>\n",
       "      <th>Pets Allowed\\n\\n                                                                                    \\n                                                true</th>\n",
       "      <th>Playground</th>\n",
       "      <th>Pool</th>\n",
       "      <th>Tennis Courts</th>\n",
       "      <th>Villa</th>\n",
       "      <th>Wall heating</th>\n",
       "      <th>Water Filter</th>\n",
       "    </tr>\n",
       "  </thead>\n",
       "  <tbody>\n",
       "    <tr>\n",
       "      <th>0</th>\n",
       "      <td>1605145</td>\n",
       "      <td>10500</td>\n",
       "      <td>85</td>\n",
       "      <td>2</td>\n",
       "      <td>1</td>\n",
       "      <td>0.0</td>\n",
       "      <td>1.0</td>\n",
       "      <td>1.0</td>\n",
       "      <td>0.0</td>\n",
       "      <td>0.0</td>\n",
       "      <td>...</td>\n",
       "      <td>1.0</td>\n",
       "      <td>0.0</td>\n",
       "      <td>1.0</td>\n",
       "      <td>1.0</td>\n",
       "      <td>1.0</td>\n",
       "      <td>0.0</td>\n",
       "      <td>0.0</td>\n",
       "      <td>0.0</td>\n",
       "      <td>0.0</td>\n",
       "      <td>0.0</td>\n",
       "    </tr>\n",
       "    <tr>\n",
       "      <th>1</th>\n",
       "      <td>1605144</td>\n",
       "      <td>11000</td>\n",
       "      <td>60</td>\n",
       "      <td>1</td>\n",
       "      <td>1</td>\n",
       "      <td>NaN</td>\n",
       "      <td>NaN</td>\n",
       "      <td>NaN</td>\n",
       "      <td>NaN</td>\n",
       "      <td>NaN</td>\n",
       "      <td>...</td>\n",
       "      <td>NaN</td>\n",
       "      <td>NaN</td>\n",
       "      <td>NaN</td>\n",
       "      <td>NaN</td>\n",
       "      <td>NaN</td>\n",
       "      <td>NaN</td>\n",
       "      <td>NaN</td>\n",
       "      <td>NaN</td>\n",
       "      <td>NaN</td>\n",
       "      <td>NaN</td>\n",
       "    </tr>\n",
       "  </tbody>\n",
       "</table>\n",
       "<p>2 rows × 23 columns</p>\n",
       "</div>"
      ],
      "text/plain": [
       "  Listing_Id  Price Size N_Bedrooms N_Bathrooms  Air Filter  Balcony  \\\n",
       "0    1605145  10500   85          2           1         0.0      1.0   \n",
       "1    1605144  11000   60          1           1         NaN      NaN   \n",
       "\n",
       "   English Speaking Landlord  Fitness Centers  Floor Heating  ...  \\\n",
       "0                        1.0              0.0            0.0  ...   \n",
       "1                        NaN              NaN            NaN  ...   \n",
       "\n",
       "   Large Storage Room  Oven  Parking  \\\n",
       "0                 1.0   0.0      1.0   \n",
       "1                 NaN   NaN      NaN   \n",
       "\n",
       "   Pets Allowed\\n\\n                                                                                    \\n                                                true  \\\n",
       "0                                                1.0                                                                                                            \n",
       "1                                                NaN                                                                                                            \n",
       "\n",
       "   Playground  Pool  Tennis Courts  Villa  Wall heating  Water Filter  \n",
       "0         1.0   0.0            0.0    0.0           0.0           0.0  \n",
       "1         NaN   NaN            NaN    NaN           NaN           NaN  \n",
       "\n",
       "[2 rows x 23 columns]"
      ]
     },
     "execution_count": 49,
     "metadata": {},
     "output_type": "execute_result"
    }
   ],
   "source": [
    "raw"
   ]
  },
  {
   "cell_type": "code",
   "execution_count": null,
   "id": "8a48eca6",
   "metadata": {},
   "outputs": [],
   "source": []
  },
  {
   "cell_type": "code",
   "execution_count": null,
   "id": "5a45fe33",
   "metadata": {},
   "outputs": [],
   "source": []
  },
  {
   "cell_type": "code",
   "execution_count": null,
   "id": "d56ee3b9",
   "metadata": {},
   "outputs": [],
   "source": []
  },
  {
   "cell_type": "code",
   "execution_count": null,
   "id": "2b50cc3a",
   "metadata": {},
   "outputs": [],
   "source": []
  },
  {
   "cell_type": "code",
   "execution_count": null,
   "id": "db672a9e",
   "metadata": {},
   "outputs": [],
   "source": []
  },
  {
   "cell_type": "code",
   "execution_count": 19,
   "id": "611e3d03",
   "metadata": {},
   "outputs": [],
   "source": []
  }
 ],
 "metadata": {
  "kernelspec": {
   "display_name": "Python 3 (ipykernel)",
   "language": "python",
   "name": "python3"
  },
  "language_info": {
   "codemirror_mode": {
    "name": "ipython",
    "version": 3
   },
   "file_extension": ".py",
   "mimetype": "text/x-python",
   "name": "python",
   "nbconvert_exporter": "python",
   "pygments_lexer": "ipython3",
   "version": "3.10.6"
  },
  "toc": {
   "base_numbering": 1,
   "nav_menu": {},
   "number_sections": true,
   "sideBar": true,
   "skip_h1_title": false,
   "title_cell": "Table of Contents",
   "title_sidebar": "Contents",
   "toc_cell": false,
   "toc_position": {},
   "toc_section_display": true,
   "toc_window_display": false
  }
 },
 "nbformat": 4,
 "nbformat_minor": 5
}
