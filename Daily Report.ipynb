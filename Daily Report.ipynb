{
 "cells": [
  {
   "cell_type": "code",
   "execution_count": 32,
   "id": "1485f47b",
   "metadata": {},
   "outputs": [],
   "source": [
    "import pandas as pd\n",
    "from data_cleaning import clean_data\n",
    "from data_scraping import get_data,extract_data, page_data"
   ]
  },
  {
   "cell_type": "code",
   "execution_count": 33,
   "id": "925978df",
   "metadata": {},
   "outputs": [],
   "source": [
    "house_data = pd.read_csv(\"housing_data_full.csv\",low_memory=False)\n",
    "house_data = house_data.drop(house_data.index)"
   ]
  },
  {
   "cell_type": "code",
   "execution_count": 34,
   "id": "37931bf6",
   "metadata": {},
   "outputs": [],
   "source": [
    "today = extract_data(get_data(0,1))"
   ]
  },
  {
   "cell_type": "code",
   "execution_count": 36,
   "id": "5304dfc0",
   "metadata": {},
   "outputs": [
    {
     "data": {
      "text/html": [
       "<div>\n",
       "<style scoped>\n",
       "    .dataframe tbody tr th:only-of-type {\n",
       "        vertical-align: middle;\n",
       "    }\n",
       "\n",
       "    .dataframe tbody tr th {\n",
       "        vertical-align: top;\n",
       "    }\n",
       "\n",
       "    .dataframe thead th {\n",
       "        text-align: right;\n",
       "    }\n",
       "</style>\n",
       "<table border=\"1\" class=\"dataframe\">\n",
       "  <thead>\n",
       "    <tr style=\"text-align: right;\">\n",
       "      <th></th>\n",
       "      <th>Listing_Id</th>\n",
       "      <th>Price</th>\n",
       "      <th>Size</th>\n",
       "      <th>N_Bedrooms</th>\n",
       "      <th>N_Bathrooms</th>\n",
       "      <th>Type</th>\n",
       "      <th>Available From</th>\n",
       "      <th>Agency Commission</th>\n",
       "      <th>Rooms</th>\n",
       "      <th>Floor</th>\n",
       "      <th>Furnished</th>\n",
       "      <th>Main Window Facing</th>\n",
       "      <th>District</th>\n",
       "      <th>Area</th>\n",
       "      <th>Compound</th>\n",
       "      <th>Metro</th>\n",
       "      <th>Longtitude</th>\n",
       "      <th>Latitude</th>\n",
       "      <th>Agent</th>\n",
       "      <th>Description</th>\n",
       "      <th>First_post</th>\n",
       "      <th>Refresh</th>\n",
       "      <th>Balcony</th>\n",
       "      <th>Landlord lives in Shanghai</th>\n",
       "      <th>Oven</th>\n",
       "      <th>Recently renovated</th>\n",
       "      <th>Air Filter</th>\n",
       "      <th>English Speaking Landlord</th>\n",
       "      <th>Fitness Centers</th>\n",
       "      <th>Floor Heating</th>\n",
       "      <th>Garden</th>\n",
       "      <th>Historic Building</th>\n",
       "      <th>Large Storage Room</th>\n",
       "      <th>Parking</th>\n",
       "      <th>Pets Allowed\\n\\n                                                                                    \\n                                                false</th>\n",
       "      <th>Playground</th>\n",
       "      <th>Pool</th>\n",
       "      <th>Tennis Courts</th>\n",
       "      <th>Wall heating</th>\n",
       "      <th>Water Filter</th>\n",
       "      <th>Pets Allowed\\n\\n                                                                                    \\n                                                true</th>\n",
       "      <th>Good View</th>\n",
       "      <th>Yoga Facilities</th>\n",
       "    </tr>\n",
       "  </thead>\n",
       "  <tbody>\n",
       "  </tbody>\n",
       "</table>\n",
       "</div>"
      ],
      "text/plain": [
       "Empty DataFrame\n",
       "Columns: [Listing_Id, Price, Size, N_Bedrooms, N_Bathrooms, Type, Available From, Agency Commission, Rooms, Floor, Furnished, Main Window Facing, District, Area, Compound, Metro, Longtitude, Latitude, Agent, Description, First_post, Refresh, Balcony, Landlord lives in Shanghai, Oven, Recently renovated, Air Filter, English Speaking Landlord, Fitness Centers, Floor Heating, Garden, Historic Building, Large Storage Room, Parking, Pets Allowed\n",
       "\n",
       "                                                                                    \n",
       "                                                false, Playground, Pool, Tennis Courts, Wall heating, Water Filter, Pets Allowed\n",
       "\n",
       "                                                                                    \n",
       "                                                true, Good View, Yoga Facilities]\n",
       "Index: []"
      ]
     },
     "execution_count": 36,
     "metadata": {},
     "output_type": "execute_result"
    }
   ],
   "source": [
    "house_data"
   ]
  },
  {
   "cell_type": "code",
   "execution_count": 20,
   "id": "c622d4db",
   "metadata": {},
   "outputs": [
    {
     "data": {
      "text/html": [
       "<div>\n",
       "<style scoped>\n",
       "    .dataframe tbody tr th:only-of-type {\n",
       "        vertical-align: middle;\n",
       "    }\n",
       "\n",
       "    .dataframe tbody tr th {\n",
       "        vertical-align: top;\n",
       "    }\n",
       "\n",
       "    .dataframe thead th {\n",
       "        text-align: right;\n",
       "    }\n",
       "</style>\n",
       "<table border=\"1\" class=\"dataframe\">\n",
       "  <thead>\n",
       "    <tr style=\"text-align: right;\">\n",
       "      <th></th>\n",
       "      <th>Listing_Id</th>\n",
       "      <th>Price</th>\n",
       "      <th>Size</th>\n",
       "      <th>N_Bedrooms</th>\n",
       "      <th>N_Bathrooms</th>\n",
       "      <th>Type</th>\n",
       "      <th>Available From</th>\n",
       "      <th>Agency Commission</th>\n",
       "      <th>Rooms</th>\n",
       "      <th>Floor</th>\n",
       "      <th>Furnished</th>\n",
       "      <th>Main Window Facing</th>\n",
       "      <th>District</th>\n",
       "      <th>Area</th>\n",
       "      <th>Compound</th>\n",
       "      <th>Metro</th>\n",
       "      <th>Longtitude</th>\n",
       "      <th>Latitude</th>\n",
       "      <th>Agent</th>\n",
       "      <th>Description</th>\n",
       "      <th>First_post</th>\n",
       "      <th>Refresh</th>\n",
       "      <th>Balcony</th>\n",
       "      <th>Landlord lives in Shanghai</th>\n",
       "      <th>Oven</th>\n",
       "      <th>Recently renovated</th>\n",
       "      <th>Air Filter</th>\n",
       "      <th>English Speaking Landlord</th>\n",
       "      <th>Fitness Centers</th>\n",
       "      <th>Floor Heating</th>\n",
       "      <th>Garden</th>\n",
       "      <th>Historic Building</th>\n",
       "      <th>Large Storage Room</th>\n",
       "      <th>Parking</th>\n",
       "      <th>Pets Allowed\\n\\n                                                                                    \\n                                                false</th>\n",
       "      <th>Playground</th>\n",
       "      <th>Pool</th>\n",
       "      <th>Tennis Courts</th>\n",
       "      <th>Wall heating</th>\n",
       "      <th>Water Filter</th>\n",
       "      <th>Pets Allowed\\n\\n                                                                                    \\n                                                true</th>\n",
       "      <th>Good View</th>\n",
       "      <th>Yoga Facilities</th>\n",
       "    </tr>\n",
       "  </thead>\n",
       "  <tbody>\n",
       "  </tbody>\n",
       "</table>\n",
       "</div>"
      ],
      "text/plain": [
       "Empty DataFrame\n",
       "Columns: [Listing_Id, Price, Size, N_Bedrooms, N_Bathrooms, Type, Available From, Agency Commission, Rooms, Floor, Furnished, Main Window Facing, District, Area, Compound, Metro, Longtitude, Latitude, Agent, Description, First_post, Refresh, Balcony, Landlord lives in Shanghai, Oven, Recently renovated, Air Filter, English Speaking Landlord, Fitness Centers, Floor Heating, Garden, Historic Building, Large Storage Room, Parking, Pets Allowed\n",
       "\n",
       "                                                                                    \n",
       "                                                false, Playground, Pool, Tennis Courts, Wall heating, Water Filter, Pets Allowed\n",
       "\n",
       "                                                                                    \n",
       "                                                true, Good View, Yoga Facilities]\n",
       "Index: []"
      ]
     },
     "execution_count": 20,
     "metadata": {},
     "output_type": "execute_result"
    }
   ],
   "source": [
    "house_data"
   ]
  },
  {
   "cell_type": "code",
   "execution_count": 19,
   "id": "3a39d5f6",
   "metadata": {},
   "outputs": [],
   "source": []
  },
  {
   "cell_type": "code",
   "execution_count": null,
   "id": "fbeb28ff",
   "metadata": {},
   "outputs": [],
   "source": [
    "house_data = pd.concat((house_data, today), ignore_index=True)\n",
    "house_data[\"extra_index\"] = house_data.Listing_Id\n",
    "house_data.set_index(\"extra_index\", inplace=True)\n",
    "today = page_data(house_data)"
   ]
  }
 ],
 "metadata": {
  "kernelspec": {
   "display_name": "Python 3 (ipykernel)",
   "language": "python",
   "name": "python3"
  },
  "language_info": {
   "codemirror_mode": {
    "name": "ipython",
    "version": 3
   },
   "file_extension": ".py",
   "mimetype": "text/x-python",
   "name": "python",
   "nbconvert_exporter": "python",
   "pygments_lexer": "ipython3",
   "version": "3.10.6"
  },
  "toc": {
   "base_numbering": 1,
   "nav_menu": {},
   "number_sections": true,
   "sideBar": true,
   "skip_h1_title": false,
   "title_cell": "Table of Contents",
   "title_sidebar": "Contents",
   "toc_cell": false,
   "toc_position": {},
   "toc_section_display": true,
   "toc_window_display": false
  }
 },
 "nbformat": 4,
 "nbformat_minor": 5
}
