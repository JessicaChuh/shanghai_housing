{
 "cells": [
  {
   "cell_type": "code",
   "execution_count": 1,
   "id": "96b44599",
   "metadata": {},
   "outputs": [],
   "source": [
    "import pandas as pd\n",
    "import numpy as np\n",
    "import matplotlib.pyplot as plt\n",
    "from sklearn.linear_model import LinearRegression, Lasso\n",
    "from sklearn.preprocessing import OrdinalEncoder,OneHotEncoder, RobustScaler, MinMaxScaler, StandardScaler\n",
    "from sklearn.model_selection import train_test_split, cross_validate, GridSearchCV,RandomizedSearchCV\n",
    "from sklearn.impute import SimpleImputer\n",
    "from sklearn.pipeline import Pipeline, make_pipeline\n",
    "from sklearn.compose import ColumnTransformer\n",
    "from xgboost import XGBRegressor\n",
    "from sklearn.metrics import mean_squared_log_error, mean_squared_error, make_scorer, mean_absolute_percentage_error, mean_absolute_error\n",
    "from sklearn.ensemble import RandomForestRegressor, StackingRegressor, BaggingRegressor, AdaBoostRegressor, GradientBoostingRegressor\n",
    "from sklearn.tree import DecisionTreeRegressor\n",
    "\n",
    "from sklearn import set_config; set_config(display='diagram')\n",
    "import geopandas as gpd"
   ]
  },
  {
   "cell_type": "code",
   "execution_count": 2,
   "id": "a82bd4dd",
   "metadata": {},
   "outputs": [
    {
     "data": {
      "text/plain": [
       "(26455, 42)"
      ]
     },
     "execution_count": 2,
     "metadata": {},
     "output_type": "execute_result"
    }
   ],
   "source": [
    "data = pd.read_csv('housing_data_full.csv')\n",
    "data.shape"
   ]
  },
  {
   "cell_type": "code",
   "execution_count": 3,
   "id": "44c2a228",
   "metadata": {},
   "outputs": [],
   "source": [
    "def clean_data(data):\n",
    "    \n",
    "    data.rename(columns={'Pets Allowed\\n\\n                                                                                    \\n                                                true':'Pets_allowed'},\n",
    "               inplace=True)\n",
    "    \n",
    "    to_drop = ['Rooms','Good View',\n",
    "           'Pets Allowed\\n\\n                                                                                    \\n                                                false']\n",
    "    data.drop(columns=to_drop, inplace=True)\n",
    "    \n",
    "    data['Size'].replace(r\"\\D+\", \"\", regex=True, inplace=True)\n",
    "    \n",
    "    #Floor has some non-numerical values, set them to 0 and convert it all to int\n",
    "    data['Floor'] = pd.to_numeric(data['Floor'], errors='coerce', downcast='integer').fillna(0)\n",
    "    \n",
    "    int_col = ['Price', 'Size', 'N_Bedrooms', 'N_Bathrooms','Floor']\n",
    "    float_col = ['Longtitude', 'Latitude']\n",
    "    \n",
    "    data[int_col] = data[int_col].astype('float32').astype('int32')\n",
    "    data[float_col] = data[float_col].astype('float32')\n",
    "    \n",
    "    # define regular expression pattern to match the different formats\n",
    "    pattern = r'(?:First Posted\\s+)?(\\w+\\s+\\d+)'\n",
    "    # extract month and day information as a string in the format 'Month day'\n",
    "    data['First_post'] = pd.to_datetime(data['First_post'].str.extract(pattern, expand=False), format='%B %d').dt.strftime('2023-%m-%d')\n",
    "\n",
    "    #for all the availabilities, if it's from now then change it to first post day, the rest remain unchanged. \n",
    "    data.loc[data['Available From'] == 'Available Now', 'Available From'] = data.loc[data['Available From'] == 'Available Now', 'First_post']\n",
    "    data['Available From'] = pd.to_datetime(data['Available From'], errors='coerce')\n",
    "\n",
    "    \n",
    "    #during the process of scraping data I got these 2 wrong\n",
    "    data.rename(columns={'Longtitude':'Latitude','Latitude':'Longtitude'}, inplace=True)\n",
    "    \n",
    "    #we will drop some ourliers such as price over 60k, cause I can't afford it\n",
    "    data.drop(index=data[data.Price > 60000].index, inplace=True)\n",
    "    #some agent can't tell the difference bewteen price and size, let's drop them too \n",
    "    data.drop(index=data[data.Size > 1000].index, inplace=True)\n",
    "    #for some reason this agent is posting same apartment with all different price, let's just ignor all his listing\n",
    "    data.drop(index=data[data.Agent == 'jdc107'].index, inplace=True)\n",
    "    #for those have less less than 1 bedroom and bathrooms\n",
    "    to_remove = data[data.N_Bedrooms < 1].index.to_list() + data[data.N_Bathrooms < 1].index.to_list()\n",
    "    data.drop(index=to_remove, inplace=True)\n",
    "    data.drop(index=data[data.Longtitude < 121].index, inplace=True)\n",
    "    data.drop(index=data[data.Latitude > 31.4].index, inplace=True)\n",
    "    # for those has different \"Furniture\" context\n",
    "    data.drop(index=[7696,19276],inplace=True)\n",
    "    \n",
    "    #will find a way to deal with these columns later \n",
    "    data.drop(columns=['Listing_Id','Agency Commission',\n",
    "                   'Main Window Facing', 'Area',\n",
    "                   'Compound','Agent', 'Description', 'Refresh','Type'], inplace=True)\n",
    "    data.Furnished.replace('-', 'Unfurnished',inplace=True)\n",
    "    data.Pets_allowed.fillna(0,inplace=True)\n",
    "    data.drop(index=data[data.Metro.isna()].index, inplace=True)\n",
    "    data = data.reset_index(drop=True)\n",
    "    return data"
   ]
  },
  {
   "cell_type": "code",
   "execution_count": 4,
   "id": "1dfe304b",
   "metadata": {},
   "outputs": [],
   "source": [
    "data = clean_data(data)"
   ]
  },
  {
   "cell_type": "code",
   "execution_count": 5,
   "id": "bfdc4252",
   "metadata": {},
   "outputs": [
    {
     "data": {
      "text/plain": [
       "(26059, 30)"
      ]
     },
     "execution_count": 5,
     "metadata": {},
     "output_type": "execute_result"
    }
   ],
   "source": [
    "data.shape"
   ]
  },
  {
   "cell_type": "code",
   "execution_count": 6,
   "id": "fb5a044e",
   "metadata": {},
   "outputs": [
    {
     "data": {
      "text/html": [
       "<div>\n",
       "<style scoped>\n",
       "    .dataframe tbody tr th:only-of-type {\n",
       "        vertical-align: middle;\n",
       "    }\n",
       "\n",
       "    .dataframe tbody tr th {\n",
       "        vertical-align: top;\n",
       "    }\n",
       "\n",
       "    .dataframe thead th {\n",
       "        text-align: right;\n",
       "    }\n",
       "</style>\n",
       "<table border=\"1\" class=\"dataframe\">\n",
       "  <thead>\n",
       "    <tr style=\"text-align: right;\">\n",
       "      <th></th>\n",
       "      <th>Price</th>\n",
       "      <th>Size</th>\n",
       "      <th>N_Bedrooms</th>\n",
       "      <th>N_Bathrooms</th>\n",
       "      <th>Floor</th>\n",
       "      <th>Latitude</th>\n",
       "      <th>Longtitude</th>\n",
       "      <th>Balcony</th>\n",
       "      <th>Landlord lives in Shanghai</th>\n",
       "      <th>Oven</th>\n",
       "      <th>...</th>\n",
       "      <th>Garden</th>\n",
       "      <th>Historic Building</th>\n",
       "      <th>Large Storage Room</th>\n",
       "      <th>Parking</th>\n",
       "      <th>Playground</th>\n",
       "      <th>Pool</th>\n",
       "      <th>Tennis Courts</th>\n",
       "      <th>Wall heating</th>\n",
       "      <th>Water Filter</th>\n",
       "      <th>Pets_allowed</th>\n",
       "    </tr>\n",
       "  </thead>\n",
       "  <tbody>\n",
       "    <tr>\n",
       "      <th>count</th>\n",
       "      <td>26059.000000</td>\n",
       "      <td>26059.000000</td>\n",
       "      <td>26059.000000</td>\n",
       "      <td>26059.000000</td>\n",
       "      <td>26059.000000</td>\n",
       "      <td>26059.000000</td>\n",
       "      <td>26059.000000</td>\n",
       "      <td>26059.000000</td>\n",
       "      <td>26059.000000</td>\n",
       "      <td>26059.000000</td>\n",
       "      <td>...</td>\n",
       "      <td>26059.000000</td>\n",
       "      <td>26059.000000</td>\n",
       "      <td>26059.000000</td>\n",
       "      <td>26059.000000</td>\n",
       "      <td>26059.000000</td>\n",
       "      <td>26059.000000</td>\n",
       "      <td>26059.000000</td>\n",
       "      <td>26059.000000</td>\n",
       "      <td>26059.000000</td>\n",
       "      <td>26059.000000</td>\n",
       "    </tr>\n",
       "    <tr>\n",
       "      <th>mean</th>\n",
       "      <td>16011.008749</td>\n",
       "      <td>98.956176</td>\n",
       "      <td>1.849227</td>\n",
       "      <td>1.357880</td>\n",
       "      <td>8.163936</td>\n",
       "      <td>31.217253</td>\n",
       "      <td>121.446075</td>\n",
       "      <td>0.497371</td>\n",
       "      <td>0.856595</td>\n",
       "      <td>0.729652</td>\n",
       "      <td>...</td>\n",
       "      <td>0.172493</td>\n",
       "      <td>0.129168</td>\n",
       "      <td>0.607353</td>\n",
       "      <td>0.216701</td>\n",
       "      <td>0.244292</td>\n",
       "      <td>0.108139</td>\n",
       "      <td>0.102997</td>\n",
       "      <td>0.181089</td>\n",
       "      <td>0.229057</td>\n",
       "      <td>0.664032</td>\n",
       "    </tr>\n",
       "    <tr>\n",
       "      <th>std</th>\n",
       "      <td>9083.457147</td>\n",
       "      <td>48.350512</td>\n",
       "      <td>0.887843</td>\n",
       "      <td>0.542832</td>\n",
       "      <td>7.808952</td>\n",
       "      <td>0.016724</td>\n",
       "      <td>0.026708</td>\n",
       "      <td>0.500003</td>\n",
       "      <td>0.350492</td>\n",
       "      <td>0.444148</td>\n",
       "      <td>...</td>\n",
       "      <td>0.377816</td>\n",
       "      <td>0.335393</td>\n",
       "      <td>0.488349</td>\n",
       "      <td>0.412005</td>\n",
       "      <td>0.429675</td>\n",
       "      <td>0.310562</td>\n",
       "      <td>0.303961</td>\n",
       "      <td>0.385099</td>\n",
       "      <td>0.420234</td>\n",
       "      <td>0.472337</td>\n",
       "    </tr>\n",
       "    <tr>\n",
       "      <th>min</th>\n",
       "      <td>1900.000000</td>\n",
       "      <td>3.000000</td>\n",
       "      <td>1.000000</td>\n",
       "      <td>1.000000</td>\n",
       "      <td>1.000000</td>\n",
       "      <td>31.027964</td>\n",
       "      <td>121.160789</td>\n",
       "      <td>0.000000</td>\n",
       "      <td>0.000000</td>\n",
       "      <td>0.000000</td>\n",
       "      <td>...</td>\n",
       "      <td>0.000000</td>\n",
       "      <td>0.000000</td>\n",
       "      <td>0.000000</td>\n",
       "      <td>0.000000</td>\n",
       "      <td>0.000000</td>\n",
       "      <td>0.000000</td>\n",
       "      <td>0.000000</td>\n",
       "      <td>0.000000</td>\n",
       "      <td>0.000000</td>\n",
       "      <td>0.000000</td>\n",
       "    </tr>\n",
       "    <tr>\n",
       "      <th>25%</th>\n",
       "      <td>9500.000000</td>\n",
       "      <td>65.000000</td>\n",
       "      <td>1.000000</td>\n",
       "      <td>1.000000</td>\n",
       "      <td>3.000000</td>\n",
       "      <td>31.207206</td>\n",
       "      <td>121.432465</td>\n",
       "      <td>0.000000</td>\n",
       "      <td>1.000000</td>\n",
       "      <td>0.000000</td>\n",
       "      <td>...</td>\n",
       "      <td>0.000000</td>\n",
       "      <td>0.000000</td>\n",
       "      <td>0.000000</td>\n",
       "      <td>0.000000</td>\n",
       "      <td>0.000000</td>\n",
       "      <td>0.000000</td>\n",
       "      <td>0.000000</td>\n",
       "      <td>0.000000</td>\n",
       "      <td>0.000000</td>\n",
       "      <td>0.000000</td>\n",
       "    </tr>\n",
       "    <tr>\n",
       "      <th>50%</th>\n",
       "      <td>13500.000000</td>\n",
       "      <td>90.000000</td>\n",
       "      <td>2.000000</td>\n",
       "      <td>1.000000</td>\n",
       "      <td>5.000000</td>\n",
       "      <td>31.217243</td>\n",
       "      <td>121.444740</td>\n",
       "      <td>0.000000</td>\n",
       "      <td>1.000000</td>\n",
       "      <td>1.000000</td>\n",
       "      <td>...</td>\n",
       "      <td>0.000000</td>\n",
       "      <td>0.000000</td>\n",
       "      <td>1.000000</td>\n",
       "      <td>0.000000</td>\n",
       "      <td>0.000000</td>\n",
       "      <td>0.000000</td>\n",
       "      <td>0.000000</td>\n",
       "      <td>0.000000</td>\n",
       "      <td>0.000000</td>\n",
       "      <td>1.000000</td>\n",
       "    </tr>\n",
       "    <tr>\n",
       "      <th>75%</th>\n",
       "      <td>20000.000000</td>\n",
       "      <td>125.000000</td>\n",
       "      <td>2.000000</td>\n",
       "      <td>2.000000</td>\n",
       "      <td>12.000000</td>\n",
       "      <td>31.228657</td>\n",
       "      <td>121.458710</td>\n",
       "      <td>1.000000</td>\n",
       "      <td>1.000000</td>\n",
       "      <td>1.000000</td>\n",
       "      <td>...</td>\n",
       "      <td>0.000000</td>\n",
       "      <td>0.000000</td>\n",
       "      <td>1.000000</td>\n",
       "      <td>0.000000</td>\n",
       "      <td>0.000000</td>\n",
       "      <td>0.000000</td>\n",
       "      <td>0.000000</td>\n",
       "      <td>0.000000</td>\n",
       "      <td>0.000000</td>\n",
       "      <td>1.000000</td>\n",
       "    </tr>\n",
       "    <tr>\n",
       "      <th>max</th>\n",
       "      <td>60000.000000</td>\n",
       "      <td>1000.000000</td>\n",
       "      <td>7.000000</td>\n",
       "      <td>9.000000</td>\n",
       "      <td>50.000000</td>\n",
       "      <td>31.339062</td>\n",
       "      <td>121.672729</td>\n",
       "      <td>1.000000</td>\n",
       "      <td>1.000000</td>\n",
       "      <td>1.000000</td>\n",
       "      <td>...</td>\n",
       "      <td>1.000000</td>\n",
       "      <td>1.000000</td>\n",
       "      <td>1.000000</td>\n",
       "      <td>1.000000</td>\n",
       "      <td>1.000000</td>\n",
       "      <td>1.000000</td>\n",
       "      <td>1.000000</td>\n",
       "      <td>1.000000</td>\n",
       "      <td>1.000000</td>\n",
       "      <td>1.000000</td>\n",
       "    </tr>\n",
       "  </tbody>\n",
       "</table>\n",
       "<p>8 rows × 25 columns</p>\n",
       "</div>"
      ],
      "text/plain": [
       "              Price          Size    N_Bedrooms   N_Bathrooms         Floor  \\\n",
       "count  26059.000000  26059.000000  26059.000000  26059.000000  26059.000000   \n",
       "mean   16011.008749     98.956176      1.849227      1.357880      8.163936   \n",
       "std     9083.457147     48.350512      0.887843      0.542832      7.808952   \n",
       "min     1900.000000      3.000000      1.000000      1.000000      1.000000   \n",
       "25%     9500.000000     65.000000      1.000000      1.000000      3.000000   \n",
       "50%    13500.000000     90.000000      2.000000      1.000000      5.000000   \n",
       "75%    20000.000000    125.000000      2.000000      2.000000     12.000000   \n",
       "max    60000.000000   1000.000000      7.000000      9.000000     50.000000   \n",
       "\n",
       "           Latitude    Longtitude       Balcony  Landlord lives in Shanghai  \\\n",
       "count  26059.000000  26059.000000  26059.000000                26059.000000   \n",
       "mean      31.217253    121.446075      0.497371                    0.856595   \n",
       "std        0.016724      0.026708      0.500003                    0.350492   \n",
       "min       31.027964    121.160789      0.000000                    0.000000   \n",
       "25%       31.207206    121.432465      0.000000                    1.000000   \n",
       "50%       31.217243    121.444740      0.000000                    1.000000   \n",
       "75%       31.228657    121.458710      1.000000                    1.000000   \n",
       "max       31.339062    121.672729      1.000000                    1.000000   \n",
       "\n",
       "               Oven  ...        Garden  Historic Building  Large Storage Room  \\\n",
       "count  26059.000000  ...  26059.000000       26059.000000        26059.000000   \n",
       "mean       0.729652  ...      0.172493           0.129168            0.607353   \n",
       "std        0.444148  ...      0.377816           0.335393            0.488349   \n",
       "min        0.000000  ...      0.000000           0.000000            0.000000   \n",
       "25%        0.000000  ...      0.000000           0.000000            0.000000   \n",
       "50%        1.000000  ...      0.000000           0.000000            1.000000   \n",
       "75%        1.000000  ...      0.000000           0.000000            1.000000   \n",
       "max        1.000000  ...      1.000000           1.000000            1.000000   \n",
       "\n",
       "            Parking    Playground          Pool  Tennis Courts  Wall heating  \\\n",
       "count  26059.000000  26059.000000  26059.000000   26059.000000  26059.000000   \n",
       "mean       0.216701      0.244292      0.108139       0.102997      0.181089   \n",
       "std        0.412005      0.429675      0.310562       0.303961      0.385099   \n",
       "min        0.000000      0.000000      0.000000       0.000000      0.000000   \n",
       "25%        0.000000      0.000000      0.000000       0.000000      0.000000   \n",
       "50%        0.000000      0.000000      0.000000       0.000000      0.000000   \n",
       "75%        0.000000      0.000000      0.000000       0.000000      0.000000   \n",
       "max        1.000000      1.000000      1.000000       1.000000      1.000000   \n",
       "\n",
       "       Water Filter  Pets_allowed  \n",
       "count  26059.000000  26059.000000  \n",
       "mean       0.229057      0.664032  \n",
       "std        0.420234      0.472337  \n",
       "min        0.000000      0.000000  \n",
       "25%        0.000000      0.000000  \n",
       "50%        0.000000      1.000000  \n",
       "75%        0.000000      1.000000  \n",
       "max        1.000000      1.000000  \n",
       "\n",
       "[8 rows x 25 columns]"
      ]
     },
     "execution_count": 6,
     "metadata": {},
     "output_type": "execute_result"
    }
   ],
   "source": [
    "data.describe()"
   ]
  },
  {
   "cell_type": "markdown",
   "id": "b5f7d64f",
   "metadata": {},
   "source": [
    "#This is to draw the geometry map\n",
    "\n",
    "downtown = gpd.read_file('sh-towns.geojson')\n",
    "\n",
    "data = gpd.GeoDataFrame(data=data, geometry=gpd.points_from_xy(data.Longtitude,data.Latitude))\n",
    "\n",
    "ax = downtown['geometry'].plot(figsize=(10,10), color='none', edgecolor='gainsboro', zorder=3);\n",
    "\n",
    "data['geometry'].plot(markersize=1,ax=ax)\n",
    "\n",
    "ax.set_xlim((121,121.8))\n",
    "\n",
    "ax.set_ylim((31,31.5))"
   ]
  },
  {
   "cell_type": "markdown",
   "id": "77309788",
   "metadata": {},
   "source": [
    "# Feature Engineering"
   ]
  },
  {
   "cell_type": "code",
   "execution_count": 64,
   "id": "747c05cf",
   "metadata": {},
   "outputs": [],
   "source": [
    "y = data['Price']\n",
    "X = data.drop(columns=['Price','Available From','First_post'])"
   ]
  },
  {
   "cell_type": "code",
   "execution_count": 65,
   "id": "976fe381",
   "metadata": {},
   "outputs": [
    {
     "data": {
      "text/html": [
       "<style>#sk-container-id-1 {color: black;background-color: white;}#sk-container-id-1 pre{padding: 0;}#sk-container-id-1 div.sk-toggleable {background-color: white;}#sk-container-id-1 label.sk-toggleable__label {cursor: pointer;display: block;width: 100%;margin-bottom: 0;padding: 0.3em;box-sizing: border-box;text-align: center;}#sk-container-id-1 label.sk-toggleable__label-arrow:before {content: \"▸\";float: left;margin-right: 0.25em;color: #696969;}#sk-container-id-1 label.sk-toggleable__label-arrow:hover:before {color: black;}#sk-container-id-1 div.sk-estimator:hover label.sk-toggleable__label-arrow:before {color: black;}#sk-container-id-1 div.sk-toggleable__content {max-height: 0;max-width: 0;overflow: hidden;text-align: left;background-color: #f0f8ff;}#sk-container-id-1 div.sk-toggleable__content pre {margin: 0.2em;color: black;border-radius: 0.25em;background-color: #f0f8ff;}#sk-container-id-1 input.sk-toggleable__control:checked~div.sk-toggleable__content {max-height: 200px;max-width: 100%;overflow: auto;}#sk-container-id-1 input.sk-toggleable__control:checked~label.sk-toggleable__label-arrow:before {content: \"▾\";}#sk-container-id-1 div.sk-estimator input.sk-toggleable__control:checked~label.sk-toggleable__label {background-color: #d4ebff;}#sk-container-id-1 div.sk-label input.sk-toggleable__control:checked~label.sk-toggleable__label {background-color: #d4ebff;}#sk-container-id-1 input.sk-hidden--visually {border: 0;clip: rect(1px 1px 1px 1px);clip: rect(1px, 1px, 1px, 1px);height: 1px;margin: -1px;overflow: hidden;padding: 0;position: absolute;width: 1px;}#sk-container-id-1 div.sk-estimator {font-family: monospace;background-color: #f0f8ff;border: 1px dotted black;border-radius: 0.25em;box-sizing: border-box;margin-bottom: 0.5em;}#sk-container-id-1 div.sk-estimator:hover {background-color: #d4ebff;}#sk-container-id-1 div.sk-parallel-item::after {content: \"\";width: 100%;border-bottom: 1px solid gray;flex-grow: 1;}#sk-container-id-1 div.sk-label:hover label.sk-toggleable__label {background-color: #d4ebff;}#sk-container-id-1 div.sk-serial::before {content: \"\";position: absolute;border-left: 1px solid gray;box-sizing: border-box;top: 0;bottom: 0;left: 50%;z-index: 0;}#sk-container-id-1 div.sk-serial {display: flex;flex-direction: column;align-items: center;background-color: white;padding-right: 0.2em;padding-left: 0.2em;position: relative;}#sk-container-id-1 div.sk-item {position: relative;z-index: 1;}#sk-container-id-1 div.sk-parallel {display: flex;align-items: stretch;justify-content: center;background-color: white;position: relative;}#sk-container-id-1 div.sk-item::before, #sk-container-id-1 div.sk-parallel-item::before {content: \"\";position: absolute;border-left: 1px solid gray;box-sizing: border-box;top: 0;bottom: 0;left: 50%;z-index: -1;}#sk-container-id-1 div.sk-parallel-item {display: flex;flex-direction: column;z-index: 1;position: relative;background-color: white;}#sk-container-id-1 div.sk-parallel-item:first-child::after {align-self: flex-end;width: 50%;}#sk-container-id-1 div.sk-parallel-item:last-child::after {align-self: flex-start;width: 50%;}#sk-container-id-1 div.sk-parallel-item:only-child::after {width: 0;}#sk-container-id-1 div.sk-dashed-wrapped {border: 1px dashed gray;margin: 0 0.4em 0.5em 0.4em;box-sizing: border-box;padding-bottom: 0.4em;background-color: white;}#sk-container-id-1 div.sk-label label {font-family: monospace;font-weight: bold;display: inline-block;line-height: 1.2em;}#sk-container-id-1 div.sk-label-container {text-align: center;}#sk-container-id-1 div.sk-container {/* jupyter's `normalize.less` sets `[hidden] { display: none; }` but bootstrap.min.css set `[hidden] { display: none !important; }` so we also need the `!important` here to be able to override the default hidden behavior on the sphinx rendered scikit-learn.org. See: https://github.com/scikit-learn/scikit-learn/issues/21755 */display: inline-block !important;position: relative;}#sk-container-id-1 div.sk-text-repr-fallback {display: none;}</style><div id=\"sk-container-id-1\" class=\"sk-top-container\"><div class=\"sk-text-repr-fallback\"><pre>ColumnTransformer(remainder=&#x27;passthrough&#x27;,\n",
       "                  transformers=[(&#x27;num_transformer&#x27;,\n",
       "                                 Pipeline(steps=[(&#x27;standard_scaler&#x27;,\n",
       "                                                  StandardScaler())]),\n",
       "                                 Index([&#x27;Size&#x27;, &#x27;N_Bedrooms&#x27;, &#x27;N_Bathrooms&#x27;, &#x27;Floor&#x27;, &#x27;Latitude&#x27;, &#x27;Longtitude&#x27;,\n",
       "       &#x27;Balcony&#x27;, &#x27;Landlord lives in Shanghai&#x27;, &#x27;Oven&#x27;, &#x27;Recently renovated&#x27;,\n",
       "       &#x27;Air Filter&#x27;, &#x27;English Speaking Landlord&#x27;, &#x27;Fitness Centers&#x27;,\n",
       "       &#x27;Floor Heating&#x27;, &#x27;Garden&#x27;, &#x27;Historic Building&#x27;, &#x27;Large Storage Room&#x27;,\n",
       "       &#x27;Parking&#x27;, &#x27;Playground&#x27;, &#x27;Pool&#x27;, &#x27;Tennis Courts&#x27;, &#x27;Wall heating&#x27;,\n",
       "       &#x27;Water Filter&#x27;, &#x27;Pets_allowed&#x27;],\n",
       "      dtype=&#x27;object&#x27;)),\n",
       "                                (&#x27;oe_transformer&#x27;,\n",
       "                                 OrdinalEncoder(categories=[[&#x27;Unfurnished&#x27;,\n",
       "                                                             &#x27;Furnished&#x27;]]),\n",
       "                                 [&#x27;Furnished&#x27;]),\n",
       "                                (&#x27;ohe_transformer&#x27;,\n",
       "                                 OneHotEncoder(handle_unknown=&#x27;ignore&#x27;),\n",
       "                                 [&#x27;Metro&#x27;, &#x27;District&#x27;])])</pre><b>In a Jupyter environment, please rerun this cell to show the HTML representation or trust the notebook. <br />On GitHub, the HTML representation is unable to render, please try loading this page with nbviewer.org.</b></div><div class=\"sk-container\" hidden><div class=\"sk-item sk-dashed-wrapped\"><div class=\"sk-label-container\"><div class=\"sk-label sk-toggleable\"><input class=\"sk-toggleable__control sk-hidden--visually\" id=\"sk-estimator-id-1\" type=\"checkbox\" ><label for=\"sk-estimator-id-1\" class=\"sk-toggleable__label sk-toggleable__label-arrow\">ColumnTransformer</label><div class=\"sk-toggleable__content\"><pre>ColumnTransformer(remainder=&#x27;passthrough&#x27;,\n",
       "                  transformers=[(&#x27;num_transformer&#x27;,\n",
       "                                 Pipeline(steps=[(&#x27;standard_scaler&#x27;,\n",
       "                                                  StandardScaler())]),\n",
       "                                 Index([&#x27;Size&#x27;, &#x27;N_Bedrooms&#x27;, &#x27;N_Bathrooms&#x27;, &#x27;Floor&#x27;, &#x27;Latitude&#x27;, &#x27;Longtitude&#x27;,\n",
       "       &#x27;Balcony&#x27;, &#x27;Landlord lives in Shanghai&#x27;, &#x27;Oven&#x27;, &#x27;Recently renovated&#x27;,\n",
       "       &#x27;Air Filter&#x27;, &#x27;English Speaking Landlord&#x27;, &#x27;Fitness Centers&#x27;,\n",
       "       &#x27;Floor Heating&#x27;, &#x27;Garden&#x27;, &#x27;Historic Building&#x27;, &#x27;Large Storage Room&#x27;,\n",
       "       &#x27;Parking&#x27;, &#x27;Playground&#x27;, &#x27;Pool&#x27;, &#x27;Tennis Courts&#x27;, &#x27;Wall heating&#x27;,\n",
       "       &#x27;Water Filter&#x27;, &#x27;Pets_allowed&#x27;],\n",
       "      dtype=&#x27;object&#x27;)),\n",
       "                                (&#x27;oe_transformer&#x27;,\n",
       "                                 OrdinalEncoder(categories=[[&#x27;Unfurnished&#x27;,\n",
       "                                                             &#x27;Furnished&#x27;]]),\n",
       "                                 [&#x27;Furnished&#x27;]),\n",
       "                                (&#x27;ohe_transformer&#x27;,\n",
       "                                 OneHotEncoder(handle_unknown=&#x27;ignore&#x27;),\n",
       "                                 [&#x27;Metro&#x27;, &#x27;District&#x27;])])</pre></div></div></div><div class=\"sk-parallel\"><div class=\"sk-parallel-item\"><div class=\"sk-item\"><div class=\"sk-label-container\"><div class=\"sk-label sk-toggleable\"><input class=\"sk-toggleable__control sk-hidden--visually\" id=\"sk-estimator-id-2\" type=\"checkbox\" ><label for=\"sk-estimator-id-2\" class=\"sk-toggleable__label sk-toggleable__label-arrow\">num_transformer</label><div class=\"sk-toggleable__content\"><pre>Index([&#x27;Size&#x27;, &#x27;N_Bedrooms&#x27;, &#x27;N_Bathrooms&#x27;, &#x27;Floor&#x27;, &#x27;Latitude&#x27;, &#x27;Longtitude&#x27;,\n",
       "       &#x27;Balcony&#x27;, &#x27;Landlord lives in Shanghai&#x27;, &#x27;Oven&#x27;, &#x27;Recently renovated&#x27;,\n",
       "       &#x27;Air Filter&#x27;, &#x27;English Speaking Landlord&#x27;, &#x27;Fitness Centers&#x27;,\n",
       "       &#x27;Floor Heating&#x27;, &#x27;Garden&#x27;, &#x27;Historic Building&#x27;, &#x27;Large Storage Room&#x27;,\n",
       "       &#x27;Parking&#x27;, &#x27;Playground&#x27;, &#x27;Pool&#x27;, &#x27;Tennis Courts&#x27;, &#x27;Wall heating&#x27;,\n",
       "       &#x27;Water Filter&#x27;, &#x27;Pets_allowed&#x27;],\n",
       "      dtype=&#x27;object&#x27;)</pre></div></div></div><div class=\"sk-serial\"><div class=\"sk-item\"><div class=\"sk-serial\"><div class=\"sk-item\"><div class=\"sk-estimator sk-toggleable\"><input class=\"sk-toggleable__control sk-hidden--visually\" id=\"sk-estimator-id-3\" type=\"checkbox\" ><label for=\"sk-estimator-id-3\" class=\"sk-toggleable__label sk-toggleable__label-arrow\">StandardScaler</label><div class=\"sk-toggleable__content\"><pre>StandardScaler()</pre></div></div></div></div></div></div></div></div><div class=\"sk-parallel-item\"><div class=\"sk-item\"><div class=\"sk-label-container\"><div class=\"sk-label sk-toggleable\"><input class=\"sk-toggleable__control sk-hidden--visually\" id=\"sk-estimator-id-4\" type=\"checkbox\" ><label for=\"sk-estimator-id-4\" class=\"sk-toggleable__label sk-toggleable__label-arrow\">oe_transformer</label><div class=\"sk-toggleable__content\"><pre>[&#x27;Furnished&#x27;]</pre></div></div></div><div class=\"sk-serial\"><div class=\"sk-item\"><div class=\"sk-estimator sk-toggleable\"><input class=\"sk-toggleable__control sk-hidden--visually\" id=\"sk-estimator-id-5\" type=\"checkbox\" ><label for=\"sk-estimator-id-5\" class=\"sk-toggleable__label sk-toggleable__label-arrow\">OrdinalEncoder</label><div class=\"sk-toggleable__content\"><pre>OrdinalEncoder(categories=[[&#x27;Unfurnished&#x27;, &#x27;Furnished&#x27;]])</pre></div></div></div></div></div></div><div class=\"sk-parallel-item\"><div class=\"sk-item\"><div class=\"sk-label-container\"><div class=\"sk-label sk-toggleable\"><input class=\"sk-toggleable__control sk-hidden--visually\" id=\"sk-estimator-id-6\" type=\"checkbox\" ><label for=\"sk-estimator-id-6\" class=\"sk-toggleable__label sk-toggleable__label-arrow\">ohe_transformer</label><div class=\"sk-toggleable__content\"><pre>[&#x27;Metro&#x27;, &#x27;District&#x27;]</pre></div></div></div><div class=\"sk-serial\"><div class=\"sk-item\"><div class=\"sk-estimator sk-toggleable\"><input class=\"sk-toggleable__control sk-hidden--visually\" id=\"sk-estimator-id-7\" type=\"checkbox\" ><label for=\"sk-estimator-id-7\" class=\"sk-toggleable__label sk-toggleable__label-arrow\">OneHotEncoder</label><div class=\"sk-toggleable__content\"><pre>OneHotEncoder(handle_unknown=&#x27;ignore&#x27;)</pre></div></div></div></div></div></div><div class=\"sk-parallel-item\"><div class=\"sk-item\"><div class=\"sk-label-container\"><div class=\"sk-label sk-toggleable\"><input class=\"sk-toggleable__control sk-hidden--visually\" id=\"sk-estimator-id-8\" type=\"checkbox\" ><label for=\"sk-estimator-id-8\" class=\"sk-toggleable__label sk-toggleable__label-arrow\">remainder</label><div class=\"sk-toggleable__content\"><pre></pre></div></div></div><div class=\"sk-serial\"><div class=\"sk-item\"><div class=\"sk-estimator sk-toggleable\"><input class=\"sk-toggleable__control sk-hidden--visually\" id=\"sk-estimator-id-9\" type=\"checkbox\" ><label for=\"sk-estimator-id-9\" class=\"sk-toggleable__label sk-toggleable__label-arrow\">passthrough</label><div class=\"sk-toggleable__content\"><pre>passthrough</pre></div></div></div></div></div></div></div></div></div></div>"
      ],
      "text/plain": [
       "ColumnTransformer(remainder='passthrough',\n",
       "                  transformers=[('num_transformer',\n",
       "                                 Pipeline(steps=[('standard_scaler',\n",
       "                                                  StandardScaler())]),\n",
       "                                 Index(['Size', 'N_Bedrooms', 'N_Bathrooms', 'Floor', 'Latitude', 'Longtitude',\n",
       "       'Balcony', 'Landlord lives in Shanghai', 'Oven', 'Recently renovated',\n",
       "       'Air Filter', 'English Speaking Landlord', 'Fitness Centers',\n",
       "       'Floor Heating', 'Garden', 'Historic Building', 'Large Storage Room',\n",
       "       'Parking', 'Playground', 'Pool', 'Tennis Courts', 'Wall heating',\n",
       "       'Water Filter', 'Pets_allowed'],\n",
       "      dtype='object')),\n",
       "                                ('oe_transformer',\n",
       "                                 OrdinalEncoder(categories=[['Unfurnished',\n",
       "                                                             'Furnished']]),\n",
       "                                 ['Furnished']),\n",
       "                                ('ohe_transformer',\n",
       "                                 OneHotEncoder(handle_unknown='ignore'),\n",
       "                                 ['Metro', 'District'])])"
      ]
     },
     "execution_count": 65,
     "metadata": {},
     "output_type": "execute_result"
    }
   ],
   "source": [
    "num_transformer = Pipeline([\n",
    "    ('standard_scaler', StandardScaler())\n",
    "])\n",
    "\n",
    "oe_transformer = OrdinalEncoder(categories=[['Unfurnished','Furnished']])\n",
    "\n",
    "ohe_transformer = OneHotEncoder(handle_unknown='ignore')\n",
    "\n",
    "preprocessor = ColumnTransformer([\n",
    "    ('num_transformer', num_transformer,X.select_dtypes(include='number').columns),\n",
    "    ('oe_transformer', oe_transformer, ['Furnished']),\n",
    "    ('ohe_transformer', ohe_transformer,['Metro','District'])],\n",
    "    remainder='passthrough'\n",
    ")\n",
    "preprocessor"
   ]
  },
  {
   "cell_type": "code",
   "execution_count": 66,
   "id": "480c693a",
   "metadata": {},
   "outputs": [],
   "source": [
    "X_train, X_test, y_train, y_test = train_test_split(X, y, test_size=0.3)"
   ]
  },
  {
   "cell_type": "code",
   "execution_count": 67,
   "id": "24f5c81d",
   "metadata": {},
   "outputs": [],
   "source": [
    "X_train_new = preprocessor.fit_transform(X_train)"
   ]
  },
  {
   "cell_type": "code",
   "execution_count": 68,
   "id": "ce801bfd",
   "metadata": {},
   "outputs": [],
   "source": [
    "X_test_new = preprocessor.transform(X_test)"
   ]
  },
  {
   "cell_type": "code",
   "execution_count": 69,
   "id": "b1d8a580",
   "metadata": {},
   "outputs": [],
   "source": [
    "rmse = make_scorer(mean_squared_log_error,greater_is_better=True, squared = False)"
   ]
  },
  {
   "cell_type": "markdown",
   "id": "0ae0cd91",
   "metadata": {},
   "source": [
    "# Base Models"
   ]
  },
  {
   "cell_type": "code",
   "execution_count": 70,
   "id": "3920d0bc",
   "metadata": {},
   "outputs": [
    {
     "data": {
      "text/plain": [
       "0.17777759756209197"
      ]
     },
     "execution_count": 70,
     "metadata": {},
     "output_type": "execute_result"
    }
   ],
   "source": [
    "base_model = DecisionTreeRegressor()\n",
    "results = cross_validate(base_model, X_train_new, y_train, cv=5, scoring=rmse)\n",
    "results['test_score'].mean()"
   ]
  },
  {
   "cell_type": "code",
   "execution_count": 71,
   "id": "c0229245",
   "metadata": {},
   "outputs": [
    {
     "data": {
      "text/html": [
       "<style>#sk-container-id-2 {color: black;background-color: white;}#sk-container-id-2 pre{padding: 0;}#sk-container-id-2 div.sk-toggleable {background-color: white;}#sk-container-id-2 label.sk-toggleable__label {cursor: pointer;display: block;width: 100%;margin-bottom: 0;padding: 0.3em;box-sizing: border-box;text-align: center;}#sk-container-id-2 label.sk-toggleable__label-arrow:before {content: \"▸\";float: left;margin-right: 0.25em;color: #696969;}#sk-container-id-2 label.sk-toggleable__label-arrow:hover:before {color: black;}#sk-container-id-2 div.sk-estimator:hover label.sk-toggleable__label-arrow:before {color: black;}#sk-container-id-2 div.sk-toggleable__content {max-height: 0;max-width: 0;overflow: hidden;text-align: left;background-color: #f0f8ff;}#sk-container-id-2 div.sk-toggleable__content pre {margin: 0.2em;color: black;border-radius: 0.25em;background-color: #f0f8ff;}#sk-container-id-2 input.sk-toggleable__control:checked~div.sk-toggleable__content {max-height: 200px;max-width: 100%;overflow: auto;}#sk-container-id-2 input.sk-toggleable__control:checked~label.sk-toggleable__label-arrow:before {content: \"▾\";}#sk-container-id-2 div.sk-estimator input.sk-toggleable__control:checked~label.sk-toggleable__label {background-color: #d4ebff;}#sk-container-id-2 div.sk-label input.sk-toggleable__control:checked~label.sk-toggleable__label {background-color: #d4ebff;}#sk-container-id-2 input.sk-hidden--visually {border: 0;clip: rect(1px 1px 1px 1px);clip: rect(1px, 1px, 1px, 1px);height: 1px;margin: -1px;overflow: hidden;padding: 0;position: absolute;width: 1px;}#sk-container-id-2 div.sk-estimator {font-family: monospace;background-color: #f0f8ff;border: 1px dotted black;border-radius: 0.25em;box-sizing: border-box;margin-bottom: 0.5em;}#sk-container-id-2 div.sk-estimator:hover {background-color: #d4ebff;}#sk-container-id-2 div.sk-parallel-item::after {content: \"\";width: 100%;border-bottom: 1px solid gray;flex-grow: 1;}#sk-container-id-2 div.sk-label:hover label.sk-toggleable__label {background-color: #d4ebff;}#sk-container-id-2 div.sk-serial::before {content: \"\";position: absolute;border-left: 1px solid gray;box-sizing: border-box;top: 0;bottom: 0;left: 50%;z-index: 0;}#sk-container-id-2 div.sk-serial {display: flex;flex-direction: column;align-items: center;background-color: white;padding-right: 0.2em;padding-left: 0.2em;position: relative;}#sk-container-id-2 div.sk-item {position: relative;z-index: 1;}#sk-container-id-2 div.sk-parallel {display: flex;align-items: stretch;justify-content: center;background-color: white;position: relative;}#sk-container-id-2 div.sk-item::before, #sk-container-id-2 div.sk-parallel-item::before {content: \"\";position: absolute;border-left: 1px solid gray;box-sizing: border-box;top: 0;bottom: 0;left: 50%;z-index: -1;}#sk-container-id-2 div.sk-parallel-item {display: flex;flex-direction: column;z-index: 1;position: relative;background-color: white;}#sk-container-id-2 div.sk-parallel-item:first-child::after {align-self: flex-end;width: 50%;}#sk-container-id-2 div.sk-parallel-item:last-child::after {align-self: flex-start;width: 50%;}#sk-container-id-2 div.sk-parallel-item:only-child::after {width: 0;}#sk-container-id-2 div.sk-dashed-wrapped {border: 1px dashed gray;margin: 0 0.4em 0.5em 0.4em;box-sizing: border-box;padding-bottom: 0.4em;background-color: white;}#sk-container-id-2 div.sk-label label {font-family: monospace;font-weight: bold;display: inline-block;line-height: 1.2em;}#sk-container-id-2 div.sk-label-container {text-align: center;}#sk-container-id-2 div.sk-container {/* jupyter's `normalize.less` sets `[hidden] { display: none; }` but bootstrap.min.css set `[hidden] { display: none !important; }` so we also need the `!important` here to be able to override the default hidden behavior on the sphinx rendered scikit-learn.org. See: https://github.com/scikit-learn/scikit-learn/issues/21755 */display: inline-block !important;position: relative;}#sk-container-id-2 div.sk-text-repr-fallback {display: none;}</style><div id=\"sk-container-id-2\" class=\"sk-top-container\"><div class=\"sk-text-repr-fallback\"><pre>DecisionTreeRegressor()</pre><b>In a Jupyter environment, please rerun this cell to show the HTML representation or trust the notebook. <br />On GitHub, the HTML representation is unable to render, please try loading this page with nbviewer.org.</b></div><div class=\"sk-container\" hidden><div class=\"sk-item\"><div class=\"sk-estimator sk-toggleable\"><input class=\"sk-toggleable__control sk-hidden--visually\" id=\"sk-estimator-id-10\" type=\"checkbox\" checked><label for=\"sk-estimator-id-10\" class=\"sk-toggleable__label sk-toggleable__label-arrow\">DecisionTreeRegressor</label><div class=\"sk-toggleable__content\"><pre>DecisionTreeRegressor()</pre></div></div></div></div></div>"
      ],
      "text/plain": [
       "DecisionTreeRegressor()"
      ]
     },
     "execution_count": 71,
     "metadata": {},
     "output_type": "execute_result"
    }
   ],
   "source": [
    "base_model.fit(X_train_new, y_train)"
   ]
  },
  {
   "cell_type": "code",
   "execution_count": 72,
   "id": "c249a858",
   "metadata": {},
   "outputs": [
    {
     "data": {
      "text/plain": [
       "1530.077422066294"
      ]
     },
     "execution_count": 72,
     "metadata": {},
     "output_type": "execute_result"
    }
   ],
   "source": [
    "y_base = base_model.predict(X_test_new)\n",
    "mean_absolute_error(y_test,y_base)"
   ]
  },
  {
   "cell_type": "code",
   "execution_count": 18,
   "id": "ed369b7f",
   "metadata": {},
   "outputs": [
    {
     "data": {
      "text/plain": [
       "0.13964284410908512"
      ]
     },
     "execution_count": 18,
     "metadata": {},
     "output_type": "execute_result"
    }
   ],
   "source": [
    "model_RFR = RandomForestRegressor()\n",
    "results = cross_validate(model_RFR, X_train_new, y_train, cv=5, scoring=rmse)\n",
    "results['test_score'].mean()"
   ]
  },
  {
   "cell_type": "code",
   "execution_count": 19,
   "id": "b86c47e1",
   "metadata": {},
   "outputs": [
    {
     "data": {
      "text/html": [
       "<style>#sk-container-id-3 {color: black;background-color: white;}#sk-container-id-3 pre{padding: 0;}#sk-container-id-3 div.sk-toggleable {background-color: white;}#sk-container-id-3 label.sk-toggleable__label {cursor: pointer;display: block;width: 100%;margin-bottom: 0;padding: 0.3em;box-sizing: border-box;text-align: center;}#sk-container-id-3 label.sk-toggleable__label-arrow:before {content: \"▸\";float: left;margin-right: 0.25em;color: #696969;}#sk-container-id-3 label.sk-toggleable__label-arrow:hover:before {color: black;}#sk-container-id-3 div.sk-estimator:hover label.sk-toggleable__label-arrow:before {color: black;}#sk-container-id-3 div.sk-toggleable__content {max-height: 0;max-width: 0;overflow: hidden;text-align: left;background-color: #f0f8ff;}#sk-container-id-3 div.sk-toggleable__content pre {margin: 0.2em;color: black;border-radius: 0.25em;background-color: #f0f8ff;}#sk-container-id-3 input.sk-toggleable__control:checked~div.sk-toggleable__content {max-height: 200px;max-width: 100%;overflow: auto;}#sk-container-id-3 input.sk-toggleable__control:checked~label.sk-toggleable__label-arrow:before {content: \"▾\";}#sk-container-id-3 div.sk-estimator input.sk-toggleable__control:checked~label.sk-toggleable__label {background-color: #d4ebff;}#sk-container-id-3 div.sk-label input.sk-toggleable__control:checked~label.sk-toggleable__label {background-color: #d4ebff;}#sk-container-id-3 input.sk-hidden--visually {border: 0;clip: rect(1px 1px 1px 1px);clip: rect(1px, 1px, 1px, 1px);height: 1px;margin: -1px;overflow: hidden;padding: 0;position: absolute;width: 1px;}#sk-container-id-3 div.sk-estimator {font-family: monospace;background-color: #f0f8ff;border: 1px dotted black;border-radius: 0.25em;box-sizing: border-box;margin-bottom: 0.5em;}#sk-container-id-3 div.sk-estimator:hover {background-color: #d4ebff;}#sk-container-id-3 div.sk-parallel-item::after {content: \"\";width: 100%;border-bottom: 1px solid gray;flex-grow: 1;}#sk-container-id-3 div.sk-label:hover label.sk-toggleable__label {background-color: #d4ebff;}#sk-container-id-3 div.sk-serial::before {content: \"\";position: absolute;border-left: 1px solid gray;box-sizing: border-box;top: 0;bottom: 0;left: 50%;z-index: 0;}#sk-container-id-3 div.sk-serial {display: flex;flex-direction: column;align-items: center;background-color: white;padding-right: 0.2em;padding-left: 0.2em;position: relative;}#sk-container-id-3 div.sk-item {position: relative;z-index: 1;}#sk-container-id-3 div.sk-parallel {display: flex;align-items: stretch;justify-content: center;background-color: white;position: relative;}#sk-container-id-3 div.sk-item::before, #sk-container-id-3 div.sk-parallel-item::before {content: \"\";position: absolute;border-left: 1px solid gray;box-sizing: border-box;top: 0;bottom: 0;left: 50%;z-index: -1;}#sk-container-id-3 div.sk-parallel-item {display: flex;flex-direction: column;z-index: 1;position: relative;background-color: white;}#sk-container-id-3 div.sk-parallel-item:first-child::after {align-self: flex-end;width: 50%;}#sk-container-id-3 div.sk-parallel-item:last-child::after {align-self: flex-start;width: 50%;}#sk-container-id-3 div.sk-parallel-item:only-child::after {width: 0;}#sk-container-id-3 div.sk-dashed-wrapped {border: 1px dashed gray;margin: 0 0.4em 0.5em 0.4em;box-sizing: border-box;padding-bottom: 0.4em;background-color: white;}#sk-container-id-3 div.sk-label label {font-family: monospace;font-weight: bold;display: inline-block;line-height: 1.2em;}#sk-container-id-3 div.sk-label-container {text-align: center;}#sk-container-id-3 div.sk-container {/* jupyter's `normalize.less` sets `[hidden] { display: none; }` but bootstrap.min.css set `[hidden] { display: none !important; }` so we also need the `!important` here to be able to override the default hidden behavior on the sphinx rendered scikit-learn.org. See: https://github.com/scikit-learn/scikit-learn/issues/21755 */display: inline-block !important;position: relative;}#sk-container-id-3 div.sk-text-repr-fallback {display: none;}</style><div id=\"sk-container-id-3\" class=\"sk-top-container\"><div class=\"sk-text-repr-fallback\"><pre>RandomForestRegressor()</pre><b>In a Jupyter environment, please rerun this cell to show the HTML representation or trust the notebook. <br />On GitHub, the HTML representation is unable to render, please try loading this page with nbviewer.org.</b></div><div class=\"sk-container\" hidden><div class=\"sk-item\"><div class=\"sk-estimator sk-toggleable\"><input class=\"sk-toggleable__control sk-hidden--visually\" id=\"sk-estimator-id-11\" type=\"checkbox\" checked><label for=\"sk-estimator-id-11\" class=\"sk-toggleable__label sk-toggleable__label-arrow\">RandomForestRegressor</label><div class=\"sk-toggleable__content\"><pre>RandomForestRegressor()</pre></div></div></div></div></div>"
      ],
      "text/plain": [
       "RandomForestRegressor()"
      ]
     },
     "execution_count": 19,
     "metadata": {},
     "output_type": "execute_result"
    }
   ],
   "source": [
    "model_RFR.fit(X_train_new, y_train)"
   ]
  },
  {
   "cell_type": "code",
   "execution_count": 20,
   "id": "410c10c5",
   "metadata": {},
   "outputs": [
    {
     "data": {
      "text/plain": [
       "1364.4092781205463"
      ]
     },
     "execution_count": 20,
     "metadata": {},
     "output_type": "execute_result"
    }
   ],
   "source": [
    "y_RFR = model_RFR.predict(X_test_new)\n",
    "mean_absolute_error(y_test,y_RFR)"
   ]
  },
  {
   "cell_type": "code",
   "execution_count": 21,
   "id": "f20d20ed",
   "metadata": {},
   "outputs": [
    {
     "data": {
      "text/plain": [
       "0.17210739127288283"
      ]
     },
     "execution_count": 21,
     "metadata": {},
     "output_type": "execute_result"
    }
   ],
   "source": [
    "model_XGB = XGBRegressor(n_estimators=100,\n",
    "                         max_depth=4,\n",
    "                        learning_rate=0.1)\n",
    "results = cross_validate(model_XGB, X_train_new, y_train, cv=5, scoring=rmse)\n",
    "results['test_score'].mean()"
   ]
  },
  {
   "cell_type": "code",
   "execution_count": 22,
   "id": "19a98cb6",
   "metadata": {},
   "outputs": [],
   "source": [
    "model_XGB.fit(X_train_new, y_train)\n",
    "y_pred = model_XGB.predict(X_test_new)"
   ]
  },
  {
   "cell_type": "code",
   "execution_count": 23,
   "id": "e29df166",
   "metadata": {},
   "outputs": [
    {
     "data": {
      "text/plain": [
       "2086.1630322877695"
      ]
     },
     "execution_count": 23,
     "metadata": {},
     "output_type": "execute_result"
    }
   ],
   "source": [
    "mean_absolute_error(y_test,y_pred)"
   ]
  },
  {
   "cell_type": "code",
   "execution_count": 77,
   "id": "ded7df29",
   "metadata": {},
   "outputs": [
    {
     "data": {
      "text/html": [
       "<style>#sk-container-id-7 {color: black;background-color: white;}#sk-container-id-7 pre{padding: 0;}#sk-container-id-7 div.sk-toggleable {background-color: white;}#sk-container-id-7 label.sk-toggleable__label {cursor: pointer;display: block;width: 100%;margin-bottom: 0;padding: 0.3em;box-sizing: border-box;text-align: center;}#sk-container-id-7 label.sk-toggleable__label-arrow:before {content: \"▸\";float: left;margin-right: 0.25em;color: #696969;}#sk-container-id-7 label.sk-toggleable__label-arrow:hover:before {color: black;}#sk-container-id-7 div.sk-estimator:hover label.sk-toggleable__label-arrow:before {color: black;}#sk-container-id-7 div.sk-toggleable__content {max-height: 0;max-width: 0;overflow: hidden;text-align: left;background-color: #f0f8ff;}#sk-container-id-7 div.sk-toggleable__content pre {margin: 0.2em;color: black;border-radius: 0.25em;background-color: #f0f8ff;}#sk-container-id-7 input.sk-toggleable__control:checked~div.sk-toggleable__content {max-height: 200px;max-width: 100%;overflow: auto;}#sk-container-id-7 input.sk-toggleable__control:checked~label.sk-toggleable__label-arrow:before {content: \"▾\";}#sk-container-id-7 div.sk-estimator input.sk-toggleable__control:checked~label.sk-toggleable__label {background-color: #d4ebff;}#sk-container-id-7 div.sk-label input.sk-toggleable__control:checked~label.sk-toggleable__label {background-color: #d4ebff;}#sk-container-id-7 input.sk-hidden--visually {border: 0;clip: rect(1px 1px 1px 1px);clip: rect(1px, 1px, 1px, 1px);height: 1px;margin: -1px;overflow: hidden;padding: 0;position: absolute;width: 1px;}#sk-container-id-7 div.sk-estimator {font-family: monospace;background-color: #f0f8ff;border: 1px dotted black;border-radius: 0.25em;box-sizing: border-box;margin-bottom: 0.5em;}#sk-container-id-7 div.sk-estimator:hover {background-color: #d4ebff;}#sk-container-id-7 div.sk-parallel-item::after {content: \"\";width: 100%;border-bottom: 1px solid gray;flex-grow: 1;}#sk-container-id-7 div.sk-label:hover label.sk-toggleable__label {background-color: #d4ebff;}#sk-container-id-7 div.sk-serial::before {content: \"\";position: absolute;border-left: 1px solid gray;box-sizing: border-box;top: 0;bottom: 0;left: 50%;z-index: 0;}#sk-container-id-7 div.sk-serial {display: flex;flex-direction: column;align-items: center;background-color: white;padding-right: 0.2em;padding-left: 0.2em;position: relative;}#sk-container-id-7 div.sk-item {position: relative;z-index: 1;}#sk-container-id-7 div.sk-parallel {display: flex;align-items: stretch;justify-content: center;background-color: white;position: relative;}#sk-container-id-7 div.sk-item::before, #sk-container-id-7 div.sk-parallel-item::before {content: \"\";position: absolute;border-left: 1px solid gray;box-sizing: border-box;top: 0;bottom: 0;left: 50%;z-index: -1;}#sk-container-id-7 div.sk-parallel-item {display: flex;flex-direction: column;z-index: 1;position: relative;background-color: white;}#sk-container-id-7 div.sk-parallel-item:first-child::after {align-self: flex-end;width: 50%;}#sk-container-id-7 div.sk-parallel-item:last-child::after {align-self: flex-start;width: 50%;}#sk-container-id-7 div.sk-parallel-item:only-child::after {width: 0;}#sk-container-id-7 div.sk-dashed-wrapped {border: 1px dashed gray;margin: 0 0.4em 0.5em 0.4em;box-sizing: border-box;padding-bottom: 0.4em;background-color: white;}#sk-container-id-7 div.sk-label label {font-family: monospace;font-weight: bold;display: inline-block;line-height: 1.2em;}#sk-container-id-7 div.sk-label-container {text-align: center;}#sk-container-id-7 div.sk-container {/* jupyter's `normalize.less` sets `[hidden] { display: none; }` but bootstrap.min.css set `[hidden] { display: none !important; }` so we also need the `!important` here to be able to override the default hidden behavior on the sphinx rendered scikit-learn.org. See: https://github.com/scikit-learn/scikit-learn/issues/21755 */display: inline-block !important;position: relative;}#sk-container-id-7 div.sk-text-repr-fallback {display: none;}</style><div id=\"sk-container-id-7\" class=\"sk-top-container\"><div class=\"sk-text-repr-fallback\"><pre>RandomizedSearchCV(cv=5,\n",
       "                   estimator=XGBRegressor(base_score=0.5, booster=&#x27;gbtree&#x27;,\n",
       "                                          callbacks=None, colsample_bylevel=1,\n",
       "                                          colsample_bynode=1,\n",
       "                                          colsample_bytree=1,\n",
       "                                          early_stopping_rounds=None,\n",
       "                                          enable_categorical=False,\n",
       "                                          eval_metric=None, gamma=0, gpu_id=-1,\n",
       "                                          grow_policy=&#x27;depthwise&#x27;,\n",
       "                                          importance_type=None,\n",
       "                                          interaction_constraints=&#x27;&#x27;,\n",
       "                                          learning_rate=0.1, max_bin=256,\n",
       "                                          max_cat_t...\n",
       "                                          max_depth=4, max_leaves=0,\n",
       "                                          min_child_weight=1, missing=nan,\n",
       "                                          monotone_constraints=&#x27;()&#x27;,\n",
       "                                          n_estimators=100, n_jobs=0,\n",
       "                                          num_parallel_tree=1, predictor=&#x27;auto&#x27;,\n",
       "                                          random_state=0, reg_alpha=0,\n",
       "                                          reg_lambda=1, ...),\n",
       "                   n_jobs=-1,\n",
       "                   param_distributions={&#x27;learning_rate&#x27;: [0.01, 0.02, 0.001],\n",
       "                                        &#x27;max_depth&#x27;: [7, 10, 15],\n",
       "                                        &#x27;n_estimators&#x27;: [100, 150, 200]},\n",
       "                   scoring=make_scorer(mean_squared_log_error, squared=False))</pre><b>In a Jupyter environment, please rerun this cell to show the HTML representation or trust the notebook. <br />On GitHub, the HTML representation is unable to render, please try loading this page with nbviewer.org.</b></div><div class=\"sk-container\" hidden><div class=\"sk-item sk-dashed-wrapped\"><div class=\"sk-label-container\"><div class=\"sk-label sk-toggleable\"><input class=\"sk-toggleable__control sk-hidden--visually\" id=\"sk-estimator-id-17\" type=\"checkbox\" ><label for=\"sk-estimator-id-17\" class=\"sk-toggleable__label sk-toggleable__label-arrow\">RandomizedSearchCV</label><div class=\"sk-toggleable__content\"><pre>RandomizedSearchCV(cv=5,\n",
       "                   estimator=XGBRegressor(base_score=0.5, booster=&#x27;gbtree&#x27;,\n",
       "                                          callbacks=None, colsample_bylevel=1,\n",
       "                                          colsample_bynode=1,\n",
       "                                          colsample_bytree=1,\n",
       "                                          early_stopping_rounds=None,\n",
       "                                          enable_categorical=False,\n",
       "                                          eval_metric=None, gamma=0, gpu_id=-1,\n",
       "                                          grow_policy=&#x27;depthwise&#x27;,\n",
       "                                          importance_type=None,\n",
       "                                          interaction_constraints=&#x27;&#x27;,\n",
       "                                          learning_rate=0.1, max_bin=256,\n",
       "                                          max_cat_t...\n",
       "                                          max_depth=4, max_leaves=0,\n",
       "                                          min_child_weight=1, missing=nan,\n",
       "                                          monotone_constraints=&#x27;()&#x27;,\n",
       "                                          n_estimators=100, n_jobs=0,\n",
       "                                          num_parallel_tree=1, predictor=&#x27;auto&#x27;,\n",
       "                                          random_state=0, reg_alpha=0,\n",
       "                                          reg_lambda=1, ...),\n",
       "                   n_jobs=-1,\n",
       "                   param_distributions={&#x27;learning_rate&#x27;: [0.01, 0.02, 0.001],\n",
       "                                        &#x27;max_depth&#x27;: [7, 10, 15],\n",
       "                                        &#x27;n_estimators&#x27;: [100, 150, 200]},\n",
       "                   scoring=make_scorer(mean_squared_log_error, squared=False))</pre></div></div></div><div class=\"sk-parallel\"><div class=\"sk-parallel-item\"><div class=\"sk-item\"><div class=\"sk-label-container\"><div class=\"sk-label sk-toggleable\"><input class=\"sk-toggleable__control sk-hidden--visually\" id=\"sk-estimator-id-18\" type=\"checkbox\" ><label for=\"sk-estimator-id-18\" class=\"sk-toggleable__label sk-toggleable__label-arrow\">estimator: XGBRegressor</label><div class=\"sk-toggleable__content\"><pre>XGBRegressor(base_score=0.5, booster=&#x27;gbtree&#x27;, callbacks=None,\n",
       "             colsample_bylevel=1, colsample_bynode=1, colsample_bytree=1,\n",
       "             early_stopping_rounds=None, enable_categorical=False,\n",
       "             eval_metric=None, gamma=0, gpu_id=-1, grow_policy=&#x27;depthwise&#x27;,\n",
       "             importance_type=None, interaction_constraints=&#x27;&#x27;,\n",
       "             learning_rate=0.1, max_bin=256, max_cat_to_onehot=4,\n",
       "             max_delta_step=0, max_depth=4, max_leaves=0, min_child_weight=1,\n",
       "             missing=nan, monotone_constraints=&#x27;()&#x27;, n_estimators=100, n_jobs=0,\n",
       "             num_parallel_tree=1, predictor=&#x27;auto&#x27;, random_state=0, reg_alpha=0,\n",
       "             reg_lambda=1, ...)</pre></div></div></div><div class=\"sk-serial\"><div class=\"sk-item\"><div class=\"sk-estimator sk-toggleable\"><input class=\"sk-toggleable__control sk-hidden--visually\" id=\"sk-estimator-id-19\" type=\"checkbox\" ><label for=\"sk-estimator-id-19\" class=\"sk-toggleable__label sk-toggleable__label-arrow\">XGBRegressor</label><div class=\"sk-toggleable__content\"><pre>XGBRegressor(base_score=0.5, booster=&#x27;gbtree&#x27;, callbacks=None,\n",
       "             colsample_bylevel=1, colsample_bynode=1, colsample_bytree=1,\n",
       "             early_stopping_rounds=None, enable_categorical=False,\n",
       "             eval_metric=None, gamma=0, gpu_id=-1, grow_policy=&#x27;depthwise&#x27;,\n",
       "             importance_type=None, interaction_constraints=&#x27;&#x27;,\n",
       "             learning_rate=0.1, max_bin=256, max_cat_to_onehot=4,\n",
       "             max_delta_step=0, max_depth=4, max_leaves=0, min_child_weight=1,\n",
       "             missing=nan, monotone_constraints=&#x27;()&#x27;, n_estimators=100, n_jobs=0,\n",
       "             num_parallel_tree=1, predictor=&#x27;auto&#x27;, random_state=0, reg_alpha=0,\n",
       "             reg_lambda=1, ...)</pre></div></div></div></div></div></div></div></div></div></div>"
      ],
      "text/plain": [
       "RandomizedSearchCV(cv=5,\n",
       "                   estimator=XGBRegressor(base_score=0.5, booster='gbtree',\n",
       "                                          callbacks=None, colsample_bylevel=1,\n",
       "                                          colsample_bynode=1,\n",
       "                                          colsample_bytree=1,\n",
       "                                          early_stopping_rounds=None,\n",
       "                                          enable_categorical=False,\n",
       "                                          eval_metric=None, gamma=0, gpu_id=-1,\n",
       "                                          grow_policy='depthwise',\n",
       "                                          importance_type=None,\n",
       "                                          interaction_constraints='',\n",
       "                                          learning_rate=0.1, max_bin=256,\n",
       "                                          max_cat_t...\n",
       "                                          max_depth=4, max_leaves=0,\n",
       "                                          min_child_weight=1, missing=nan,\n",
       "                                          monotone_constraints='()',\n",
       "                                          n_estimators=100, n_jobs=0,\n",
       "                                          num_parallel_tree=1, predictor='auto',\n",
       "                                          random_state=0, reg_alpha=0,\n",
       "                                          reg_lambda=1, ...),\n",
       "                   n_jobs=-1,\n",
       "                   param_distributions={'learning_rate': [0.01, 0.02, 0.001],\n",
       "                                        'max_depth': [7, 10, 15],\n",
       "                                        'n_estimators': [100, 150, 200]},\n",
       "                   scoring=make_scorer(mean_squared_log_error, squared=False))"
      ]
     },
     "execution_count": 77,
     "metadata": {},
     "output_type": "execute_result"
    }
   ],
   "source": [
    "model_tuning = RandomForestRegressor()\n",
    "\n",
    "grid = {\n",
    "    'n_estimators': [100,150,200], \n",
    "    'max_depth': [7, 10, 15],\n",
    "    'learning_rate': [0.01, 0.02]\n",
    "}\n",
    "\n",
    "search = RandomizedSearchCV(\n",
    "    model_XGB,\n",
    "    grid, \n",
    "    scoring = rmse,\n",
    "    cv = 5,\n",
    "    n_jobs=-1\n",
    ") \n",
    "\n",
    "search.fit(X_train_new, y_train)"
   ]
  },
  {
   "cell_type": "code",
   "execution_count": 84,
   "id": "06fb9006",
   "metadata": {},
   "outputs": [
    {
     "data": {
      "text/plain": [
       "{'n_estimators': 150, 'max_depth': 15, 'learning_rate': 0.001}"
      ]
     },
     "execution_count": 84,
     "metadata": {},
     "output_type": "execute_result"
    }
   ],
   "source": [
    "search.best_params_"
   ]
  },
  {
   "cell_type": "code",
   "execution_count": 78,
   "id": "a8a2db3e",
   "metadata": {},
   "outputs": [
    {
     "data": {
      "text/plain": [
       "1.9695969556441715"
      ]
     },
     "execution_count": 78,
     "metadata": {},
     "output_type": "execute_result"
    }
   ],
   "source": [
    "search.best_score_"
   ]
  },
  {
   "cell_type": "code",
   "execution_count": 79,
   "id": "d5c55f57",
   "metadata": {},
   "outputs": [],
   "source": [
    "model=search.best_estimator_"
   ]
  },
  {
   "cell_type": "code",
   "execution_count": 80,
   "id": "f176d440",
   "metadata": {},
   "outputs": [],
   "source": [
    "y_pred = model.predict(X_test_new)"
   ]
  },
  {
   "cell_type": "code",
   "execution_count": 81,
   "id": "6c60bed9",
   "metadata": {},
   "outputs": [
    {
     "data": {
      "text/plain": [
       "13670.808474704352"
      ]
     },
     "execution_count": 81,
     "metadata": {},
     "output_type": "execute_result"
    }
   ],
   "source": [
    "mean_absolute_error(y_test,y_pred)"
   ]
  },
  {
   "cell_type": "code",
   "execution_count": 82,
   "id": "721c7602",
   "metadata": {},
   "outputs": [
    {
     "data": {
      "text/plain": [
       "array([2668.069 , 4792.544 , 4309.6104, ..., 3691.6658, 3447.169 ,\n",
       "       1118.6322], dtype=float32)"
      ]
     },
     "execution_count": 82,
     "metadata": {},
     "output_type": "execute_result"
    }
   ],
   "source": [
    "y_pred"
   ]
  },
  {
   "cell_type": "code",
   "execution_count": 83,
   "id": "32f3290b",
   "metadata": {},
   "outputs": [
    {
     "data": {
      "text/plain": [
       "15150    22800\n",
       "2769     32000\n",
       "5624     22000\n",
       "20165     6300\n",
       "20753    27000\n",
       "         ...  \n",
       "9966      8200\n",
       "6168      5000\n",
       "12439    20800\n",
       "10972    24000\n",
       "1312      7500\n",
       "Name: Price, Length: 6871, dtype: int32"
      ]
     },
     "execution_count": 83,
     "metadata": {},
     "output_type": "execute_result"
    }
   ],
   "source": [
    "y_test"
   ]
  },
  {
   "cell_type": "markdown",
   "id": "c985b1b6",
   "metadata": {},
   "source": [
    "# Try only 10 columns "
   ]
  },
  {
   "cell_type": "code",
   "execution_count": null,
   "id": "f683a300",
   "metadata": {},
   "outputs": [],
   "source": [
    "oe_features = ['Furnished']\n",
    "oe = OrdinalEncoder(categories=[['Unfurnished', 'Furnished']],handle_unknown='error')\n",
    "data['Furnished'] = oe.fit_transform(data[oe_features])"
   ]
  },
  {
   "cell_type": "code",
   "execution_count": null,
   "id": "c5d2cc0f",
   "metadata": {},
   "outputs": [],
   "source": [
    "ohe_feature = ['Metro','District']\n",
    "ohe = OneHotEncoder(handle_unknown='error',sparse=False)\n",
    "ohe.fit(data[ohe_feature])\n",
    "ohe_new = pd.DataFrame(ohe.transform(data[ohe_feature]),\n",
    "         columns=ohe.get_feature_names_out())\n",
    "data.drop(columns=ohe_feature, inplace=True)\n",
    "data = pd.concat([data,ohe_new],axis=1,join='inner')"
   ]
  },
  {
   "cell_type": "code",
   "execution_count": null,
   "id": "57eb688f",
   "metadata": {},
   "outputs": [],
   "source": []
  },
  {
   "cell_type": "code",
   "execution_count": 47,
   "id": "25789f09",
   "metadata": {},
   "outputs": [
    {
     "data": {
      "text/plain": [
       "Size                         0.865318\n",
       "N_Bedrooms                   0.777417\n",
       "N_Bathrooms                  0.748154\n",
       "Pool                         0.492255\n",
       "Fitness Centers              0.487969\n",
       "Playground                   0.481926\n",
       "Floor Heating                0.461390\n",
       "Tennis Courts                0.409063\n",
       "Parking                      0.405901\n",
       "Floor                        0.358734\n",
       "Oven                         0.325565\n",
       "Balcony                      0.318123\n",
       "Air Filter                   0.271002\n",
       "Recently renovated           0.263364\n",
       "English Speaking Landlord    0.254386\n",
       "Water Filter                 0.247372\n",
       "Large Storage Room           0.228751\n",
       "Pets_allowed                 0.210268\n",
       "Garden                       0.180584\n",
       "Longtitude                   0.169995\n",
       "District_Pudong              0.151676\n",
       "Metro_Shangcheng Rd          0.146712\n",
       "Wall heating                 0.144796\n",
       "Metro_Lujiazui               0.106178\n",
       "Metro_Lantian Road           0.086597\n",
       "Metro_Xintiandi              0.081667\n",
       "Metro_Laoximen               0.071989\n",
       "Metro_Panlong Rd             0.071091\n",
       "Metro_Fangdian Rd            0.066719\n",
       "Metro_West Nanjing Rd        0.066622\n",
       "Name: Price, dtype: float64"
      ]
     },
     "execution_count": 47,
     "metadata": {},
     "output_type": "execute_result"
    }
   ],
   "source": [
    "data.corr()['Price'].sort_values(ascending=False)[1:31]"
   ]
  },
  {
   "cell_type": "code",
   "execution_count": 10,
   "id": "e0b443f5",
   "metadata": {},
   "outputs": [
    {
     "data": {
      "text/plain": [
       "Index(['Price', 'Size', 'N_Bedrooms', 'N_Bathrooms', 'Available From', 'Floor',\n",
       "       'Furnished', 'District', 'Metro', 'Latitude', 'Longtitude',\n",
       "       'First_post', 'Balcony', 'Landlord lives in Shanghai', 'Oven',\n",
       "       'Recently renovated', 'Air Filter', 'English Speaking Landlord',\n",
       "       'Fitness Centers', 'Floor Heating', 'Garden', 'Historic Building',\n",
       "       'Large Storage Room', 'Parking', 'Playground', 'Pool', 'Tennis Courts',\n",
       "       'Wall heating', 'Water Filter', 'Pets_allowed'],\n",
       "      dtype='object')"
      ]
     },
     "execution_count": 10,
     "metadata": {},
     "output_type": "execute_result"
    }
   ],
   "source": [
    "data.columns"
   ]
  },
  {
   "cell_type": "code",
   "execution_count": 48,
   "id": "bff3605c",
   "metadata": {},
   "outputs": [],
   "source": [
    "#Taking only the top 10 to train\n",
    "top_10_features = data.corr()['Price'].sort_values(ascending=False)[1:31].index.tolist()"
   ]
  },
  {
   "cell_type": "code",
   "execution_count": 49,
   "id": "150e2e81",
   "metadata": {},
   "outputs": [
    {
     "data": {
      "text/plain": [
       "['Size',\n",
       " 'N_Bedrooms',\n",
       " 'N_Bathrooms',\n",
       " 'Pool',\n",
       " 'Fitness Centers',\n",
       " 'Playground',\n",
       " 'Floor Heating',\n",
       " 'Tennis Courts',\n",
       " 'Parking',\n",
       " 'Floor',\n",
       " 'Oven',\n",
       " 'Balcony',\n",
       " 'Air Filter',\n",
       " 'Recently renovated',\n",
       " 'English Speaking Landlord',\n",
       " 'Water Filter',\n",
       " 'Large Storage Room',\n",
       " 'Pets_allowed',\n",
       " 'Garden',\n",
       " 'Longtitude',\n",
       " 'District_Pudong',\n",
       " 'Metro_Shangcheng Rd',\n",
       " 'Wall heating',\n",
       " 'Metro_Lujiazui',\n",
       " 'Metro_Lantian Road',\n",
       " 'Metro_Xintiandi',\n",
       " 'Metro_Laoximen',\n",
       " 'Metro_Panlong Rd',\n",
       " 'Metro_Fangdian Rd',\n",
       " 'Metro_West Nanjing Rd']"
      ]
     },
     "execution_count": 49,
     "metadata": {},
     "output_type": "execute_result"
    }
   ],
   "source": [
    "top_10_features"
   ]
  },
  {
   "cell_type": "code",
   "execution_count": 50,
   "id": "ac339b71",
   "metadata": {},
   "outputs": [],
   "source": [
    "X = data[top_10_features]\n",
    "y = data['Price']"
   ]
  },
  {
   "cell_type": "code",
   "execution_count": 51,
   "id": "fd381412",
   "metadata": {},
   "outputs": [],
   "source": [
    "X_train_10, X_test_10, y_train_10, y_test_10 = train_test_split(X, y, test_size=0.3)"
   ]
  },
  {
   "cell_type": "code",
   "execution_count": 52,
   "id": "faeb1503",
   "metadata": {},
   "outputs": [],
   "source": [
    "scalar = MinMaxScaler()\n",
    "X_train_10_new, X_test_10_new = scalar.fit_transform(X_train_10), scalar.transform(X_test_10)"
   ]
  },
  {
   "cell_type": "code",
   "execution_count": 53,
   "id": "660bdb87",
   "metadata": {},
   "outputs": [
    {
     "data": {
      "text/plain": [
       "0.19513057678874385"
      ]
     },
     "execution_count": 53,
     "metadata": {},
     "output_type": "execute_result"
    }
   ],
   "source": [
    "model_DTR = DecisionTreeRegressor()\n",
    "results = cross_validate(model_DTR, X_train_10_new, y_train_10, cv=5, scoring=rmse)\n",
    "results['test_score'].mean()"
   ]
  },
  {
   "cell_type": "code",
   "execution_count": null,
   "id": "a4048f49",
   "metadata": {},
   "outputs": [],
   "source": []
  },
  {
   "cell_type": "code",
   "execution_count": 24,
   "id": "5b6a085a",
   "metadata": {},
   "outputs": [],
   "source": []
  },
  {
   "cell_type": "code",
   "execution_count": 27,
   "id": "382d8cff",
   "metadata": {},
   "outputs": [
    {
     "name": "stderr",
     "output_type": "stream",
     "text": [
      "/root/.pyenv/versions/3.10.6/envs/lewagon/lib/python3.10/site-packages/sklearn/preprocessing/_encoders.py:828: FutureWarning: `sparse` was renamed to `sparse_output` in version 1.2 and will be removed in 1.4. `sparse_output` is ignored unless you leave `sparse` to its default value.\n",
      "  warnings.warn(\n"
     ]
    }
   ],
   "source": []
  },
  {
   "cell_type": "code",
   "execution_count": 43,
   "id": "dbe75359",
   "metadata": {},
   "outputs": [],
   "source": []
  },
  {
   "cell_type": "code",
   "execution_count": 97,
   "id": "a4fb7f0f",
   "metadata": {},
   "outputs": [
    {
     "data": {
      "text/plain": [
       "0.6459091966150202"
      ]
     },
     "execution_count": 97,
     "metadata": {},
     "output_type": "execute_result"
    }
   ],
   "source": []
  },
  {
   "cell_type": "code",
   "execution_count": 57,
   "id": "c6b33360",
   "metadata": {},
   "outputs": [
    {
     "data": {
      "text/plain": [
       "1618.3758380913025"
      ]
     },
     "execution_count": 57,
     "metadata": {},
     "output_type": "execute_result"
    }
   ],
   "source": [
    "model_DTR.fit(X_train_10_new, y_train_10)\n",
    "y_DTR = model_DTR.predict(X_test_10_new)\n",
    "mean_absolute_error(y_test_10,y_DTR)"
   ]
  },
  {
   "cell_type": "code",
   "execution_count": null,
   "id": "4c49a588",
   "metadata": {},
   "outputs": [],
   "source": []
  }
 ],
 "metadata": {
  "kernelspec": {
   "display_name": "Python 3 (ipykernel)",
   "language": "python",
   "name": "python3"
  },
  "language_info": {
   "codemirror_mode": {
    "name": "ipython",
    "version": 3
   },
   "file_extension": ".py",
   "mimetype": "text/x-python",
   "name": "python",
   "nbconvert_exporter": "python",
   "pygments_lexer": "ipython3",
   "version": "3.10.6"
  },
  "toc": {
   "base_numbering": 1,
   "nav_menu": {},
   "number_sections": true,
   "sideBar": true,
   "skip_h1_title": false,
   "title_cell": "Table of Contents",
   "title_sidebar": "Contents",
   "toc_cell": false,
   "toc_position": {},
   "toc_section_display": true,
   "toc_window_display": false
  }
 },
 "nbformat": 4,
 "nbformat_minor": 5
}
